{
 "cells": [
  {
   "cell_type": "code",
   "execution_count": 1,
   "metadata": {},
   "outputs": [],
   "source": [
    "from CompoSuite import composuite\n",
    "from diffusion.utils import *\n",
    "from CORL.algorithms.offline.td3_bc import *\n",
    "from CORL.shared.buffer import *\n",
    "from CORL.shared.logger import *\n",
    "\n",
    "base_data_path = '/Users/shubhankar/Developer/compositional-rl-synth-data/data'\n",
    "base_results_folder = '/Users/shubhankar/Developer/compositional-rl-synth-data/results'"
   ]
  },
  {
   "cell_type": "code",
   "execution_count": 2,
   "metadata": {},
   "outputs": [],
   "source": [
    "def get_model_weights_norm(model):\n",
    "    \"\"\"\n",
    "    Compute L2 norm of the model weights.\n",
    "    \"\"\"\n",
    "    \n",
    "    total_norm = 0.0\n",
    "    for param in model.parameters():\n",
    "        if param.requires_grad:\n",
    "            param_norm = param.data.norm(2)\n",
    "            total_norm += param_norm.item() ** 2\n",
    "    total_norm = total_norm ** 0.5\n",
    "\n",
    "    return total_norm"
   ]
  },
  {
   "cell_type": "code",
   "execution_count": 3,
   "metadata": {},
   "outputs": [
    {
     "name": "stderr",
     "output_type": "stream",
     "text": [
      "/Users/shubhankar/Developer/compositional-rl-synth-data/.venv/lib/python3.9/site-packages/gym/spaces/box.py:128: UserWarning: \u001b[33mWARN: Box bound precision lowered by casting to float32\u001b[0m\n",
      "  logger.warn(f\"Box bound precision lowered by casting to {self.dtype}\")\n"
     ]
    }
   ],
   "source": [
    "dataset_type = 'expert-iiwa-offline-comp-data'\n",
    "\n",
    "robot = 'IIWA'\n",
    "obj = 'Box'\n",
    "obst = 'None'\n",
    "task = 'Push'\n",
    "\n",
    "env = composuite.make(robot, obj, obst, task, use_task_id_obs=True, ignore_done=False)\n",
    "\n",
    "state_dim = env.observation_space.shape[0]\n",
    "action_dim = env.action_space.shape[0]\n",
    "\n",
    "dataset = load_single_composuite_dataset(base_path=base_data_path, \n",
    "                                         dataset_type=dataset_type, \n",
    "                                         robot=robot, obj=obj, \n",
    "                                         obst=obst, task=task)\n",
    "dataset = transitions_dataset(dataset)"
   ]
  },
  {
   "cell_type": "code",
   "execution_count": 4,
   "metadata": {},
   "outputs": [],
   "source": [
    "state_mean, state_std = compute_mean_std(dataset[\"observations\"], eps=1e-3)\n",
    "env = wrap_env(env, state_mean=state_mean, state_std=state_std)"
   ]
  },
  {
   "cell_type": "code",
   "execution_count": 5,
   "metadata": {},
   "outputs": [
    {
     "name": "stdout",
     "output_type": "stream",
     "text": [
      "Loading diffusion dataset.\n",
      "Dataset size: 100000\n"
     ]
    }
   ],
   "source": [
    "config = TrainConfig()\n",
    "\n",
    "config.device = \"cpu\"\n",
    "config.env = \"iiwa-box-none-push\"\n",
    "config.diffusion.path = \"results/IIWA_Box_None_Push/samples.npz\"\n",
    "\n",
    "replay_buffer = prepare_replay_buffer(\n",
    "    state_dim=state_dim,\n",
    "    action_dim=action_dim,\n",
    "    buffer_size=config.buffer_size,\n",
    "    dataset=dataset,\n",
    "    env_name=config.env,\n",
    "    device=config.device,\n",
    "    reward_normalizer=RewardNormalizer(dataset, config.env) if config.normalize_reward else None,\n",
    "    state_normalizer=StateNormalizer(state_mean, state_std),\n",
    "    diffusion_config=config.diffusion\n",
    "    )"
   ]
  },
  {
   "cell_type": "code",
   "execution_count": 6,
   "metadata": {},
   "outputs": [],
   "source": [
    "max_action = float(env.action_space.high[0])"
   ]
  },
  {
   "cell_type": "code",
   "execution_count": 7,
   "metadata": {},
   "outputs": [],
   "source": [
    "logger = Logger('/tmp', seed=config.seed)\n",
    "\n",
    "# Set seeds\n",
    "seed = config.seed\n",
    "set_seed(seed, env)\n",
    "\n",
    "actor = Actor(state_dim, action_dim, max_action, hidden_dim=config.network_width, n_hidden=config.network_depth).to(config.device)\n",
    "actor_optimizer = torch.optim.Adam(actor.parameters(), lr=3e-4)\n",
    "\n",
    "critic_1 = Critic(state_dim, action_dim, hidden_dim=config.network_width, n_hidden=config.network_depth).to(config.device)\n",
    "critic_1_optimizer = torch.optim.Adam(critic_1.parameters(), lr=3e-4)\n",
    "critic_2 = Critic(state_dim, action_dim, hidden_dim=config.network_width, n_hidden=config.network_depth).to(config.device)\n",
    "critic_2_optimizer = torch.optim.Adam(critic_2.parameters(), lr=3e-4)"
   ]
  },
  {
   "cell_type": "code",
   "execution_count": 8,
   "metadata": {},
   "outputs": [
    {
     "name": "stdout",
     "output_type": "stream",
     "text": [
      "----------------------------------------------------\n",
      "Training TD3 + BC, Env: iiwa-box-none-push, Seed: 0\n",
      "----------------------------------------------------\n"
     ]
    }
   ],
   "source": [
    "kwargs = {\n",
    "    \"max_action\": max_action,\n",
    "    \"actor\": actor,\n",
    "    \"actor_optimizer\": actor_optimizer,\n",
    "    \"critic_1\": critic_1,\n",
    "    \"critic_1_optimizer\": critic_1_optimizer,\n",
    "    \"critic_2\": critic_2,\n",
    "    \"critic_2_optimizer\": critic_2_optimizer,\n",
    "    \"discount\": config.discount,\n",
    "    \"tau\": config.tau,\n",
    "    \"device\": config.device,\n",
    "    # TD3\n",
    "    \"policy_noise\": config.policy_noise * max_action,\n",
    "    \"noise_clip\": config.noise_clip * max_action,\n",
    "    \"policy_freq\": config.policy_freq,\n",
    "    # TD3 + BC\n",
    "    \"alpha\": config.alpha,\n",
    "}\n",
    "\n",
    "print(\"----------------------------------------------------\")\n",
    "print(f\"Training TD3 + BC, Env: {config.env}, Seed: {seed}\")\n",
    "print(\"----------------------------------------------------\")\n",
    "\n",
    "# Initialize actor\n",
    "trainer = TD3_BC(**kwargs)"
   ]
  },
  {
   "cell_type": "code",
   "execution_count": 9,
   "metadata": {},
   "outputs": [
    {
     "name": "stdout",
     "output_type": "stream",
     "text": [
      "Actor norm: 13.19299666969193\n",
      "Critic 1 norm: 13.155180289335997\n",
      "Critic 2 norm: 13.114130705451856\n",
      "Time steps: 1\n"
     ]
    },
    {
     "name": "stderr",
     "output_type": "stream",
     "text": [
      "Evaluating actor: 100%|██████████| 10/10 [00:18<00:00,  1.88s/it]\n"
     ]
    },
    {
     "name": "stdout",
     "output_type": "stream",
     "text": [
      "------------------------------------------------\n",
      "Evaluation over 10 episodes: 0.089\n",
      "------------------------------------------------\n",
      "Actor norm: 15.08174433063142\n",
      "Critic 1 norm: 65.83032761685512\n",
      "Critic 2 norm: 65.75891002053643\n",
      "Time steps: 5001\n"
     ]
    },
    {
     "name": "stderr",
     "output_type": "stream",
     "text": [
      "Evaluating actor: 100%|██████████| 10/10 [00:16<00:00,  1.67s/it]\n"
     ]
    },
    {
     "name": "stdout",
     "output_type": "stream",
     "text": [
      "------------------------------------------------\n",
      "Evaluation over 10 episodes: 9.201\n",
      "------------------------------------------------\n",
      "Actor norm: 17.62735111869298\n",
      "Critic 1 norm: 236.27942610319982\n",
      "Critic 2 norm: 236.77336742861152\n",
      "Time steps: 10001\n"
     ]
    },
    {
     "name": "stderr",
     "output_type": "stream",
     "text": [
      "Evaluating actor: 100%|██████████| 10/10 [00:15<00:00,  1.53s/it]\n"
     ]
    },
    {
     "name": "stdout",
     "output_type": "stream",
     "text": [
      "------------------------------------------------\n",
      "Evaluation over 10 episodes: 11.653\n",
      "------------------------------------------------\n",
      "Actor norm: 20.29941948910086\n",
      "Critic 1 norm: 711.4182520323676\n",
      "Critic 2 norm: 708.0150425994506\n",
      "Time steps: 15001\n"
     ]
    },
    {
     "name": "stderr",
     "output_type": "stream",
     "text": [
      "Evaluating actor: 100%|██████████| 10/10 [00:13<00:00,  1.39s/it]\n"
     ]
    },
    {
     "name": "stdout",
     "output_type": "stream",
     "text": [
      "------------------------------------------------\n",
      "Evaluation over 10 episodes: 11.311\n",
      "------------------------------------------------\n",
      "Actor norm: 22.82956916520786\n",
      "Critic 1 norm: 1195.0958473827764\n",
      "Critic 2 norm: 1187.5355087988928\n",
      "Time steps: 20001\n"
     ]
    },
    {
     "name": "stderr",
     "output_type": "stream",
     "text": [
      "Evaluating actor: 100%|██████████| 10/10 [00:14<00:00,  1.48s/it]\n"
     ]
    },
    {
     "name": "stdout",
     "output_type": "stream",
     "text": [
      "------------------------------------------------\n",
      "Evaluation over 10 episodes: 9.194\n",
      "------------------------------------------------\n",
      "Actor norm: 25.129045527570405\n",
      "Critic 1 norm: 1615.0450040124801\n",
      "Critic 2 norm: 1604.727885858945\n",
      "Time steps: 25001\n"
     ]
    },
    {
     "name": "stderr",
     "output_type": "stream",
     "text": [
      "Evaluating actor: 100%|██████████| 10/10 [00:13<00:00,  1.35s/it]\n"
     ]
    },
    {
     "name": "stdout",
     "output_type": "stream",
     "text": [
      "------------------------------------------------\n",
      "Evaluation over 10 episodes: 10.441\n",
      "------------------------------------------------\n",
      "Actor norm: 27.227453842504868\n",
      "Critic 1 norm: 2009.531343939449\n",
      "Critic 2 norm: 1997.0903095080546\n",
      "Time steps: 30001\n"
     ]
    },
    {
     "name": "stderr",
     "output_type": "stream",
     "text": [
      "Evaluating actor: 100%|██████████| 10/10 [00:13<00:00,  1.38s/it]\n"
     ]
    },
    {
     "name": "stdout",
     "output_type": "stream",
     "text": [
      "------------------------------------------------\n",
      "Evaluation over 10 episodes: 11.799\n",
      "------------------------------------------------\n",
      "Actor norm: 29.151000781507\n",
      "Critic 1 norm: 2392.631730409874\n",
      "Critic 2 norm: 2378.321068114729\n",
      "Time steps: 35001\n"
     ]
    },
    {
     "name": "stderr",
     "output_type": "stream",
     "text": [
      "Evaluating actor: 100%|██████████| 10/10 [00:15<00:00,  1.58s/it]\n"
     ]
    },
    {
     "name": "stdout",
     "output_type": "stream",
     "text": [
      "------------------------------------------------\n",
      "Evaluation over 10 episodes: 11.161\n",
      "------------------------------------------------\n",
      "Actor norm: 30.927704393427643\n",
      "Critic 1 norm: 2771.5984894606568\n",
      "Critic 2 norm: 2755.5558700656416\n",
      "Time steps: 40001\n"
     ]
    },
    {
     "name": "stderr",
     "output_type": "stream",
     "text": [
      "Evaluating actor: 100%|██████████| 10/10 [00:12<00:00,  1.24s/it]\n"
     ]
    },
    {
     "name": "stdout",
     "output_type": "stream",
     "text": [
      "------------------------------------------------\n",
      "Evaluation over 10 episodes: 16.428\n",
      "------------------------------------------------\n",
      "Actor norm: 32.57533102698499\n",
      "Critic 1 norm: 3149.5098039892114\n",
      "Critic 2 norm: 3131.6713722371856\n",
      "Time steps: 45001\n"
     ]
    },
    {
     "name": "stderr",
     "output_type": "stream",
     "text": [
      "Evaluating actor: 100%|██████████| 10/10 [00:13<00:00,  1.40s/it]\n"
     ]
    },
    {
     "name": "stdout",
     "output_type": "stream",
     "text": [
      "------------------------------------------------\n",
      "Evaluation over 10 episodes: 16.040\n",
      "------------------------------------------------\n",
      "Actor norm: 34.118729094739656\n",
      "Critic 1 norm: 3527.123686184603\n",
      "Critic 2 norm: 3507.3105798111656\n",
      "Time steps: 50000\n"
     ]
    },
    {
     "name": "stderr",
     "output_type": "stream",
     "text": [
      "Evaluating actor: 100%|██████████| 10/10 [00:15<00:00,  1.52s/it]"
     ]
    },
    {
     "name": "stdout",
     "output_type": "stream",
     "text": [
      "------------------------------------------------\n",
      "Evaluation over 10 episodes: 12.623\n",
      "------------------------------------------------\n"
     ]
    },
    {
     "name": "stderr",
     "output_type": "stream",
     "text": [
      "\n"
     ]
    }
   ],
   "source": [
    "evaluations = []\n",
    "for t in range(int(config.max_timesteps)):\n",
    "    batch = replay_buffer.sample(config.batch_size)\n",
    "    batch = [b.to(config.device) for b in batch]\n",
    "    log_dict = trainer.train(batch)\n",
    "\n",
    "    if t % config.log_every == 0:\n",
    "        # wandb.log(log_dict, step=trainer.total_it)\n",
    "        logger.log({'step': trainer.total_it, **log_dict}, mode='train')\n",
    "\n",
    "    # Evaluate episode\n",
    "    if t % config.eval_freq == 0 or t == config.max_timesteps - 1:\n",
    "        print(f\"Actor norm: {get_model_weights_norm(actor)}\")\n",
    "        print(f\"Critic 1 norm: {get_model_weights_norm(critic_1)}\")\n",
    "        print(f\"Critic 2 norm: {get_model_weights_norm(critic_2)}\")\n",
    "        print(f\"Time steps: {t + 1}\")\n",
    "        eval_scores = eval_actor(\n",
    "            env,\n",
    "            actor,\n",
    "            device=config.device,\n",
    "            n_episodes=config.n_episodes,\n",
    "            seed=config.seed,\n",
    "        )\n",
    "        eval_score = eval_scores.mean()\n",
    "        evaluations.append(eval_score)\n",
    "        print(\"------------------------------------------------\")\n",
    "        print(\n",
    "            f\"Evaluation over {config.n_episodes} episodes: \"\n",
    "            f\"{eval_score:.3f}\"\n",
    "        )\n",
    "        print(\"------------------------------------------------\")\n",
    "        if config.checkpoints_path is not None and config.save_checkpoints:\n",
    "            torch.save(\n",
    "                trainer.state_dict(),\n",
    "                os.path.join(config.checkpoints_path, f\"checkpoint_{t}.pt\"),\n",
    "            )\n",
    "        log_dict = {\"Score\": eval_score}\n",
    "        # wandb.log(log_dict, step=trainer.total_it)\n",
    "        logger.log({'step': trainer.total_it, **log_dict}, mode='eval')"
   ]
  }
 ],
 "metadata": {
  "kernelspec": {
   "display_name": ".venv",
   "language": "python",
   "name": "python3"
  },
  "language_info": {
   "codemirror_mode": {
    "name": "ipython",
    "version": 3
   },
   "file_extension": ".py",
   "mimetype": "text/x-python",
   "name": "python",
   "nbconvert_exporter": "python",
   "pygments_lexer": "ipython3",
   "version": "3.9.6"
  }
 },
 "nbformat": 4,
 "nbformat_minor": 2
}
