{
 "cells": [
  {
   "cell_type": "code",
   "execution_count": 1,
   "metadata": {},
   "outputs": [],
   "source": [
    "from CompoSuite import composuite\n",
    "from offline_compositional_rl_datasets.utils import data_utils"
   ]
  },
  {
   "cell_type": "code",
   "execution_count": 2,
   "metadata": {},
   "outputs": [],
   "source": [
    "base_path = '/Users/shubhankar/Developer/compositional-rl-synth-data/data'"
   ]
  },
  {
   "cell_type": "code",
   "execution_count": 3,
   "metadata": {},
   "outputs": [
    {
     "name": "stdout",
     "output_type": "stream",
     "text": [
      "Dataset Keys: dict_keys(['observations', 'actions', 'rewards', 'successes', 'terminals', 'timeouts'])\n",
      "Observations: (1000000, 93) \n",
      "Actions: (1000000, 8) \n",
      "Rewards: (1000000,) \n",
      "Successes: (1000000,) \n",
      "Terminals: (1000000,) \n",
      "Timeouts: (1000000,)\n"
     ]
    }
   ],
   "source": [
    "dataset_type = 'expert-iiwa-offline-comp-data'\n",
    "\n",
    "robot = 'IIWA'\n",
    "obj = 'Box'\n",
    "obst = 'None'\n",
    "task = 'Push'\n",
    "\n",
    "data_dict = data_utils.load_single_dataset(base_path=base_path, dataset_type=dataset_type, \n",
    "                                           robot=robot, obj=obj, obst=obst, task=task)\n",
    "\n",
    "print('Dataset Keys:', data_dict.keys())\n",
    "print('Observations:', data_dict['observations'].shape, \n",
    "      '\\nActions:', data_dict['actions'].shape,\n",
    "      '\\nRewards:', data_dict['rewards'].shape,\n",
    "      '\\nSuccesses:', data_dict['successes'].shape,\n",
    "      '\\nTerminals:', data_dict['terminals'].shape,\n",
    "      '\\nTimeouts:', data_dict['timeouts'].shape)"
   ]
  },
  {
   "cell_type": "code",
   "execution_count": 4,
   "metadata": {},
   "outputs": [
    {
     "name": "stdout",
     "output_type": "stream",
     "text": [
      "\u001b[2m2024-11-21 15:02.04\u001b[0m [\u001b[32m\u001b[1minfo     \u001b[0m] \u001b[1mSignatures have been automatically determined.\u001b[0m \u001b[36maction_signature\u001b[0m=\u001b[35mSignature(dtype=[dtype('float32')], shape=[(8,)])\u001b[0m \u001b[36mobservation_signature\u001b[0m=\u001b[35mSignature(dtype=[dtype('float32')], shape=[(93,)])\u001b[0m \u001b[36mreward_signature\u001b[0m=\u001b[35mSignature(dtype=[dtype('float32')], shape=[(1,)])\u001b[0m\n",
      "\u001b[2m2024-11-21 15:02.04\u001b[0m [\u001b[32m\u001b[1minfo     \u001b[0m] \u001b[1mAction-space has been automatically determined.\u001b[0m \u001b[36maction_space\u001b[0m=\u001b[35m<ActionSpace.CONTINUOUS: 1>\u001b[0m\n",
      "\u001b[2m2024-11-21 15:02.04\u001b[0m [\u001b[32m\u001b[1minfo     \u001b[0m] \u001b[1mAction size has been automatically determined.\u001b[0m \u001b[36maction_size\u001b[0m=\u001b[35m8\u001b[0m\n"
     ]
    }
   ],
   "source": [
    "mdp_dataset = data_utils.dataset_to_mdpdataset(data_dict)"
   ]
  },
  {
   "cell_type": "code",
   "execution_count": 5,
   "metadata": {},
   "outputs": [
    {
     "name": "stderr",
     "output_type": "stream",
     "text": [
      "/Users/shubhankar/Developer/compositional-rl-synth-data/.venv/lib/python3.9/site-packages/gym/spaces/box.py:127: UserWarning: \u001b[33mWARN: Box bound precision lowered by casting to float32\u001b[0m\n",
      "  logger.warn(f\"Box bound precision lowered by casting to {self.dtype}\")\n"
     ]
    }
   ],
   "source": [
    "env = composuite.make(robot=robot, obj=obj, obstacle=obst, task=task)"
   ]
  }
 ],
 "metadata": {
  "kernelspec": {
   "display_name": ".venv",
   "language": "python",
   "name": "python3"
  },
  "language_info": {
   "codemirror_mode": {
    "name": "ipython",
    "version": 3
   },
   "file_extension": ".py",
   "mimetype": "text/x-python",
   "name": "python",
   "nbconvert_exporter": "python",
   "pygments_lexer": "ipython3",
   "version": "3.9.6"
  }
 },
 "nbformat": 4,
 "nbformat_minor": 2
}
