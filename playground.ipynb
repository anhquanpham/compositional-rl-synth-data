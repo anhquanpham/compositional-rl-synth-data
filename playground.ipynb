{
 "cells": [
  {
   "cell_type": "code",
   "execution_count": null,
   "metadata": {},
   "outputs": [],
   "source": [
    "from composuite import composuite\n",
    "from offline_compositional_rl_datasets.utils import data_utils"
   ]
  },
  {
   "cell_type": "code",
   "execution_count": null,
   "metadata": {},
   "outputs": [],
   "source": [
    "base_path = '/Users/shubhankar/Developer/compositional-rl-synth-data/data'"
   ]
  },
  {
   "cell_type": "code",
   "execution_count": null,
   "metadata": {},
   "outputs": [],
   "source": [
    "dataset_type = 'expert-iiwa-offline-comp-data'\n",
    "\n",
    "robot = 'IIWA'\n",
    "obj = 'Box'\n",
    "obst = 'None'\n",
    "task = 'Push'\n",
    "\n",
    "data_dict = data_utils.load_single_dataset(base_path=base_path, dataset_type=dataset_type, \n",
    "                                           robot=robot, obj=obj, obst=obst, task=task)\n",
    "\n",
    "print('Dataset Keys:', data_dict.keys())\n",
    "print('Observations:', data_dict['observations'].shape, \n",
    "      '\\nActions:', data_dict['actions'].shape,\n",
    "      '\\nRewards:', data_dict['rewards'].shape,\n",
    "      '\\nSuccesses:', data_dict['successes'].shape,\n",
    "      '\\nTerminals:', data_dict['terminals'].shape,\n",
    "      '\\nTimeouts:', data_dict['timeouts'].shape)"
   ]
  },
  {
   "cell_type": "code",
   "execution_count": null,
   "metadata": {},
   "outputs": [],
   "source": [
    "mdp_dataset = data_utils.dataset_to_mdpdataset(data_dict)"
   ]
  },
  {
   "cell_type": "code",
   "execution_count": null,
   "metadata": {},
   "outputs": [],
   "source": [
    "env = composuite.make(robot=robot, obj=obj, obstacle=obst, task=task)"
   ]
  },
  {
   "cell_type": "code",
   "execution_count": null,
   "metadata": {},
   "outputs": [],
   "source": [
    "print(type(mdp_dataset), type(env))"
   ]
  }
 ],
 "metadata": {
  "kernelspec": {
   "display_name": ".venv",
   "language": "python",
   "name": "python3"
  },
  "language_info": {
   "codemirror_mode": {
    "name": "ipython",
    "version": 3
   },
   "file_extension": ".py",
   "mimetype": "text/x-python",
   "name": "python",
   "nbconvert_exporter": "python",
   "pygments_lexer": "ipython3",
   "version": "3.9.6"
  }
 },
 "nbformat": 4,
 "nbformat_minor": 2
}
