{
 "cells": [
  {
   "cell_type": "code",
   "execution_count": 1,
   "metadata": {},
   "outputs": [
    {
     "ename": "ModuleNotFoundError",
     "evalue": "No module named 'denoiser_network'",
     "output_type": "error",
     "traceback": [
      "\u001b[0;31m---------------------------------------------------------------------------\u001b[0m",
      "\u001b[0;31mModuleNotFoundError\u001b[0m                       Traceback (most recent call last)",
      "Cell \u001b[0;32mIn[1], line 8\u001b[0m\n\u001b[1;32m      6\u001b[0m \u001b[38;5;28;01mimport\u001b[39;00m \u001b[38;5;21;01mwandb\u001b[39;00m\n\u001b[1;32m      7\u001b[0m \u001b[38;5;28;01mfrom\u001b[39;00m \u001b[38;5;21;01mCompoSuite\u001b[39;00m \u001b[38;5;28;01mimport\u001b[39;00m composuite\n\u001b[0;32m----> 8\u001b[0m \u001b[38;5;28;01mfrom\u001b[39;00m \u001b[38;5;21;01mdiffusion\u001b[39;00m\u001b[38;5;21;01m.\u001b[39;00m\u001b[38;5;21;01mutils\u001b[39;00m \u001b[38;5;28;01mimport\u001b[39;00m construct_diffusion_model\n\u001b[1;32m      9\u001b[0m \u001b[38;5;28;01mfrom\u001b[39;00m \u001b[38;5;21;01mdiffusion\u001b[39;00m\u001b[38;5;21;01m.\u001b[39;00m\u001b[38;5;21;01melucidated_diffusion\u001b[39;00m \u001b[38;5;28;01mimport\u001b[39;00m Trainer\n\u001b[1;32m     10\u001b[0m \u001b[38;5;28;01mfrom\u001b[39;00m \u001b[38;5;21;01mdiffusion\u001b[39;00m\u001b[38;5;21;01m.\u001b[39;00m\u001b[38;5;21;01mtrain_diffuser\u001b[39;00m \u001b[38;5;28;01mimport\u001b[39;00m SimpleDiffusionGenerator\n",
      "File \u001b[0;32m~/Developer/compositional-rl-synth-data/diffusion/utils.py:12\u001b[0m\n\u001b[1;32m      9\u001b[0m \u001b[38;5;28;01mfrom\u001b[39;00m \u001b[38;5;21;01mtorch\u001b[39;00m \u001b[38;5;28;01mimport\u001b[39;00m nn\n\u001b[1;32m     11\u001b[0m \u001b[38;5;66;03m# GIN-required Imports.\u001b[39;00m\n\u001b[0;32m---> 12\u001b[0m \u001b[38;5;28;01mfrom\u001b[39;00m \u001b[38;5;21;01mdenoiser_network\u001b[39;00m \u001b[38;5;28;01mimport\u001b[39;00m ResidualMLPDenoiser\n\u001b[1;32m     13\u001b[0m \u001b[38;5;28;01mfrom\u001b[39;00m \u001b[38;5;21;01melucidated_diffusion\u001b[39;00m \u001b[38;5;28;01mimport\u001b[39;00m ElucidatedDiffusion\n\u001b[1;32m     14\u001b[0m \u001b[38;5;28;01mfrom\u001b[39;00m \u001b[38;5;21;01mdiffusion\u001b[39;00m\u001b[38;5;21;01m.\u001b[39;00m\u001b[38;5;21;01mnorm\u001b[39;00m \u001b[38;5;28;01mimport\u001b[39;00m normalizer_factory\n",
      "\u001b[0;31mModuleNotFoundError\u001b[0m: No module named 'denoiser_network'"
     ]
    }
   ],
   "source": [
    "import os\n",
    "import h5py\n",
    "import numpy as np\n",
    "import torch\n",
    "import gin\n",
    "import wandb\n",
    "from CompoSuite import composuite\n",
    "from diffusion.utils import construct_diffusion_model\n",
    "from diffusion.elucidated_diffusion import Trainer\n",
    "from diffusion.train_diffuser import SimpleDiffusionGenerator\n",
    "\n",
    "gin.parse_config_file(\"/Users/shubhankar/Developer/compositional-rl-synth-data/denoiser.gin\")\n",
    "\n",
    "base_data_path = '/Users/shubhankar/Developer/compositional-rl-synth-data/data'\n",
    "results_folder = '/Users/shubhankar/Developer/compositional-rl-synth-data/results_temp'"
   ]
  },
  {
   "cell_type": "code",
   "execution_count": null,
   "metadata": {},
   "outputs": [],
   "source": [
    "def load_single_dataset(base_path, dataset_type, robot, obj, obst, task):\n",
    "\n",
    "    keys = [\"observations\", \"actions\", \"rewards\", \"successes\", \"terminals\", \"timeouts\"]\n",
    "\n",
    "    data_path = os.path.join(\n",
    "        base_path, dataset_type, f\"{robot}_{obj}_{obst}_{task}\", \"data.hdf5\"\n",
    "    )\n",
    "\n",
    "    data_dict = {}\n",
    "\n",
    "    with h5py.File(data_path, \"r\") as dataset_file:\n",
    "        for k in keys:\n",
    "            assert k in dataset_file, f\"Key {k} not found in dataset\"\n",
    "            data_dict[k] = dataset_file[k][:]\n",
    "            assert len(data_dict[k]) == 1000000, f\"Key {k} has wrong length\"\n",
    "\n",
    "    return data_dict\n",
    "\n",
    "\n",
    "def qlearning_dataset(dataset):\n",
    "\n",
    "    N = dataset['rewards'].shape[0]\n",
    "\n",
    "    obs_ = []\n",
    "    next_obs_ = []\n",
    "    action_ = []\n",
    "    reward_ = []\n",
    "    done_ = []\n",
    "\n",
    "    episode_step = 0\n",
    "\n",
    "    for i in range(N - 1):\n",
    "\n",
    "        obs = dataset['observations'][i].astype(np.float32)\n",
    "        new_obs = dataset['observations'][i + 1].astype(np.float32)\n",
    "        action = dataset['actions'][i].astype(np.float32)\n",
    "        reward = dataset['rewards'][i].astype(np.float32)\n",
    "        done_bool = bool(dataset['terminals'][i])\n",
    "        final_timestep = dataset['timeouts'][i]\n",
    "\n",
    "        if done_bool or final_timestep:\n",
    "            episode_step = 0\n",
    "\n",
    "        obs_.append(obs)\n",
    "        next_obs_.append(new_obs)\n",
    "        action_.append(action)\n",
    "        reward_.append(reward)\n",
    "        done_.append(done_bool)\n",
    "\n",
    "        episode_step += 1\n",
    "\n",
    "    return {\n",
    "        'observations': np.array(obs_),\n",
    "        'actions': np.array(action_),\n",
    "        'next_observations': np.array(next_obs_),\n",
    "        'rewards': np.array(reward_),\n",
    "        'terminals': np.array(done_),\n",
    "    }\n",
    "\n",
    "\n",
    "def make_inputs(dataset, modelled_terminals: bool = True) -> np.ndarray:\n",
    "\n",
    "    obs = dataset['observations']\n",
    "    actions = dataset['actions']\n",
    "    next_obs = dataset['next_observations']\n",
    "    rewards = dataset['rewards']\n",
    "    inputs = np.concatenate([obs, actions, rewards[:, None], next_obs], axis=1)\n",
    "\n",
    "    if modelled_terminals:\n",
    "        terminals = dataset['terminals'].astype(np.float32)\n",
    "        inputs = np.concatenate([inputs, terminals[:, None]], axis=1)\n",
    "        \n",
    "    return inputs"
   ]
  },
  {
   "cell_type": "code",
   "execution_count": null,
   "metadata": {},
   "outputs": [],
   "source": [
    "dataset_type = 'expert-iiwa-offline-comp-data'\n",
    "\n",
    "robot = 'IIWA'\n",
    "obj = 'Box'\n",
    "obst = 'None'\n",
    "task = 'Push'\n",
    "\n",
    "dataset = load_single_dataset(base_path=base_data_path, dataset_type=dataset_type, \n",
    "                              robot=robot, obj=obj, obst=obst, task=task)\n",
    "dataset = qlearning_dataset(dataset)\n",
    "inputs = make_inputs(dataset)\n",
    "inputs = torch.from_numpy(inputs).float()\n",
    "dataset = torch.utils.data.TensorDataset(inputs)"
   ]
  },
  {
   "cell_type": "code",
   "execution_count": null,
   "metadata": {},
   "outputs": [],
   "source": [
    "diffusion = construct_diffusion_model(inputs=inputs)"
   ]
  },
  {
   "cell_type": "code",
   "execution_count": null,
   "metadata": {},
   "outputs": [],
   "source": [
    "wandb_project = 'offline_rl_diffusion'\n",
    "wandb_entity = ''\n",
    "wandb_group = 'diffusion_training'\n",
    "\n",
    "wandb.init(\n",
    "    project=wandb_project,\n",
    "    entity=wandb_entity,\n",
    "    group=wandb_group,\n",
    "    name=results_folder.split('/')[-1],\n",
    ")"
   ]
  },
  {
   "cell_type": "code",
   "execution_count": null,
   "metadata": {},
   "outputs": [],
   "source": [
    "trainer = Trainer(diffusion, dataset, results_folder=results_folder)\n",
    "trainer.train()"
   ]
  },
  {
   "cell_type": "code",
   "execution_count": null,
   "metadata": {},
   "outputs": [],
   "source": [
    "env = composuite.make(robot, obj, obst, task, use_task_id_obs=False)"
   ]
  },
  {
   "cell_type": "code",
   "execution_count": null,
   "metadata": {},
   "outputs": [],
   "source": [
    "generator = SimpleDiffusionGenerator(env=env, ema_model=trainer.ema.ema_model)\n",
    "observations, actions, rewards, next_observations, terminals = generator.sample(num_samples=500000)"
   ]
  },
  {
   "cell_type": "code",
   "execution_count": null,
   "metadata": {},
   "outputs": [],
   "source": [
    "np.savez_compressed(\n",
    "    os.path.join(results_folder, 'samples.npz'),\n",
    "    observations=observations,\n",
    "    actions=actions,\n",
    "    rewards=rewards,\n",
    "    next_observations=next_observations,\n",
    "    terminals=terminals\n",
    ")"
   ]
  }
 ],
 "metadata": {
  "kernelspec": {
   "display_name": ".venv",
   "language": "python",
   "name": "python3"
  },
  "language_info": {
   "codemirror_mode": {
    "name": "ipython",
    "version": 3
   },
   "file_extension": ".py",
   "mimetype": "text/x-python",
   "name": "python",
   "nbconvert_exporter": "python",
   "pygments_lexer": "ipython3",
   "version": "3.9.6"
  }
 },
 "nbformat": 4,
 "nbformat_minor": 2
}
