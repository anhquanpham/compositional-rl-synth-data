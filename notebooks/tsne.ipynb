{
 "cells": [
  {
   "cell_type": "code",
   "execution_count": 17,
   "metadata": {},
   "outputs": [],
   "source": [
    "from diffusion.utils import *\n",
    "from collections import defaultdict\n",
    "from sklearn.preprocessing import StandardScaler\n",
    "from sklearn.manifold import TSNE\n",
    "import matplotlib\n",
    "import matplotlib.pyplot as plt\n",
    "from matplotlib.lines import Line2D\n",
    "\n",
    "dataset_type = 'expert'\n",
    "base_agent_data_path = '/Users/shubhankar/Developer/compositional-rl-synth-data/data'\n",
    "base_synthetic_data_path = '/Users/shubhankar/Developer/compositional-rl-synth-data/cluster_results/diffusion'\n",
    "\n",
    "import numpy as np\n",
    "\n",
    "def process_data(datasets):\n",
    "\n",
    "    combined_data = []\n",
    "    which_dataset = []\n",
    "\n",
    "    for idx, data in enumerate(datasets):\n",
    "        combined_data.append(data)\n",
    "        which_dataset.extend([idx] * len(data))\n",
    "    \n",
    "    combined_data = np.concatenate(combined_data, axis=0)\n",
    "    which_dataset = np.array(which_dataset)\n",
    "    \n",
    "    return combined_data, which_dataset"
   ]
  },
  {
   "cell_type": "code",
   "execution_count": null,
   "metadata": {},
   "outputs": [],
   "source": [
    "representative_env = composuite.make('IIWA', 'Plate', 'ObjectWall', 'Push', use_task_id_obs=True, ignore_done=False)"
   ]
  },
  {
   "cell_type": "code",
   "execution_count": 19,
   "metadata": {},
   "outputs": [],
   "source": [
    "run = 'cond_diff_20'"
   ]
  },
  {
   "cell_type": "code",
   "execution_count": null,
   "metadata": {},
   "outputs": [],
   "source": [
    "agent_datasets_train = []\n",
    "synthetic_datasets_train = []\n",
    "\n",
    "train_tasks = [\n",
    "    task for task in os.listdir(os.path.join(base_synthetic_data_path, run, 'train'))\n",
    "    if not task.startswith('.')\n",
    "]\n",
    "\n",
    "train_tasks = train_tasks[:3]\n",
    "\n",
    "for task in tqdm(train_tasks, desc='Loading train task data'):\n",
    "    robot, obj, obst, subtask = task.split('_')\n",
    "    agent_dataset = load_single_composuite_dataset(base_path=base_agent_data_path, \n",
    "                                                    dataset_type='expert', \n",
    "                                                    robot=robot, obj=obj, \n",
    "                                                    obst=obst, task=subtask)\n",
    "    agent_dataset = transitions_dataset(agent_dataset)\n",
    "    agent_dataset, _ = remove_indicator_vectors(representative_env.modality_dims, agent_dataset)\n",
    "    agent_dataset = make_inputs(agent_dataset)\n",
    "    random_indices = np.random.choice(agent_dataset.shape[0], 1000, replace=False)\n",
    "    agent_dataset = agent_dataset[random_indices]\n",
    "    agent_datasets_train.append(agent_dataset)\n",
    "\n",
    "    synthetic_dataset = load_single_synthetic_dataset(base_path=os.path.join(base_synthetic_data_path, run, 'train'),\n",
    "                                                      robot=robot, obj=obj, \n",
    "                                                      obst=obst, task=subtask)\n",
    "    synthetic_dataset = make_inputs(synthetic_dataset)\n",
    "    random_indices = np.random.choice(synthetic_dataset.shape[0], 1000, replace=False)\n",
    "    synthetic_dataset = synthetic_dataset[random_indices]\n",
    "    synthetic_datasets_train.append(synthetic_dataset)"
   ]
  },
  {
   "cell_type": "code",
   "execution_count": null,
   "metadata": {},
   "outputs": [],
   "source": [
    "print(len(agent_datasets_train), len(synthetic_datasets_train))"
   ]
  },
  {
   "cell_type": "code",
   "execution_count": null,
   "metadata": {},
   "outputs": [],
   "source": [
    "agent_datasets_test = []\n",
    "synthetic_datasets_test = [] \n",
    "\n",
    "test_tasks = [\n",
    "    task for task in os.listdir(os.path.join(base_synthetic_data_path, run, 'test'))\n",
    "    if not task.startswith('.')\n",
    "]\n",
    "\n",
    "test_tasks = test_tasks[:1]\n",
    "\n",
    "for task in tqdm(test_tasks, desc='Loading test task data'):\n",
    "    robot, obj, obst, subtask = task.split('_')\n",
    "    agent_dataset = load_single_composuite_dataset(base_path=base_agent_data_path, \n",
    "                                                    dataset_type='expert', \n",
    "                                                    robot=robot, obj=obj, \n",
    "                                                    obst=obst, task=subtask)\n",
    "    agent_dataset = transitions_dataset(agent_dataset)\n",
    "    agent_dataset, _ = remove_indicator_vectors(representative_env.modality_dims, agent_dataset)\n",
    "    agent_dataset = make_inputs(agent_dataset)\n",
    "    random_indices = np.random.choice(agent_dataset.shape[0], 1000, replace=False)\n",
    "    agent_dataset = agent_dataset[random_indices]\n",
    "    agent_datasets_test.append(agent_dataset)\n",
    "\n",
    "    synthetic_dataset = load_single_synthetic_dataset(base_path=os.path.join(base_synthetic_data_path, run, 'test'),\n",
    "                                                      robot=robot, obj=obj, \n",
    "                                                      obst=obst, task=subtask)\n",
    "    synthetic_dataset = make_inputs(synthetic_dataset)\n",
    "    random_indices = np.random.choice(synthetic_dataset.shape[0], 1000, replace=False)\n",
    "    synthetic_dataset = synthetic_dataset[random_indices]\n",
    "    synthetic_datasets_test.append(synthetic_dataset)"
   ]
  },
  {
   "cell_type": "code",
   "execution_count": null,
   "metadata": {},
   "outputs": [],
   "source": [
    "print(len(agent_datasets_test), len(synthetic_datasets_test))"
   ]
  },
  {
   "cell_type": "code",
   "execution_count": 24,
   "metadata": {},
   "outputs": [],
   "source": [
    "agent_datasets = agent_datasets_train + agent_datasets_test\n",
    "synthetic_datasets = synthetic_datasets_train + synthetic_datasets_test"
   ]
  },
  {
   "cell_type": "code",
   "execution_count": null,
   "metadata": {},
   "outputs": [],
   "source": [
    "print(len(agent_datasets), len(synthetic_datasets))"
   ]
  },
  {
   "cell_type": "code",
   "execution_count": 26,
   "metadata": {},
   "outputs": [],
   "source": [
    "flattened_agent_data, agent_data_ids = process_data(agent_datasets)\n",
    "flattened_synthetic_data, synthetic_data_ids = process_data(synthetic_datasets)"
   ]
  },
  {
   "cell_type": "code",
   "execution_count": null,
   "metadata": {},
   "outputs": [],
   "source": [
    "print(flattened_agent_data.shape, agent_data_ids.shape)\n",
    "print(flattened_synthetic_data.shape, synthetic_data_ids.shape)"
   ]
  },
  {
   "cell_type": "code",
   "execution_count": 28,
   "metadata": {},
   "outputs": [],
   "source": [
    "random_indices = np.random.choice(flattened_agent_data.shape[0], 1000, replace=False)\n",
    "sampled_agent_data = flattened_agent_data[random_indices]\n",
    "samples_agent_data_ids = agent_data_ids[random_indices]\n",
    "\n",
    "random_indices = np.random.choice(flattened_synthetic_data.shape[0], 1000, replace=False)\n",
    "sampled_synthetic_data = flattened_synthetic_data[random_indices]\n",
    "sampled_synthetic_data_ids = synthetic_data_ids[random_indices]"
   ]
  },
  {
   "cell_type": "code",
   "execution_count": 29,
   "metadata": {},
   "outputs": [],
   "source": [
    "agent_origin = np.zeros(samples_agent_data_ids.shape[0], dtype=int)  # 0 for CompoSuite\n",
    "synthetic_origin = np.ones(sampled_synthetic_data_ids.shape[0], dtype=int)   # 1 for synthetic\n",
    "\n",
    "combined_data = np.concatenate((sampled_agent_data, sampled_synthetic_data), axis=0)\n",
    "combined_ids = np.concatenate((samples_agent_data_ids, sampled_synthetic_data_ids), axis=0)\n",
    "combined_origins = np.concatenate((agent_origin, synthetic_origin), axis=0)"
   ]
  },
  {
   "cell_type": "code",
   "execution_count": 30,
   "metadata": {},
   "outputs": [],
   "source": [
    "normalized_data = StandardScaler().fit_transform(combined_data)\n",
    "tsne = TSNE(n_components=2, random_state=42)\n",
    "embeddings = tsne.fit_transform(normalized_data)"
   ]
  },
  {
   "cell_type": "code",
   "execution_count": 31,
   "metadata": {},
   "outputs": [],
   "source": [
    "tasks = train_tasks + test_tasks\n",
    "id_to_name = {idx: t for idx, t in enumerate(tasks)}"
   ]
  },
  {
   "cell_type": "code",
   "execution_count": null,
   "metadata": {},
   "outputs": [],
   "source": [
    "cmap = matplotlib.colormaps['viridis']\n",
    "unique_ids = list(id_to_name.keys())\n",
    "id_to_color = {id: cmap(i / len(unique_ids)) for i, id in enumerate(unique_ids)}\n",
    "\n",
    "plt.figure(figsize=(10, 8))\n",
    "\n",
    "scatter_composuite = plt.scatter(\n",
    "    embeddings[combined_origins == 0, 0],\n",
    "    embeddings[combined_origins == 0, 1],\n",
    "    c=[id_to_color[id] for id in combined_ids[combined_origins == 0]],\n",
    "    alpha=0.8,\n",
    "    marker='o',\n",
    "    s=10\n",
    ")\n",
    "\n",
    "scatter_synthetic = plt.scatter(\n",
    "    embeddings[combined_origins == 1, 0],\n",
    "    embeddings[combined_origins == 1, 1],\n",
    "    c=[id_to_color[id] for id in combined_ids[combined_origins == 1]],\n",
    "    alpha=0.25,\n",
    "    marker='x',\n",
    "    s=100\n",
    ")\n",
    "\n",
    "# Origin legend\n",
    "origin_legend_elements = [\n",
    "    Line2D([0], [0], marker='o', color='w', markeredgecolor='black', markersize=5, label='CompoSuite'),\n",
    "    Line2D([0], [0], marker='x', color='w', markeredgecolor='black', markersize=5, label='Diffusion')\n",
    "]\n",
    "\n",
    "ax = plt.gca()\n",
    "origin_legend = ax.legend(\n",
    "    handles=origin_legend_elements,\n",
    "    loc='upper right',\n",
    "    title='Data Origin',\n",
    "    fontsize=10,\n",
    "    title_fontsize=10\n",
    ")\n",
    "\n",
    "# Environment legend\n",
    "environment_legend_elements = [\n",
    "    Line2D([0], [0], marker='o', color=id_to_color[id], linestyle='None', markersize=10, label=f'{id_to_name[id]}')\n",
    "    for id in unique_ids\n",
    "]\n",
    "\n",
    "ax.legend(\n",
    "    handles=environment_legend_elements,\n",
    "    loc='lower right',\n",
    "    title='Environment',\n",
    "    fontsize=10,\n",
    "    title_fontsize=10,\n",
    "    bbox_to_anchor=(1, 0)\n",
    ")\n",
    "\n",
    "ax.add_artist(origin_legend)\n",
    "\n",
    "plt.title('t-SNE on Agent and Synthetic Data', fontsize=14)\n",
    "plt.savefig('tSNE_generalization_176.pdf', format='pdf', bbox_inches='tight')\n",
    "\n",
    "plt.show()"
   ]
  }
 ],
 "metadata": {
  "kernelspec": {
   "display_name": ".venv",
   "language": "python",
   "name": "python3"
  },
  "language_info": {
   "codemirror_mode": {
    "name": "ipython",
    "version": 3
   },
   "file_extension": ".py",
   "mimetype": "text/x-python",
   "name": "python",
   "nbconvert_exporter": "python",
   "pygments_lexer": "ipython3",
   "version": "3.9.6"
  }
 },
 "nbformat": 4,
 "nbformat_minor": 2
}
