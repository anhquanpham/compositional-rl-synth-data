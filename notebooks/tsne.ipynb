{
 "cells": [
  {
   "cell_type": "code",
   "execution_count": 1,
   "metadata": {},
   "outputs": [],
   "source": [
    "from diffusion.utils import *\n",
    "from collections import defaultdict\n",
    "import composuite\n",
    "from sklearn.preprocessing import StandardScaler\n",
    "from sklearn.manifold import TSNE\n",
    "import matplotlib\n",
    "import matplotlib.pyplot as plt\n",
    "from matplotlib.lines import Line2D\n",
    "\n",
    "base_composuite_data_path = '/Users/shubhankar/Developer/compositional-rl-synth-data/data'\n",
    "base_synthetic_data_path = '/Users/shubhankar/Developer/compositional-rl-synth-data/results'\n",
    "\n",
    "def process_data(transitions_datasets):\n",
    "\n",
    "    combined_dict = defaultdict(list)\n",
    "    which_dataset = []\n",
    "\n",
    "    for idx, data in enumerate(transitions_datasets):\n",
    "        for key in data.keys():\n",
    "            combined_dict[key].append(data[key])\n",
    "        which_dataset.extend([idx] * len(data[key]))\n",
    "\n",
    "    combined_transitions_datasets = {key: np.concatenate(values, axis=0) for key, values in combined_dict.items()}\n",
    "    processed_data = make_inputs(combined_transitions_datasets)\n",
    "\n",
    "    return processed_data, np.array(which_dataset)\n",
    "\n",
    "def remove_indicator_vectors(data, env):\n",
    "    obs_dim = env.obs_dim \n",
    "    action_dim = env.action_dim\n",
    "    dims = env.modality_dims\n",
    "\n",
    "    start_index = sum([dim[0] for key, dim in dims.items() if key in ['object-state', 'obstacle-state', 'goal-state']])\n",
    "    end_index = start_index + sum([dim[0] for key, dim in dims.items() if key in ['object_id', 'robot_id', 'obstacle_id', 'subtask_id']])\n",
    "\n",
    "    def remove_dims(data, start, end):\n",
    "        return np.delete(data, slice(start, end), axis=1)\n",
    "\n",
    "    observations = data[:, :obs_dim]\n",
    "    observations = remove_dims(observations, start_index, end_index)\n",
    "    actions = data[:, obs_dim:obs_dim + action_dim]\n",
    "    rewards = data[:, obs_dim + action_dim:obs_dim + action_dim + 1]\n",
    "    next_observations = data[:, obs_dim + action_dim + 1:2*obs_dim + action_dim + 1]\n",
    "    next_observations = remove_dims(next_observations, start_index, end_index)\n",
    "    terminals = data[:, -1:]\n",
    "    data = np.hstack([observations, actions, rewards, next_observations, terminals])\n",
    "    \n",
    "    return data"
   ]
  },
  {
   "cell_type": "code",
   "execution_count": 2,
   "metadata": {},
   "outputs": [],
   "source": [
    "dataset_type = 'expert'\n",
    "\n",
    "robots = ['IIWA']\n",
    "objs = ['Box', 'Dumbbell', 'Hollowbox', 'Plate']\n",
    "obsts = ['None']\n",
    "tasks = ['PickPlace']"
   ]
  },
  {
   "cell_type": "code",
   "execution_count": null,
   "metadata": {},
   "outputs": [],
   "source": [
    "composuite_datasets = load_multiple_composuite_datasets(base_path=base_composuite_data_path,\n",
    "                                                        dataset_type=dataset_type,\n",
    "                                                        robots=robots, objs=objs, \n",
    "                                                        obsts=obsts, tasks=tasks)\n",
    "\n",
    "composuite_transitions_datasets = [transitions_dataset(dataset) for dataset in composuite_datasets]\n",
    "flattened_composuite_data, composuite_data_ids = process_data(composuite_transitions_datasets)"
   ]
  },
  {
   "cell_type": "code",
   "execution_count": null,
   "metadata": {},
   "outputs": [],
   "source": [
    "synthetic_datasets = load_multiple_synthetic_datasets(base_path=base_synthetic_data_path,\n",
    "                                                      robots=robots, objs=objs, \n",
    "                                                      obsts=obsts, tasks=tasks)\n",
    "flattened_synthetic_data, synthetic_data_ids = process_data(synthetic_datasets)"
   ]
  },
  {
   "cell_type": "code",
   "execution_count": null,
   "metadata": {},
   "outputs": [],
   "source": [
    "print(flattened_composuite_data.shape, flattened_synthetic_data.shape)"
   ]
  },
  {
   "cell_type": "code",
   "execution_count": 7,
   "metadata": {},
   "outputs": [],
   "source": [
    "random_indices = np.random.choice(flattened_composuite_data.shape[0], 1000, replace=False)\n",
    "sampled_composuite_data = flattened_composuite_data[random_indices]\n",
    "sample_composuite_data_ids = composuite_data_ids[random_indices]\n",
    "\n",
    "random_indices = np.random.choice(flattened_synthetic_data.shape[0], 1000, replace=False)\n",
    "sampled_synthetic_data = flattened_synthetic_data[random_indices]\n",
    "sample_synthetic_data_ids = synthetic_data_ids[random_indices]"
   ]
  },
  {
   "cell_type": "code",
   "execution_count": null,
   "metadata": {},
   "outputs": [],
   "source": [
    "print(sampled_composuite_data.shape, sampled_synthetic_data.shape)"
   ]
  },
  {
   "cell_type": "code",
   "execution_count": 9,
   "metadata": {},
   "outputs": [],
   "source": [
    "combined_data = np.concatenate((sampled_composuite_data, sampled_synthetic_data), axis=0)\n",
    "combined_data_ids = np.concatenate((sample_composuite_data_ids, sample_synthetic_data_ids), axis=0)\n"
   ]
  },
  {
   "cell_type": "code",
   "execution_count": 10,
   "metadata": {},
   "outputs": [],
   "source": [
    "composuite_origin = np.zeros(sample_composuite_data_ids.shape[0], dtype=int)  # 0 for composuite\n",
    "synthetic_origin = np.ones(sample_synthetic_data_ids.shape[0], dtype=int)   # 1 for synthetic\n",
    "\n",
    "combined_data = np.concatenate((sampled_composuite_data, sampled_synthetic_data), axis=0)\n",
    "combined_ids = np.concatenate((sample_composuite_data_ids, sample_synthetic_data_ids), axis=0)\n",
    "combined_origins = np.concatenate((composuite_origin, synthetic_origin), axis=0)"
   ]
  },
  {
   "cell_type": "code",
   "execution_count": null,
   "metadata": {},
   "outputs": [],
   "source": [
    "print(combined_data.shape)"
   ]
  },
  {
   "cell_type": "code",
   "execution_count": null,
   "metadata": {},
   "outputs": [],
   "source": [
    "env = composuite.make(robots[0], objs[0], obsts[0], tasks[0], use_task_id_obs=True, ignore_done=False)\n",
    "combined_data = remove_indicator_vectors(combined_data, env)"
   ]
  },
  {
   "cell_type": "code",
   "execution_count": null,
   "metadata": {},
   "outputs": [],
   "source": [
    "print(combined_data.shape)"
   ]
  },
  {
   "cell_type": "code",
   "execution_count": 14,
   "metadata": {},
   "outputs": [],
   "source": [
    "normalized_data = StandardScaler().fit_transform(combined_data)\n",
    "tsne = TSNE(n_components=2, random_state=42)\n",
    "embeddings = tsne.fit_transform(normalized_data)"
   ]
  },
  {
   "cell_type": "code",
   "execution_count": 15,
   "metadata": {},
   "outputs": [],
   "source": [
    "tuples = []\n",
    "for robot in robots:\n",
    "    for obj in objs:\n",
    "        for obst in obsts:\n",
    "            for task in tasks:\n",
    "                tuples.append((robot + '_' + obj + '_' + obst + '_' + task))\n",
    "\n",
    "id_to_name = {idx: t for idx, t in enumerate(tuples)}"
   ]
  },
  {
   "cell_type": "code",
   "execution_count": 16,
   "metadata": {},
   "outputs": [],
   "source": [
    "cmap = matplotlib.colormaps['viridis']\n",
    "unique_ids = list(id_to_name.keys())\n",
    "id_to_color = {id: cmap(i / len(unique_ids)) for i, id in enumerate(unique_ids)}\n",
    "\n",
    "plt.figure(figsize=(10, 8))\n",
    "\n",
    "scatter_composuite = plt.scatter(\n",
    "    embeddings[combined_origins == 0, 0],\n",
    "    embeddings[combined_origins == 0, 1],\n",
    "    c=[id_to_color[id] for id in combined_ids[combined_origins == 0]],\n",
    "    alpha=0.8,\n",
    "    marker='o',\n",
    "    s=10\n",
    ")\n",
    "\n",
    "scatter_synthetic = plt.scatter(\n",
    "    embeddings[combined_origins == 1, 0],\n",
    "    embeddings[combined_origins == 1, 1],\n",
    "    c=[id_to_color[id] for id in combined_ids[combined_origins == 1]],\n",
    "    alpha=0.25,\n",
    "    marker='x',\n",
    "    s=100\n",
    ")\n",
    "\n",
    "# Origin legend\n",
    "origin_legend_elements = [\n",
    "    Line2D([0], [0], marker='o', color='w', markeredgecolor='black', markersize=5, label='CompoSuite'),\n",
    "    Line2D([0], [0], marker='x', color='w', markeredgecolor='black', markersize=5, label='Diffusion')\n",
    "]\n",
    "\n",
    "ax = plt.gca()\n",
    "origin_legend = ax.legend(\n",
    "    handles=origin_legend_elements,\n",
    "    loc='upper right',\n",
    "    title='Data Origin',\n",
    "    fontsize=10,\n",
    "    title_fontsize=10\n",
    ")\n",
    "\n",
    "# Environment legend\n",
    "environment_legend_elements = [\n",
    "    Line2D([0], [0], marker='o', color=id_to_color[id], linestyle='None', markersize=10, label=f'{id_to_name[id]}')\n",
    "    for id in unique_ids\n",
    "]\n",
    "\n",
    "ax.legend(\n",
    "    handles=environment_legend_elements,\n",
    "    loc='lower right',\n",
    "    title='Environment',\n",
    "    fontsize=10,\n",
    "    title_fontsize=10,\n",
    "    bbox_to_anchor=(1, 0)\n",
    ")\n",
    "\n",
    "ax.add_artist(origin_legend)\n",
    "\n",
    "plt.title('t-SNE on CompoSuite and Synthetic Data', fontsize=14)\n",
    "\n",
    "plt.savefig('tsne_clusters_remove_indicators.png', dpi=300, bbox_inches='tight')\n",
    "plt.close()"
   ]
  }
 ],
 "metadata": {
  "kernelspec": {
   "display_name": ".venv",
   "language": "python",
   "name": "python3"
  },
  "language_info": {
   "codemirror_mode": {
    "name": "ipython",
    "version": 3
   },
   "file_extension": ".py",
   "mimetype": "text/x-python",
   "name": "python",
   "nbconvert_exporter": "python",
   "pygments_lexer": "ipython3",
   "version": "3.9.6"
  }
 },
 "nbformat": 4,
 "nbformat_minor": 2
}
