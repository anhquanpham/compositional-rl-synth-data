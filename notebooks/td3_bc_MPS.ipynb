{
 "cells": [
  {
   "cell_type": "code",
   "execution_count": 1,
   "metadata": {},
   "outputs": [],
   "source": [
    "import composuite\n",
    "from diffusion.utils import *\n",
    "from CORL.algorithms.offline.td3_bc import *\n",
    "from CORL.shared.buffer import *\n",
    "from CORL.shared.logger import *\n",
    "\n",
    "base_results_folder = '/Users/shubhankar/Developer/compositional-rl-synth-data/results/CORL/'"
   ]
  },
  {
   "cell_type": "code",
   "execution_count": 7,
   "metadata": {},
   "outputs": [],
   "source": [
    "data_type = 'agent'\n",
    "\n",
    "robot = 'IIWA'\n",
    "obj = 'Box'\n",
    "obst = 'None'\n",
    "task = 'Trashcan'\n",
    "\n",
    "if data_type == 'agent':\n",
    "    base_agent_data_path = '/Users/shubhankar/Developer/compositional-rl-synth-data/data'\n",
    "    dataset = load_single_composuite_dataset(base_path=base_agent_data_path, \n",
    "                                             dataset_type='expert', \n",
    "                                             robot=robot, obj=obj, \n",
    "                                             obst=obst, task=task)\n",
    "    dataset = transitions_dataset(dataset)\n",
    "\n",
    "if data_type == 'synthetic':\n",
    "    base_synthetic_data_path = '/Users/shubhankar/Developer/compositional-rl-synth-data/cluster_results/diffusion/cond_diff_1'\n",
    "    dataset = load_single_synthetic_dataset(base_path=base_synthetic_data_path, \n",
    "                                            robot=robot, obj=obj, \n",
    "                                            obst=obst, task=task)"
   ]
  },
  {
   "cell_type": "code",
   "execution_count": 4,
   "metadata": {},
   "outputs": [],
   "source": [
    "env = composuite.make(robot, obj, obst, task, use_task_id_obs=True, ignore_done=False)\n",
    "\n",
    "state_dim = env.observation_space.shape[0]\n",
    "action_dim = env.action_space.shape[0]\n",
    "\n",
    "state_mean, state_std = compute_mean_std(dataset[\"observations\"], eps=1e-3)\n",
    "env = wrap_env(env, state_mean=state_mean, state_std=state_std)"
   ]
  },
  {
   "cell_type": "code",
   "execution_count": 10,
   "metadata": {},
   "outputs": [],
   "source": [
    "config = TrainConfig()"
   ]
  },
  {
   "cell_type": "code",
   "execution_count": null,
   "metadata": {},
   "outputs": [],
   "source": [
    "device = \"cpu\"\n",
    "\n",
    "replay_buffer = prepare_replay_buffer(\n",
    "    state_dim=state_dim,\n",
    "    action_dim=action_dim,\n",
    "    dataset=dataset\n",
    "    buffer_size=config.buffer_size,\n",
    "    device=device,\n",
    "    reward_normalizer=RewardNormalizer(dataset, config.env) if config.normalize_reward else None,\n",
    "    state_normalizer=StateNormalizer(state_mean, state_std),\n",
    "    )"
   ]
  },
  {
   "cell_type": "code",
   "execution_count": 6,
   "metadata": {},
   "outputs": [],
   "source": [
    "max_action = float(env.action_space.high[0])"
   ]
  },
  {
   "cell_type": "code",
   "execution_count": 8,
   "metadata": {},
   "outputs": [],
   "source": [
    "results_folder = os.path.join(base_results_folder, data_type, robot + '_' + obj + '_' + obst + '_' + task)"
   ]
  },
  {
   "cell_type": "code",
   "execution_count": 8,
   "metadata": {},
   "outputs": [],
   "source": [
    "logger = Logger(results_folder, seed=config.seed)\n",
    "\n",
    "# Set seeds\n",
    "seed = config.seed\n",
    "set_seed(seed, env)\n",
    "\n",
    "actor = Actor(state_dim, action_dim, max_action, hidden_dim=config.network_width, n_hidden=config.network_depth).to(config.device)\n",
    "actor_optimizer = torch.optim.Adam(actor.parameters(), lr=3e-4)\n",
    "\n",
    "critic_1 = Critic(state_dim, action_dim, hidden_dim=config.network_width, n_hidden=config.network_depth).to(config.device)\n",
    "critic_1_optimizer = torch.optim.Adam(critic_1.parameters(), lr=3e-4)\n",
    "\n",
    "critic_2 = Critic(state_dim, action_dim, hidden_dim=config.network_width, n_hidden=config.network_depth).to(config.device)\n",
    "critic_2_optimizer = torch.optim.Adam(critic_2.parameters(), lr=3e-4)"
   ]
  },
  {
   "cell_type": "code",
   "execution_count": null,
   "metadata": {},
   "outputs": [],
   "source": [
    "kwargs = {\n",
    "    \"max_action\": max_action,\n",
    "    \"actor\": actor,\n",
    "    \"actor_optimizer\": actor_optimizer,\n",
    "    \"critic_1\": critic_1,\n",
    "    \"critic_1_optimizer\": critic_1_optimizer,\n",
    "    \"critic_2\": critic_2,\n",
    "    \"critic_2_optimizer\": critic_2_optimizer,\n",
    "    \"discount\": config.discount,\n",
    "    \"tau\": config.tau,\n",
    "    \"policy_noise\": config.policy_noise * max_action,\n",
    "    \"noise_clip\": config.noise_clip * max_action,\n",
    "    \"policy_freq\": config.policy_freq,\n",
    "    \"alpha\": config.alpha,\n",
    "}\n",
    "\n",
    "print(\"----------------------------------------------------\")\n",
    "print(f\"Training TD3 + BC, Env: {config.env}, Seed: {seed}\")\n",
    "print(\"----------------------------------------------------\")\n",
    "\n",
    "# Initialize actor\n",
    "trainer = TD3_BC(**kwargs)"
   ]
  },
  {
   "cell_type": "code",
   "execution_count": null,
   "metadata": {},
   "outputs": [],
   "source": [
    "config.max_timesteps"
   ]
  },
  {
   "cell_type": "code",
   "execution_count": null,
   "metadata": {},
   "outputs": [],
   "source": [
    "wandb_project = 'offline_rl_diffusion'\n",
    "wandb_entity = ''\n",
    "wandb_group = 'corl_training'\n",
    "\n",
    "wandb.init(\n",
    "    project=wandb_project,\n",
    "    entity=wandb_entity,\n",
    "    group=wandb_group,\n",
    "    name=results_folder.split('/')[-1],\n",
    ")"
   ]
  },
  {
   "cell_type": "code",
   "execution_count": null,
   "metadata": {},
   "outputs": [],
   "source": [
    "evaluations = []\n",
    "for t in range(int(config.max_timesteps)):\n",
    "    batch = replay_buffer.sample(config.batch_size)\n",
    "    batch = [b.to(config.device) for b in batch]\n",
    "    log_dict = trainer.train(batch)\n",
    "\n",
    "    if t % config.log_every == 0:\n",
    "        wandb.log(log_dict, step=trainer.total_it)\n",
    "        logger.log({'step': trainer.total_it, **log_dict}, mode='train')\n",
    "\n",
    "    # Evaluate episode\n",
    "    if t % config.eval_freq == 0 or t == config.max_timesteps - 1:\n",
    "        print(f\"Time steps: {t + 1}\")\n",
    "        eval_scores = eval_actor(\n",
    "            env,\n",
    "            actor,\n",
    "            device=config.device,\n",
    "            n_episodes=config.n_episodes,\n",
    "            seed=config.seed,\n",
    "        )\n",
    "        eval_score = eval_scores.mean()\n",
    "        evaluations.append(eval_score)\n",
    "        print(\"------------------------------------------------\")\n",
    "        print(\n",
    "            f\"Evaluation over {config.n_episodes} episodes: \"\n",
    "            f\"{eval_score:.3f}\"\n",
    "        )\n",
    "        print(\"------------------------------------------------\")\n",
    "        if config.checkpoints_path is not None and config.save_checkpoints:\n",
    "            torch.save(\n",
    "                trainer.state_dict(),\n",
    "                os.path.join(config.checkpoints_path, f\"checkpoint_{t}.pt\"),\n",
    "            )\n",
    "        log_dict = {\"Score\": eval_score}\n",
    "        wandb.log(log_dict, step=trainer.total_it)\n",
    "        logger.log({'step': trainer.total_it, **log_dict}, mode='eval')"
   ]
  }
 ],
 "metadata": {
  "kernelspec": {
   "display_name": ".venv",
   "language": "python",
   "name": "python3"
  },
  "language_info": {
   "codemirror_mode": {
    "name": "ipython",
    "version": 3
   },
   "file_extension": ".py",
   "mimetype": "text/x-python",
   "name": "python",
   "nbconvert_exporter": "python",
   "pygments_lexer": "ipython3",
   "version": "3.9.6"
  }
 },
 "nbformat": 4,
 "nbformat_minor": 2
}
