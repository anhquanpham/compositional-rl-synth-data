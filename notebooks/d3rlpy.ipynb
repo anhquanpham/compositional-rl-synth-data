{
 "cells": [
  {
   "cell_type": "code",
   "execution_count": 2,
   "metadata": {},
   "outputs": [],
   "source": [
    "from diffusion.utils import *\n",
    "import d3rlpy\n",
    "from d3rlpy.algos import SAC, SACConfig\n",
    "from sklearn.model_selection import train_test_split\n",
    "\n",
    "base_agent_data_path = '/home/anhquanpham/projects/data'\n",
    "base_synthetic_data_path = '/home/anhquanpham/projects/results/non_comp_diff_124'\n",
    "\n",
    "base_results_folder = '/home/anhquanpham/projects/results/d3rlpy'"
   ]
  },
  {
   "cell_type": "code",
   "execution_count": null,
   "metadata": {},
   "outputs": [],
   "source": []
  },
  {
   "cell_type": "code",
   "execution_count": 3,
   "metadata": {},
   "outputs": [
    {
     "name": "stderr",
     "output_type": "stream",
     "text": [
      "/home/anhquanpham/.pyenv/versions/first_3.9.6/lib/python3.9/site-packages/gym/spaces/box.py:127: UserWarning: \u001b[33mWARN: Box bound precision lowered by casting to float32\u001b[0m\n",
      "  logger.warn(f\"Box bound precision lowered by casting to {self.dtype}\")\n"
     ]
    }
   ],
   "source": [
    "robot = 'Jaco'\n",
    "obj = 'Plate'\n",
    "obst = 'GoalWall'\n",
    "subtask = 'PickPlace'\n",
    "\n",
    "env_name = f\"{robot}_{obj}_{obst}_{subtask}\"\n",
    "\n",
    "data_type = 'agent'\n",
    "\n",
    "if data_type == 'synthetic':\n",
    "    synthetic_run_id = 20\n",
    "    mode = 'train'\n",
    "\n",
    "if data_type == 'agent':\n",
    "    env = composuite.make(robot, obj, obst, subtask, use_task_id_obs=True, ignore_done=False)\n",
    "    dataset = load_single_composuite_dataset(base_path=base_agent_data_path, \n",
    "                                             dataset_type='expert', \n",
    "                                             robot=robot, obj=obj, \n",
    "                                             obst=obst, task=subtask)\n",
    "    dataset, _ = remove_indicator_vectors(env.modality_dims, transitions_dataset(dataset))\n",
    "\n",
    "if data_type == 'synthetic':\n",
    "    dataset = load_single_synthetic_dataset(base_path=os.path.join(base_synthetic_data_path, synthetic_run_id, mode), \n",
    "                                            robot=robot, obj=obj, \n",
    "                                            obst=obst, task=subtask)"
   ]
  },
  {
   "cell_type": "code",
   "execution_count": 4,
   "metadata": {},
   "outputs": [],
   "source": [
    "# print(dataset['observations'].shape)\n",
    "# print(env.reset())"
   ]
  },
  {
   "cell_type": "code",
   "execution_count": 5,
   "metadata": {},
   "outputs": [
    {
     "name": "stdout",
     "output_type": "stream",
     "text": [
      "\u001b[2m2025-04-11 21:31.27\u001b[0m [\u001b[32m\u001b[1minfo     \u001b[0m] \u001b[1mSignatures have been automatically determined.\u001b[0m \u001b[36maction_signature\u001b[0m=\u001b[35mSignature(dtype=[dtype('float32')], shape=[(8,)])\u001b[0m \u001b[36mobservation_signature\u001b[0m=\u001b[35mSignature(dtype=[dtype('float32')], shape=[(77,)])\u001b[0m \u001b[36mreward_signature\u001b[0m=\u001b[35mSignature(dtype=[dtype('float32')], shape=[(1,)])\u001b[0m\n",
      "\u001b[2m2025-04-11 21:31.27\u001b[0m [\u001b[32m\u001b[1minfo     \u001b[0m] \u001b[1mAction-space has been automatically determined.\u001b[0m \u001b[36maction_space\u001b[0m=\u001b[35m<ActionSpace.CONTINUOUS: 1>\u001b[0m\n",
      "\u001b[2m2025-04-11 21:31.27\u001b[0m [\u001b[32m\u001b[1minfo     \u001b[0m] \u001b[1mAction size has been automatically determined.\u001b[0m \u001b[36maction_size\u001b[0m=\u001b[35m8\u001b[0m\n"
     ]
    }
   ],
   "source": [
    "dataset = d3rlpy.dataset.MDPDataset(\n",
    "    observations=dataset['observations'],\n",
    "    actions=dataset['actions'],\n",
    "    rewards=dataset['rewards'],\n",
    "    terminals=dataset['terminals']\n",
    ")"
   ]
  },
  {
   "cell_type": "code",
   "execution_count": 6,
   "metadata": {},
   "outputs": [],
   "source": [
    "# sac = d3rlpy.algos.SAC(scaler='standard', action_scaler='min_max')\n",
    "# sac.build_with_dataset(dataset)\n",
    "\n",
    "####WHAT TO FILL IN HERE?#####\n",
    "\n",
    "sac = d3rlpy.algos.SAC(SACConfig(), device=\"cpu\", enable_ddp=False)\n",
    "sac.build_with_dataset(dataset)\n"
   ]
  },
  {
   "cell_type": "code",
   "execution_count": 7,
   "metadata": {},
   "outputs": [],
   "source": [
    "# print(type(dataset))\n",
    "# print(dir(dataset))"
   ]
  },
  {
   "cell_type": "code",
   "execution_count": 8,
   "metadata": {},
   "outputs": [],
   "source": [
    "# print(type(dataset.episodes))\n",
    "# print(dir(dataset.episodes))"
   ]
  },
  {
   "cell_type": "code",
   "execution_count": 9,
   "metadata": {},
   "outputs": [],
   "source": [
    "episode_lengths = [len(ep) for ep in dataset.episodes]\n",
    "# print(\"Episode lengths:\", episode_lengths)"
   ]
  },
  {
   "cell_type": "code",
   "execution_count": 10,
   "metadata": {},
   "outputs": [],
   "source": [
    "#print(dataset.episodes[0])"
   ]
  },
  {
   "cell_type": "code",
   "execution_count": 11,
   "metadata": {},
   "outputs": [
    {
     "name": "stderr",
     "output_type": "stream",
     "text": [
      "/home/anhquanpham/.pyenv/versions/first_3.9.6/lib/python3.9/site-packages/gym/spaces/box.py:127: UserWarning: \u001b[33mWARN: Box bound precision lowered by casting to float32\u001b[0m\n",
      "  logger.warn(f\"Box bound precision lowered by casting to {self.dtype}\")\n"
     ]
    }
   ],
   "source": [
    "# train_episodes, test_episodes = train_test_split(dataset, test_size=0.2)\n",
    "# eval_env = composuite.make(robot, obj, obst, subtask, ignore_done=False)\n",
    "\n",
    "train_episodes, test_episodes = train_test_split(dataset.episodes, test_size=0.2)\n",
    "eval_env = composuite.make(robot, obj, obst, subtask, ignore_done=False)\n",
    "\n",
    "# # For training data:\n",
    "# train_dataset = d3rlpy.dataset.MDPDataset.from_episode_generator(iter(train_episodes))\n",
    "# # For testing data:\n",
    "# test_dataset = d3rlpy.dataset.MDPDataset.from_episode_generator(iter(test_episodes))\n",
    "\n",
    "# train_dataset = d3rlpy.dataset.MDPDataset.from_episode_generator(\n",
    "#     lambda: iter(train_episodes),\n",
    "#     buffer=dataset.buffer\n",
    "# )\n",
    "# test_dataset  = d3rlpy.dataset.MDPDataset.from_episode_generator(\n",
    "#     lambda: iter(test_episodes),\n",
    "#     buffer=dataset.buffer\n",
    "# )\n"
   ]
  },
  {
   "cell_type": "code",
   "execution_count": 12,
   "metadata": {},
   "outputs": [],
   "source": [
    "#print(\"Train\", train_episodes[0])"
   ]
  },
  {
   "cell_type": "code",
   "execution_count": 13,
   "metadata": {},
   "outputs": [],
   "source": [
    "#print(\"Eval_env\", type(eval_env.reset()))"
   ]
  },
  {
   "cell_type": "code",
   "execution_count": 14,
   "metadata": {},
   "outputs": [],
   "source": [
    "# print(\"Eval_env\", eval_env.reset().shape)\n",
    "\n",
    "# Wrap the environment with the ResetAdapter.\n",
    "# eval_env = ResetAdapter(eval_env)\n",
    "\n",
    "# print(\"Eval_env_1\", eval_env.reset())\n",
    "# print(\"Observation shape (should be 77):\", observation.shape)\n",
    "# print(\"Condition shape (should be 16):\", cond.shape)\n",
    "\n",
    "# Now, pass this wrapped environment to your evaluator.\n",
    "from d3rlpy.metrics import EnvironmentEvaluator\n",
    "\n",
    "env_evaluator = EnvironmentEvaluator(env=eval_env, n_trials=10, epsilon=0.0)\n",
    "score = env_evaluator(sac, dataset)\n",
    "#print(\"Evaluation score:\", score)"
   ]
  },
  {
   "cell_type": "code",
   "execution_count": 15,
   "metadata": {},
   "outputs": [],
   "source": [
    "# evaluate_scorer = d3rlpy.metrics.scorer.evaluate_on_environment(eval_env)\n",
    "# rewards = evaluate_scorer(sac)"
   ]
  },
  {
   "cell_type": "code",
   "execution_count": 16,
   "metadata": {},
   "outputs": [
    {
     "name": "stdout",
     "output_type": "stream",
     "text": [
      "1599\n",
      "\u001b[2m2025-04-11 21:31.32\u001b[0m [\u001b[32m\u001b[1minfo     \u001b[0m] \u001b[1mSignatures have been automatically determined.\u001b[0m \u001b[36maction_signature\u001b[0m=\u001b[35mSignature(dtype=[dtype('float32')], shape=[(8,)])\u001b[0m \u001b[36mobservation_signature\u001b[0m=\u001b[35mSignature(dtype=[dtype('float32')], shape=[(77,)])\u001b[0m \u001b[36mreward_signature\u001b[0m=\u001b[35mSignature(dtype=[dtype('float32')], shape=[(1,)])\u001b[0m\n",
      "\u001b[2m2025-04-11 21:31.32\u001b[0m [\u001b[32m\u001b[1minfo     \u001b[0m] \u001b[1mAction-space has been automatically determined.\u001b[0m \u001b[36maction_space\u001b[0m=\u001b[35m<ActionSpace.CONTINUOUS: 1>\u001b[0m\n",
      "\u001b[2m2025-04-11 21:31.32\u001b[0m [\u001b[32m\u001b[1minfo     \u001b[0m] \u001b[1mAction size has been automatically determined.\u001b[0m \u001b[36maction_size\u001b[0m=\u001b[35m8\u001b[0m\n"
     ]
    }
   ],
   "source": [
    "import numpy as np\n",
    "from d3rlpy.dataset import MDPDataset\n",
    "\n",
    "# Initialize empty lists to collect transitions\n",
    "obs_list, act_list, rew_list, term_list = [], [], [], []\n",
    "for episode in train_episodes:\n",
    "    # Assuming each episode is an object with these attributes\n",
    "    obs_list.append(episode.observations)\n",
    "    act_list.append(episode.actions)\n",
    "    rew_list.append(episode.rewards)\n",
    "    term_list.append(np.atleast_1d(episode.terminated))\n",
    "\n",
    "# Concatenate along the first axis (number of samples)\n",
    "observations = np.concatenate(obs_list, axis=0)\n",
    "actions = np.concatenate(act_list, axis=0)\n",
    "rewards = np.concatenate(rew_list, axis=0)\n",
    "print(len(term_list))\n",
    "terminals = np.concatenate(term_list, axis=0)\n",
    "\n",
    "# Create an MDPDataset (which is an instance of ReplayBufferBase)\n",
    "train_dataset = MDPDataset(\n",
    "    observations=observations,\n",
    "    actions=actions,\n",
    "    rewards=rewards,\n",
    "    terminals=terminals\n",
    ")\n"
   ]
  },
  {
   "cell_type": "code",
   "execution_count": null,
   "metadata": {},
   "outputs": [
    {
     "name": "stdout",
     "output_type": "stream",
     "text": [
      "Number of episodes: 1999\n",
      "Total return for one episode: [336.89246]\n",
      "\u001b[2m2025-04-11 21:31.32\u001b[0m [\u001b[32m\u001b[1minfo     \u001b[0m] \u001b[1mdataset info                  \u001b[0m \u001b[36mdataset_info\u001b[0m=\u001b[35mDatasetInfo(observation_signature=Signature(dtype=[dtype('float32')], shape=[(77,)]), action_signature=Signature(dtype=[dtype('float32')], shape=[(8,)]), reward_signature=Signature(dtype=[dtype('float32')], shape=[(1,)]), action_space=<ActionSpace.CONTINUOUS: 1>, action_size=8)\u001b[0m\n",
      "\u001b[2m2025-04-11 21:31.32\u001b[0m [\u001b[33m\u001b[1mwarning  \u001b[0m] \u001b[1mSkip building models since they're already built.\u001b[0m\n",
      "\u001b[2m2025-04-11 21:31.32\u001b[0m [\u001b[32m\u001b[1minfo     \u001b[0m] \u001b[1mDirectory is created at d3rlpy_logs/SAC_20250411213132\u001b[0m\n",
      "\u001b[2m2025-04-11 21:31.32\u001b[0m [\u001b[32m\u001b[1minfo     \u001b[0m] \u001b[1mParameters                    \u001b[0m \u001b[36mparams\u001b[0m=\u001b[35m{'observation_shape': [77], 'action_size': 8, 'config': {'type': 'sac', 'params': {'batch_size': 256, 'gamma': 0.99, 'observation_scaler': {'type': 'none', 'params': {}}, 'action_scaler': {'type': 'none', 'params': {}}, 'reward_scaler': {'type': 'none', 'params': {}}, 'compile_graph': False, 'actor_learning_rate': 0.0003, 'critic_learning_rate': 0.0003, 'temp_learning_rate': 0.0003, 'actor_optim_factory': {'type': 'adam', 'params': {'clip_grad_norm': None, 'lr_scheduler_factory': {'type': 'none', 'params': {}}, 'betas': [0.9, 0.999], 'eps': 1e-08, 'weight_decay': 0, 'amsgrad': False}}, 'critic_optim_factory': {'type': 'adam', 'params': {'clip_grad_norm': None, 'lr_scheduler_factory': {'type': 'none', 'params': {}}, 'betas': [0.9, 0.999], 'eps': 1e-08, 'weight_decay': 0, 'amsgrad': False}}, 'temp_optim_factory': {'type': 'adam', 'params': {'clip_grad_norm': None, 'lr_scheduler_factory': {'type': 'none', 'params': {}}, 'betas': [0.9, 0.999], 'eps': 1e-08, 'weight_decay': 0, 'amsgrad': False}}, 'actor_encoder_factory': {'type': 'default', 'params': {'activation': 'relu', 'use_batch_norm': False, 'dropout_rate': None}}, 'critic_encoder_factory': {'type': 'default', 'params': {'activation': 'relu', 'use_batch_norm': False, 'dropout_rate': None}}, 'q_func_factory': {'type': 'mean', 'params': {'share_encoder': False}}, 'tau': 0.005, 'n_critics': 2, 'initial_temperature': 1.0}}}\u001b[0m\n"
     ]
    },
    {
     "data": {
      "application/vnd.jupyter.widget-view+json": {
       "model_id": "0428f260ca23415fb81e91b722f8101a",
       "version_major": 2,
       "version_minor": 0
      },
      "text/plain": [
       "Epoch 1/2000:   0%|          | 0/500 [00:00<?, ?it/s]"
      ]
     },
     "metadata": {},
     "output_type": "display_data"
    },
    {
     "name": "stdout",
     "output_type": "stream",
     "text": [
      "\u001b[2m2025-04-11 21:31.45\u001b[0m [\u001b[32m\u001b[1minfo     \u001b[0m] \u001b[1mSAC_20250411213132: epoch=1 step=500\u001b[0m \u001b[36mepoch\u001b[0m=\u001b[35m1\u001b[0m \u001b[36mmetrics\u001b[0m=\u001b[35m{'time_sample_batch': 0.006802546501159668, 'time_algorithm_update': 0.014700082778930664, 'critic_loss': 0.023832643565023317, 'actor_loss': -5.681400044441223, 'temp': 0.9298567875623703, 'temp_loss': 12.52301689529419, 'time_step': 0.02159464406967163, 'environment': 0.00045003382760134826}\u001b[0m \u001b[36mstep\u001b[0m=\u001b[35m500\u001b[0m\n"
     ]
    },
    {
     "data": {
      "application/vnd.jupyter.widget-view+json": {
       "model_id": "b3568e14a7684464b4fb1ebd480b1c25",
       "version_major": 2,
       "version_minor": 0
      },
      "text/plain": [
       "Epoch 2/2000:   0%|          | 0/500 [00:00<?, ?it/s]"
      ]
     },
     "metadata": {},
     "output_type": "display_data"
    },
    {
     "name": "stdout",
     "output_type": "stream",
     "text": [
      "\u001b[2m2025-04-11 21:32.01\u001b[0m [\u001b[32m\u001b[1minfo     \u001b[0m] \u001b[1mSAC_20250411213132: epoch=2 step=1000\u001b[0m \u001b[36mepoch\u001b[0m=\u001b[35m2\u001b[0m \u001b[36mmetrics\u001b[0m=\u001b[35m{'time_sample_batch': 0.00794410753250122, 'time_algorithm_update': 0.01767028570175171, 'critic_loss': 0.000706411643885076, 'actor_loss': -5.029967071533203, 'temp': 0.807664516210556, 'temp_loss': 10.88017645072937, 'time_step': 0.0257167272567749, 'environment': 0.00043670446578652827}\u001b[0m \u001b[36mstep\u001b[0m=\u001b[35m1000\u001b[0m\n"
     ]
    },
    {
     "data": {
      "application/vnd.jupyter.widget-view+json": {
       "model_id": "6f4c081dda32464689d7bbdef3dc1b8f",
       "version_major": 2,
       "version_minor": 0
      },
      "text/plain": [
       "Epoch 3/2000:   0%|          | 0/500 [00:00<?, ?it/s]"
      ]
     },
     "metadata": {},
     "output_type": "display_data"
    },
    {
     "name": "stdout",
     "output_type": "stream",
     "text": [
      "\u001b[2m2025-04-11 21:32.16\u001b[0m [\u001b[32m\u001b[1minfo     \u001b[0m] \u001b[1mSAC_20250411213132: epoch=3 step=1500\u001b[0m \u001b[36mepoch\u001b[0m=\u001b[35m3\u001b[0m \u001b[36mmetrics\u001b[0m=\u001b[35m{'time_sample_batch': 0.0075891633033752445, 'time_algorithm_update': 0.01882748508453369, 'critic_loss': 0.00037276500707957895, 'actor_loss': -4.478744918823242, 'temp': 0.7067815647125244, 'temp_loss': 9.522916452407838, 'time_step': 0.026514782428741456, 'environment': 0.0005050749625704753}\u001b[0m \u001b[36mstep\u001b[0m=\u001b[35m1500\u001b[0m\n"
     ]
    },
    {
     "data": {
      "application/vnd.jupyter.widget-view+json": {
       "model_id": "f155fea1c1874488b851d0da50687ff1",
       "version_major": 2,
       "version_minor": 0
      },
      "text/plain": [
       "Epoch 4/2000:   0%|          | 0/500 [00:00<?, ?it/s]"
      ]
     },
     "metadata": {},
     "output_type": "display_data"
    },
    {
     "name": "stdout",
     "output_type": "stream",
     "text": [
      "\u001b[2m2025-04-11 21:32.32\u001b[0m [\u001b[32m\u001b[1minfo     \u001b[0m] \u001b[1mSAC_20250411213132: epoch=4 step=2000\u001b[0m \u001b[36mepoch\u001b[0m=\u001b[35m4\u001b[0m \u001b[36mmetrics\u001b[0m=\u001b[35m{'time_sample_batch': 0.007376007556915283, 'time_algorithm_update': 0.019168676376342772, 'critic_loss': 0.0002054408504482126, 'actor_loss': -4.014768621921539, 'temp': 0.6219982756376267, 'temp_loss': 8.37882685661316, 'time_step': 0.02664275360107422, 'environment': 0.00028210670159524383}\u001b[0m \u001b[36mstep\u001b[0m=\u001b[35m2000\u001b[0m\n"
     ]
    },
    {
     "data": {
      "application/vnd.jupyter.widget-view+json": {
       "model_id": "57d416ba99494b608b7e160929c656a1",
       "version_major": 2,
       "version_minor": 0
      },
      "text/plain": [
       "Epoch 5/2000:   0%|          | 0/500 [00:00<?, ?it/s]"
      ]
     },
     "metadata": {},
     "output_type": "display_data"
    },
    {
     "name": "stdout",
     "output_type": "stream",
     "text": [
      "\u001b[2m2025-04-11 21:32.47\u001b[0m [\u001b[32m\u001b[1minfo     \u001b[0m] \u001b[1mSAC_20250411213132: epoch=5 step=2500\u001b[0m \u001b[36mepoch\u001b[0m=\u001b[35m5\u001b[0m \u001b[36mmetrics\u001b[0m=\u001b[35m{'time_sample_batch': 0.006899038791656494, 'time_algorithm_update': 0.018057806968688965, 'critic_loss': 0.00010959090786491288, 'actor_loss': -3.6173720026016234, 'temp': 0.5497087516784668, 'temp_loss': 7.40438388633728, 'time_step': 0.02504932737350464, 'environment': 0.00039080997181152106}\u001b[0m \u001b[36mstep\u001b[0m=\u001b[35m2500\u001b[0m\n"
     ]
    },
    {
     "data": {
      "application/vnd.jupyter.widget-view+json": {
       "model_id": "2b53e7b9b51b47338686a15ff1edb4c5",
       "version_major": 2,
       "version_minor": 0
      },
      "text/plain": [
       "Epoch 6/2000:   0%|          | 0/500 [00:00<?, ?it/s]"
      ]
     },
     "metadata": {},
     "output_type": "display_data"
    },
    {
     "name": "stdout",
     "output_type": "stream",
     "text": [
      "\u001b[2m2025-04-11 21:33.02\u001b[0m [\u001b[32m\u001b[1minfo     \u001b[0m] \u001b[1mSAC_20250411213132: epoch=6 step=3000\u001b[0m \u001b[36mepoch\u001b[0m=\u001b[35m6\u001b[0m \u001b[36mmetrics\u001b[0m=\u001b[35m{'time_sample_batch': 0.0069620351791381836, 'time_algorithm_update': 0.017963202953338624, 'critic_loss': 6.095596285740612e-05, 'actor_loss': -3.2766283044815063, 'temp': 0.48735668742656707, 'temp_loss': 6.5650976438522335, 'time_step': 0.02502083730697632, 'environment': 0.0005979294187991813}\u001b[0m \u001b[36mstep\u001b[0m=\u001b[35m3000\u001b[0m\n"
     ]
    },
    {
     "data": {
      "application/vnd.jupyter.widget-view+json": {
       "model_id": "50c7c8962bee416fa3f9d0d36bc3b01b",
       "version_major": 2,
       "version_minor": 0
      },
      "text/plain": [
       "Epoch 7/2000:   0%|          | 0/500 [00:00<?, ?it/s]"
      ]
     },
     "metadata": {},
     "output_type": "display_data"
    },
    {
     "name": "stdout",
     "output_type": "stream",
     "text": [
      "\u001b[2m2025-04-11 21:33.19\u001b[0m [\u001b[32m\u001b[1minfo     \u001b[0m] \u001b[1mSAC_20250411213132: epoch=7 step=3500\u001b[0m \u001b[36mepoch\u001b[0m=\u001b[35m7\u001b[0m \u001b[36mmetrics\u001b[0m=\u001b[35m{'time_sample_batch': 0.007449721336364746, 'time_algorithm_update': 0.019414173126220704, 'critic_loss': 3.378767640788283e-05, 'actor_loss': -2.9807968440055848, 'temp': 0.43308831918239593, 'temp_loss': 5.834586305618286, 'time_step': 0.026961218357086182, 'environment': 0.0005186163052160686}\u001b[0m \u001b[36mstep\u001b[0m=\u001b[35m3500\u001b[0m\n"
     ]
    },
    {
     "data": {
      "application/vnd.jupyter.widget-view+json": {
       "model_id": "d3604f0897e54eb4996098d5a05e7f1b",
       "version_major": 2,
       "version_minor": 0
      },
      "text/plain": [
       "Epoch 8/2000:   0%|          | 0/500 [00:00<?, ?it/s]"
      ]
     },
     "metadata": {},
     "output_type": "display_data"
    },
    {
     "name": "stdout",
     "output_type": "stream",
     "text": [
      "\u001b[2m2025-04-11 21:33.34\u001b[0m [\u001b[32m\u001b[1minfo     \u001b[0m] \u001b[1mSAC_20250411213132: epoch=8 step=4000\u001b[0m \u001b[36mepoch\u001b[0m=\u001b[35m8\u001b[0m \u001b[36mmetrics\u001b[0m=\u001b[35m{'time_sample_batch': 0.0073414626121521, 'time_algorithm_update': 0.01890948486328125, 'critic_loss': 2.1205184566497337e-05, 'actor_loss': -2.7226118993759156, 'temp': 0.38553170198202136, 'temp_loss': 5.193714573860168, 'time_step': 0.02634850549697876, 'environment': 0.00043518648052105253}\u001b[0m \u001b[36mstep\u001b[0m=\u001b[35m4000\u001b[0m\n"
     ]
    },
    {
     "data": {
      "application/vnd.jupyter.widget-view+json": {
       "model_id": "f2aca948552543e09d6df69753573361",
       "version_major": 2,
       "version_minor": 0
      },
      "text/plain": [
       "Epoch 9/2000:   0%|          | 0/500 [00:00<?, ?it/s]"
      ]
     },
     "metadata": {},
     "output_type": "display_data"
    },
    {
     "name": "stdout",
     "output_type": "stream",
     "text": [
      "\u001b[2m2025-04-11 21:33.50\u001b[0m [\u001b[32m\u001b[1minfo     \u001b[0m] \u001b[1mSAC_20250411213132: epoch=9 step=4500\u001b[0m \u001b[36mepoch\u001b[0m=\u001b[35m9\u001b[0m \u001b[36mmetrics\u001b[0m=\u001b[35m{'time_sample_batch': 0.00717483901977539, 'time_algorithm_update': 0.0188334641456604, 'critic_loss': 1.7037565662576526e-05, 'actor_loss': -2.4914675002098083, 'temp': 0.343637422144413, 'temp_loss': 4.62930242061615, 'time_step': 0.02610341453552246, 'environment': 0.0005177416534587498}\u001b[0m \u001b[36mstep\u001b[0m=\u001b[35m4500\u001b[0m\n"
     ]
    },
    {
     "data": {
      "application/vnd.jupyter.widget-view+json": {
       "model_id": "1063a08ef650473c8ac63216c10cfb46",
       "version_major": 2,
       "version_minor": 0
      },
      "text/plain": [
       "Epoch 10/2000:   0%|          | 0/500 [00:00<?, ?it/s]"
      ]
     },
     "metadata": {},
     "output_type": "display_data"
    },
    {
     "name": "stdout",
     "output_type": "stream",
     "text": [
      "\u001b[2m2025-04-11 21:34.06\u001b[0m [\u001b[32m\u001b[1minfo     \u001b[0m] \u001b[1mSAC_20250411213132: epoch=10 step=5000\u001b[0m \u001b[36mepoch\u001b[0m=\u001b[35m10\u001b[0m \u001b[36mmetrics\u001b[0m=\u001b[35m{'time_sample_batch': 0.007623714447021484, 'time_algorithm_update': 0.019372496604919433, 'critic_loss': 2.2258915938436986e-05, 'actor_loss': -2.2882720012664794, 'temp': 0.30658221876621244, 'temp_loss': 4.129361536026001, 'time_step': 0.027093894958496095, 'environment': 0.0004480940504246545}\u001b[0m \u001b[36mstep\u001b[0m=\u001b[35m5000\u001b[0m\n"
     ]
    },
    {
     "data": {
      "application/vnd.jupyter.widget-view+json": {
       "model_id": "305f5885480245d299364bf6cdf1cecd",
       "version_major": 2,
       "version_minor": 0
      },
      "text/plain": [
       "Epoch 11/2000:   0%|          | 0/500 [00:00<?, ?it/s]"
      ]
     },
     "metadata": {},
     "output_type": "display_data"
    },
    {
     "name": "stdout",
     "output_type": "stream",
     "text": [
      "\u001b[2m2025-04-11 21:34.22\u001b[0m [\u001b[32m\u001b[1minfo     \u001b[0m] \u001b[1mSAC_20250411213132: epoch=11 step=5500\u001b[0m \u001b[36mepoch\u001b[0m=\u001b[35m11\u001b[0m \u001b[36mmetrics\u001b[0m=\u001b[35m{'time_sample_batch': 0.007390922069549561, 'time_algorithm_update': 0.020180280208587646, 'critic_loss': 2.1766386289527873e-05, 'actor_loss': -2.1095081064701082, 'temp': 0.2737068681120873, 'temp_loss': 3.687238695144653, 'time_step': 0.02766752338409424, 'environment': 0.00038384572693093364}\u001b[0m \u001b[36mstep\u001b[0m=\u001b[35m5500\u001b[0m\n"
     ]
    },
    {
     "data": {
      "application/vnd.jupyter.widget-view+json": {
       "model_id": "93584139a2e144a38012c701fe96b681",
       "version_major": 2,
       "version_minor": 0
      },
      "text/plain": [
       "Epoch 12/2000:   0%|          | 0/500 [00:00<?, ?it/s]"
      ]
     },
     "metadata": {},
     "output_type": "display_data"
    },
    {
     "name": "stdout",
     "output_type": "stream",
     "text": [
      "\u001b[2m2025-04-11 21:34.39\u001b[0m [\u001b[32m\u001b[1minfo     \u001b[0m] \u001b[1mSAC_20250411213132: epoch=12 step=6000\u001b[0m \u001b[36mepoch\u001b[0m=\u001b[35m12\u001b[0m \u001b[36mmetrics\u001b[0m=\u001b[35m{'time_sample_batch': 0.007759446144104004, 'time_algorithm_update': 0.02050509738922119, 'critic_loss': 1.9563459482014877e-05, 'actor_loss': -1.9499255244731903, 'temp': 0.2444710707962513, 'temp_loss': 3.293650951385498, 'time_step': 0.028363073348999023, 'environment': 0.0004415436407519181}\u001b[0m \u001b[36mstep\u001b[0m=\u001b[35m6000\u001b[0m\n"
     ]
    },
    {
     "data": {
      "application/vnd.jupyter.widget-view+json": {
       "model_id": "54f6dfb12c904121b16870406fb93447",
       "version_major": 2,
       "version_minor": 0
      },
      "text/plain": [
       "Epoch 13/2000:   0%|          | 0/500 [00:00<?, ?it/s]"
      ]
     },
     "metadata": {},
     "output_type": "display_data"
    },
    {
     "name": "stdout",
     "output_type": "stream",
     "text": [
      "\u001b[2m2025-04-11 21:34.56\u001b[0m [\u001b[32m\u001b[1minfo     \u001b[0m] \u001b[1mSAC_20250411213132: epoch=13 step=6500\u001b[0m \u001b[36mepoch\u001b[0m=\u001b[35m13\u001b[0m \u001b[36mmetrics\u001b[0m=\u001b[35m{'time_sample_batch': 0.008267468452453613, 'time_algorithm_update': 0.020256227016448976, 'critic_loss': 2.07679542331789e-05, 'actor_loss': -1.8060984091758727, 'temp': 0.21843437212705613, 'temp_loss': 2.9422614488601684, 'time_step': 0.028622138977050782, 'environment': 0.0005819394815916335}\u001b[0m \u001b[36mstep\u001b[0m=\u001b[35m6500\u001b[0m\n"
     ]
    },
    {
     "data": {
      "application/vnd.jupyter.widget-view+json": {
       "model_id": "9c1eefc9db6c4eca80c78f162151973d",
       "version_major": 2,
       "version_minor": 0
      },
      "text/plain": [
       "Epoch 14/2000:   0%|          | 0/500 [00:00<?, ?it/s]"
      ]
     },
     "metadata": {},
     "output_type": "display_data"
    },
    {
     "name": "stdout",
     "output_type": "stream",
     "text": [
      "\u001b[2m2025-04-11 21:35.12\u001b[0m [\u001b[32m\u001b[1minfo     \u001b[0m] \u001b[1mSAC_20250411213132: epoch=14 step=7000\u001b[0m \u001b[36mepoch\u001b[0m=\u001b[35m14\u001b[0m \u001b[36mmetrics\u001b[0m=\u001b[35m{'time_sample_batch': 0.007175822734832763, 'time_algorithm_update': 0.019225811958312987, 'critic_loss': 2.09798231271634e-05, 'actor_loss': -1.6794354219436645, 'temp': 0.19522038835287095, 'temp_loss': 2.629616265773773, 'time_step': 0.026495583534240724, 'environment': 0.0004220436387687721}\u001b[0m \u001b[36mstep\u001b[0m=\u001b[35m7000\u001b[0m\n"
     ]
    },
    {
     "data": {
      "application/vnd.jupyter.widget-view+json": {
       "model_id": "77ced2ded7914ab99a9d4cc598fd4058",
       "version_major": 2,
       "version_minor": 0
      },
      "text/plain": [
       "Epoch 15/2000:   0%|          | 0/500 [00:00<?, ?it/s]"
      ]
     },
     "metadata": {},
     "output_type": "display_data"
    },
    {
     "name": "stdout",
     "output_type": "stream",
     "text": [
      "\u001b[2m2025-04-11 21:35.27\u001b[0m [\u001b[32m\u001b[1minfo     \u001b[0m] \u001b[1mSAC_20250411213132: epoch=15 step=7500\u001b[0m \u001b[36mepoch\u001b[0m=\u001b[35m15\u001b[0m \u001b[36mmetrics\u001b[0m=\u001b[35m{'time_sample_batch': 0.00652134895324707, 'time_algorithm_update': 0.01802948331832886, 'critic_loss': 2.0692779643468384e-05, 'actor_loss': -1.570287058353424, 'temp': 0.1745044548213482, 'temp_loss': 2.350377498626709, 'time_step': 0.024641698360443116, 'environment': 0.0004797468016363316}\u001b[0m \u001b[36mstep\u001b[0m=\u001b[35m7500\u001b[0m\n"
     ]
    },
    {
     "data": {
      "application/vnd.jupyter.widget-view+json": {
       "model_id": "99fa28753d84433ebc66228b2a54f2b0",
       "version_major": 2,
       "version_minor": 0
      },
      "text/plain": [
       "Epoch 16/2000:   0%|          | 0/500 [00:00<?, ?it/s]"
      ]
     },
     "metadata": {},
     "output_type": "display_data"
    },
    {
     "name": "stdout",
     "output_type": "stream",
     "text": [
      "\u001b[2m2025-04-11 21:35.42\u001b[0m [\u001b[32m\u001b[1minfo     \u001b[0m] \u001b[1mSAC_20250411213132: epoch=16 step=8000\u001b[0m \u001b[36mepoch\u001b[0m=\u001b[35m16\u001b[0m \u001b[36mmetrics\u001b[0m=\u001b[35m{'time_sample_batch': 0.006448076725006103, 'time_algorithm_update': 0.018420105457305908, 'critic_loss': 2.3079710082129168e-05, 'actor_loss': -1.4669902567863464, 'temp': 0.1560055235028267, 'temp_loss': 2.101456283092499, 'time_step': 0.024955456733703613, 'environment': 0.0004582496462558551}\u001b[0m \u001b[36mstep\u001b[0m=\u001b[35m8000\u001b[0m\n"
     ]
    },
    {
     "data": {
      "application/vnd.jupyter.widget-view+json": {
       "model_id": "666ef501249a44a09bdf9529c53bdd31",
       "version_major": 2,
       "version_minor": 0
      },
      "text/plain": [
       "Epoch 17/2000:   0%|          | 0/500 [00:00<?, ?it/s]"
      ]
     },
     "metadata": {},
     "output_type": "display_data"
    },
    {
     "name": "stdout",
     "output_type": "stream",
     "text": [
      "\u001b[2m2025-04-11 21:35.57\u001b[0m [\u001b[32m\u001b[1minfo     \u001b[0m] \u001b[1mSAC_20250411213132: epoch=17 step=8500\u001b[0m \u001b[36mepoch\u001b[0m=\u001b[35m17\u001b[0m \u001b[36mmetrics\u001b[0m=\u001b[35m{'time_sample_batch': 0.006593405723571777, 'time_algorithm_update': 0.0182444109916687, 'critic_loss': 1.6469818619043508e-05, 'actor_loss': -1.3787983851432801, 'temp': 0.1394799979329109, 'temp_loss': 1.87855025267601, 'time_step': 0.024928696155548095, 'environment': 0.00043025456595343416}\u001b[0m \u001b[36mstep\u001b[0m=\u001b[35m8500\u001b[0m\n"
     ]
    },
    {
     "data": {
      "application/vnd.jupyter.widget-view+json": {
       "model_id": "27f55bc6687a4bc78c9285ec6bd7315e",
       "version_major": 2,
       "version_minor": 0
      },
      "text/plain": [
       "Epoch 18/2000:   0%|          | 0/500 [00:00<?, ?it/s]"
      ]
     },
     "metadata": {},
     "output_type": "display_data"
    },
    {
     "name": "stdout",
     "output_type": "stream",
     "text": [
      "\u001b[2m2025-04-11 21:36.13\u001b[0m [\u001b[32m\u001b[1minfo     \u001b[0m] \u001b[1mSAC_20250411213132: epoch=18 step=9000\u001b[0m \u001b[36mepoch\u001b[0m=\u001b[35m18\u001b[0m \u001b[36mmetrics\u001b[0m=\u001b[35m{'time_sample_batch': 0.0068305878639221196, 'time_algorithm_update': 0.020552701473236085, 'critic_loss': 1.8177920058860762e-05, 'actor_loss': -1.2957634029388427, 'temp': 0.12471102699637412, 'temp_loss': 1.679649629354477, 'time_step': 0.027480011463165283, 'environment': 0.0004690976517332479}\u001b[0m \u001b[36mstep\u001b[0m=\u001b[35m9000\u001b[0m\n"
     ]
    },
    {
     "data": {
      "application/vnd.jupyter.widget-view+json": {
       "model_id": "895d9d28f79e4875a43c240e446eb382",
       "version_major": 2,
       "version_minor": 0
      },
      "text/plain": [
       "Epoch 19/2000:   0%|          | 0/500 [00:00<?, ?it/s]"
      ]
     },
     "metadata": {},
     "output_type": "display_data"
    },
    {
     "name": "stdout",
     "output_type": "stream",
     "text": [
      "\u001b[2m2025-04-11 21:36.30\u001b[0m [\u001b[32m\u001b[1minfo     \u001b[0m] \u001b[1mSAC_20250411213132: epoch=19 step=9500\u001b[0m \u001b[36mepoch\u001b[0m=\u001b[35m19\u001b[0m \u001b[36mmetrics\u001b[0m=\u001b[35m{'time_sample_batch': 0.0076904683113098145, 'time_algorithm_update': 0.020815952777862547, 'critic_loss': 1.962173293759406e-05, 'actor_loss': -1.223580811023712, 'temp': 0.11151294991374015, 'temp_loss': 1.501611426115036, 'time_step': 0.028605403423309327, 'environment': 0.0005167987372038164}\u001b[0m \u001b[36mstep\u001b[0m=\u001b[35m9500\u001b[0m\n"
     ]
    },
    {
     "data": {
      "application/vnd.jupyter.widget-view+json": {
       "model_id": "2c0bd57d9da546f2aa2cfad06b7da4e9",
       "version_major": 2,
       "version_minor": 0
      },
      "text/plain": [
       "Epoch 20/2000:   0%|          | 0/500 [00:00<?, ?it/s]"
      ]
     },
     "metadata": {},
     "output_type": "display_data"
    },
    {
     "name": "stdout",
     "output_type": "stream",
     "text": [
      "\u001b[2m2025-04-11 21:36.47\u001b[0m [\u001b[32m\u001b[1minfo     \u001b[0m] \u001b[1mSAC_20250411213132: epoch=20 step=10000\u001b[0m \u001b[36mepoch\u001b[0m=\u001b[35m20\u001b[0m \u001b[36mmetrics\u001b[0m=\u001b[35m{'time_sample_batch': 0.007564700603485107, 'time_algorithm_update': 0.021024346351623535, 'critic_loss': 1.7099673573284236e-05, 'actor_loss': -1.160813247680664, 'temp': 0.09971433688700199, 'temp_loss': 1.3427899434566497, 'time_step': 0.02868782138824463, 'environment': 0.0004258665671445283}\u001b[0m \u001b[36mstep\u001b[0m=\u001b[35m10000\u001b[0m\n"
     ]
    },
    {
     "data": {
      "application/vnd.jupyter.widget-view+json": {
       "model_id": "35c55519a4df4ac3a99ff3cf8626f0e0",
       "version_major": 2,
       "version_minor": 0
      },
      "text/plain": [
       "Epoch 21/2000:   0%|          | 0/500 [00:00<?, ?it/s]"
      ]
     },
     "metadata": {},
     "output_type": "display_data"
    },
    {
     "name": "stdout",
     "output_type": "stream",
     "text": [
      "\u001b[2m2025-04-11 21:37.03\u001b[0m [\u001b[32m\u001b[1minfo     \u001b[0m] \u001b[1mSAC_20250411213132: epoch=21 step=10500\u001b[0m \u001b[36mepoch\u001b[0m=\u001b[35m21\u001b[0m \u001b[36mmetrics\u001b[0m=\u001b[35m{'time_sample_batch': 0.007189188480377197, 'time_algorithm_update': 0.01947584819793701, 'critic_loss': 1.6084250203221017e-05, 'actor_loss': -1.101145197868347, 'temp': 0.08916510669887066, 'temp_loss': 1.2005813109874726, 'time_step': 0.026762115955352783, 'environment': 0.0003809476200115225}\u001b[0m \u001b[36mstep\u001b[0m=\u001b[35m10500\u001b[0m\n"
     ]
    },
    {
     "data": {
      "application/vnd.jupyter.widget-view+json": {
       "model_id": "0188c33deb3a49e58c7ee5edabdae393",
       "version_major": 2,
       "version_minor": 0
      },
      "text/plain": [
       "Epoch 22/2000:   0%|          | 0/500 [00:00<?, ?it/s]"
      ]
     },
     "metadata": {},
     "output_type": "display_data"
    },
    {
     "name": "stdout",
     "output_type": "stream",
     "text": [
      "\u001b[2m2025-04-11 21:37.20\u001b[0m [\u001b[32m\u001b[1minfo     \u001b[0m] \u001b[1mSAC_20250411213132: epoch=22 step=11000\u001b[0m \u001b[36mepoch\u001b[0m=\u001b[35m22\u001b[0m \u001b[36mmetrics\u001b[0m=\u001b[35m{'time_sample_batch': 0.007610175132751465, 'time_algorithm_update': 0.02043112802505493, 'critic_loss': 1.8149541773254895e-05, 'actor_loss': -1.0510029180049896, 'temp': 0.07973412789404392, 'temp_loss': 1.0734926297664642, 'time_step': 0.028140077114105225, 'environment': 0.0005653584708582326}\u001b[0m \u001b[36mstep\u001b[0m=\u001b[35m11000\u001b[0m\n"
     ]
    },
    {
     "data": {
      "application/vnd.jupyter.widget-view+json": {
       "model_id": "ec627ec9a92c4c31a123d6862b732fc6",
       "version_major": 2,
       "version_minor": 0
      },
      "text/plain": [
       "Epoch 23/2000:   0%|          | 0/500 [00:00<?, ?it/s]"
      ]
     },
     "metadata": {},
     "output_type": "display_data"
    },
    {
     "name": "stdout",
     "output_type": "stream",
     "text": [
      "\u001b[2m2025-04-11 21:37.35\u001b[0m [\u001b[32m\u001b[1minfo     \u001b[0m] \u001b[1mSAC_20250411213132: epoch=23 step=11500\u001b[0m \u001b[36mepoch\u001b[0m=\u001b[35m23\u001b[0m \u001b[36mmetrics\u001b[0m=\u001b[35m{'time_sample_batch': 0.0070717353820800785, 'time_algorithm_update': 0.018620636463165283, 'critic_loss': 1.642352188400764e-05, 'actor_loss': -1.0051275471448897, 'temp': 0.07130162574350835, 'temp_loss': 0.9596898927688599, 'time_step': 0.025785978317260743, 'environment': 0.0004344296503560119}\u001b[0m \u001b[36mstep\u001b[0m=\u001b[35m11500\u001b[0m\n"
     ]
    },
    {
     "data": {
      "application/vnd.jupyter.widget-view+json": {
       "model_id": "96f8233f1b074923b1ebe97ecfc1e2a6",
       "version_major": 2,
       "version_minor": 0
      },
      "text/plain": [
       "Epoch 24/2000:   0%|          | 0/500 [00:00<?, ?it/s]"
      ]
     },
     "metadata": {},
     "output_type": "display_data"
    },
    {
     "name": "stdout",
     "output_type": "stream",
     "text": [
      "\u001b[2m2025-04-11 21:37.51\u001b[0m [\u001b[32m\u001b[1minfo     \u001b[0m] \u001b[1mSAC_20250411213132: epoch=24 step=12000\u001b[0m \u001b[36mepoch\u001b[0m=\u001b[35m24\u001b[0m \u001b[36mmetrics\u001b[0m=\u001b[35m{'time_sample_batch': 0.007180560111999512, 'time_algorithm_update': 0.019657559871673586, 'critic_loss': 1.9607460507359063e-05, 'actor_loss': -0.9642866712808609, 'temp': 0.06376182360202073, 'temp_loss': 0.858121797800064, 'time_step': 0.026933831214904787, 'environment': 0.0003858581953988783}\u001b[0m \u001b[36mstep\u001b[0m=\u001b[35m12000\u001b[0m\n"
     ]
    },
    {
     "data": {
      "application/vnd.jupyter.widget-view+json": {
       "model_id": "851bbd85aa574e5a8102e1731e5f22d5",
       "version_major": 2,
       "version_minor": 0
      },
      "text/plain": [
       "Epoch 25/2000:   0%|          | 0/500 [00:00<?, ?it/s]"
      ]
     },
     "metadata": {},
     "output_type": "display_data"
    },
    {
     "name": "stdout",
     "output_type": "stream",
     "text": [
      "\u001b[2m2025-04-11 21:38.08\u001b[0m [\u001b[32m\u001b[1minfo     \u001b[0m] \u001b[1mSAC_20250411213132: epoch=25 step=12500\u001b[0m \u001b[36mepoch\u001b[0m=\u001b[35m25\u001b[0m \u001b[36mmetrics\u001b[0m=\u001b[35m{'time_sample_batch': 0.007682843685150147, 'time_algorithm_update': 0.020922690391540526, 'critic_loss': 1.3360888214833722e-05, 'actor_loss': -0.9271047463417054, 'temp': 0.05702045371383429, 'temp_loss': 0.7670186439752579, 'time_step': 0.028705795288085936, 'environment': 0.0003739217113767634}\u001b[0m \u001b[36mstep\u001b[0m=\u001b[35m12500\u001b[0m\n"
     ]
    },
    {
     "data": {
      "application/vnd.jupyter.widget-view+json": {
       "model_id": "b53ba630c3bf429fa3cdc4ee97d1dad8",
       "version_major": 2,
       "version_minor": 0
      },
      "text/plain": [
       "Epoch 26/2000:   0%|          | 0/500 [00:00<?, ?it/s]"
      ]
     },
     "metadata": {},
     "output_type": "display_data"
    },
    {
     "name": "stdout",
     "output_type": "stream",
     "text": [
      "\u001b[2m2025-04-11 21:38.25\u001b[0m [\u001b[32m\u001b[1minfo     \u001b[0m] \u001b[1mSAC_20250411213132: epoch=26 step=13000\u001b[0m \u001b[36mepoch\u001b[0m=\u001b[35m26\u001b[0m \u001b[36mmetrics\u001b[0m=\u001b[35m{'time_sample_batch': 0.007746669769287109, 'time_algorithm_update': 0.020697487354278565, 'critic_loss': 1.9341761577607032e-05, 'actor_loss': -0.8924959907531739, 'temp': 0.05099361360818148, 'temp_loss': 0.6857373554706574, 'time_step': 0.02854174041748047, 'environment': 0.0005645111883152775}\u001b[0m \u001b[36mstep\u001b[0m=\u001b[35m13000\u001b[0m\n"
     ]
    },
    {
     "data": {
      "application/vnd.jupyter.widget-view+json": {
       "model_id": "c8453853bd4040a18f30130a61c078ce",
       "version_major": 2,
       "version_minor": 0
      },
      "text/plain": [
       "Epoch 27/2000:   0%|          | 0/500 [00:00<?, ?it/s]"
      ]
     },
     "metadata": {},
     "output_type": "display_data"
    },
    {
     "name": "stdout",
     "output_type": "stream",
     "text": [
      "\u001b[2m2025-04-11 21:38.41\u001b[0m [\u001b[32m\u001b[1minfo     \u001b[0m] \u001b[1mSAC_20250411213132: epoch=27 step=13500\u001b[0m \u001b[36mepoch\u001b[0m=\u001b[35m27\u001b[0m \u001b[36mmetrics\u001b[0m=\u001b[35m{'time_sample_batch': 0.006991913795471191, 'time_algorithm_update': 0.01980501413345337, 'critic_loss': 1.2065993560781863e-05, 'actor_loss': -0.8630082539319992, 'temp': 0.04560358535498381, 'temp_loss': 0.6130095748901367, 'time_step': 0.02689238214492798, 'environment': 0.00047436716694794213}\u001b[0m \u001b[36mstep\u001b[0m=\u001b[35m13500\u001b[0m\n"
     ]
    },
    {
     "data": {
      "application/vnd.jupyter.widget-view+json": {
       "model_id": "7afe05946d54468f8b163a58da782fe6",
       "version_major": 2,
       "version_minor": 0
      },
      "text/plain": [
       "Epoch 28/2000:   0%|          | 0/500 [00:00<?, ?it/s]"
      ]
     },
     "metadata": {},
     "output_type": "display_data"
    },
    {
     "name": "stdout",
     "output_type": "stream",
     "text": [
      "\u001b[2m2025-04-11 21:38.58\u001b[0m [\u001b[32m\u001b[1minfo     \u001b[0m] \u001b[1mSAC_20250411213132: epoch=28 step=14000\u001b[0m \u001b[36mepoch\u001b[0m=\u001b[35m28\u001b[0m \u001b[36mmetrics\u001b[0m=\u001b[35m{'time_sample_batch': 0.007580342292785644, 'time_algorithm_update': 0.020839386463165282, 'critic_loss': 1.9965210863119865e-05, 'actor_loss': -0.8401481531858445, 'temp': 0.04078403298556805, 'temp_loss': 0.547940883755684, 'time_step': 0.02851794672012329, 'environment': 0.0003922444206104126}\u001b[0m \u001b[36mstep\u001b[0m=\u001b[35m14000\u001b[0m\n"
     ]
    },
    {
     "data": {
      "application/vnd.jupyter.widget-view+json": {
       "model_id": "bb4116a0fcfe40b6a8ab9dd04677ced1",
       "version_major": 2,
       "version_minor": 0
      },
      "text/plain": [
       "Epoch 29/2000:   0%|          | 0/500 [00:00<?, ?it/s]"
      ]
     },
     "metadata": {},
     "output_type": "display_data"
    },
    {
     "name": "stdout",
     "output_type": "stream",
     "text": [
      "\u001b[2m2025-04-11 21:39.14\u001b[0m [\u001b[32m\u001b[1minfo     \u001b[0m] \u001b[1mSAC_20250411213132: epoch=29 step=14500\u001b[0m \u001b[36mepoch\u001b[0m=\u001b[35m29\u001b[0m \u001b[36mmetrics\u001b[0m=\u001b[35m{'time_sample_batch': 0.007197642803192138, 'time_algorithm_update': 0.019536779403686522, 'critic_loss': 1.4991143260090212e-05, 'actor_loss': -0.8139821456670762, 'temp': 0.03647432816773653, 'temp_loss': 0.4897744534611702, 'time_step': 0.02683055067062378, 'environment': 0.000434787570734827}\u001b[0m \u001b[36mstep\u001b[0m=\u001b[35m14500\u001b[0m\n"
     ]
    },
    {
     "data": {
      "application/vnd.jupyter.widget-view+json": {
       "model_id": "ab9a8e0dd54546c1a9d2dd4bf6a5eca9",
       "version_major": 2,
       "version_minor": 0
      },
      "text/plain": [
       "Epoch 30/2000:   0%|          | 0/500 [00:00<?, ?it/s]"
      ]
     },
     "metadata": {},
     "output_type": "display_data"
    },
    {
     "name": "stdout",
     "output_type": "stream",
     "text": [
      "\u001b[2m2025-04-11 21:39.31\u001b[0m [\u001b[32m\u001b[1minfo     \u001b[0m] \u001b[1mSAC_20250411213132: epoch=30 step=15000\u001b[0m \u001b[36mepoch\u001b[0m=\u001b[35m30\u001b[0m \u001b[36mmetrics\u001b[0m=\u001b[35m{'time_sample_batch': 0.0075923171043396, 'time_algorithm_update': 0.021237903118133544, 'critic_loss': 1.2691573266693013e-05, 'actor_loss': -0.7945114316940307, 'temp': 0.03262140893936157, 'temp_loss': 0.4376468952298164, 'time_step': 0.02892610788345337, 'environment': 0.00043297102579277654}\u001b[0m \u001b[36mstep\u001b[0m=\u001b[35m15000\u001b[0m\n"
     ]
    },
    {
     "data": {
      "application/vnd.jupyter.widget-view+json": {
       "model_id": "f03e0927dfdf478f923c1a855b8001a7",
       "version_major": 2,
       "version_minor": 0
      },
      "text/plain": [
       "Epoch 31/2000:   0%|          | 0/500 [00:00<?, ?it/s]"
      ]
     },
     "metadata": {},
     "output_type": "display_data"
    },
    {
     "name": "stdout",
     "output_type": "stream",
     "text": [
      "\u001b[2m2025-04-11 21:39.48\u001b[0m [\u001b[32m\u001b[1minfo     \u001b[0m] \u001b[1mSAC_20250411213132: epoch=31 step=15500\u001b[0m \u001b[36mepoch\u001b[0m=\u001b[35m31\u001b[0m \u001b[36mmetrics\u001b[0m=\u001b[35m{'time_sample_batch': 0.007749558925628662, 'time_algorithm_update': 0.021453351974487306, 'critic_loss': 1.3067486997897504e-05, 'actor_loss': -0.7728619019985199, 'temp': 0.02917662800475955, 'temp_loss': 0.3910243265628815, 'time_step': 0.029304423332214356, 'environment': 0.00039032411593407977}\u001b[0m \u001b[36mstep\u001b[0m=\u001b[35m15500\u001b[0m\n"
     ]
    },
    {
     "data": {
      "application/vnd.jupyter.widget-view+json": {
       "model_id": "55fd72417ccc416ba0d1ee5e2618c890",
       "version_major": 2,
       "version_minor": 0
      },
      "text/plain": [
       "Epoch 32/2000:   0%|          | 0/500 [00:00<?, ?it/s]"
      ]
     },
     "metadata": {},
     "output_type": "display_data"
    },
    {
     "name": "stdout",
     "output_type": "stream",
     "text": [
      "\u001b[2m2025-04-11 21:40.05\u001b[0m [\u001b[32m\u001b[1minfo     \u001b[0m] \u001b[1mSAC_20250411213132: epoch=32 step=16000\u001b[0m \u001b[36mepoch\u001b[0m=\u001b[35m32\u001b[0m \u001b[36mmetrics\u001b[0m=\u001b[35m{'time_sample_batch': 0.007651086807250977, 'time_algorithm_update': 0.02165061283111572, 'critic_loss': 1.649626775974866e-05, 'actor_loss': -0.7601863729953766, 'temp': 0.026096774082630874, 'temp_loss': 0.3492742576599121, 'time_step': 0.029402106761932372, 'environment': 0.0004732669886592622}\u001b[0m \u001b[36mstep\u001b[0m=\u001b[35m16000\u001b[0m\n"
     ]
    },
    {
     "data": {
      "application/vnd.jupyter.widget-view+json": {
       "model_id": "f81cf67dbf494da7aef0fb7dd7308026",
       "version_major": 2,
       "version_minor": 0
      },
      "text/plain": [
       "Epoch 33/2000:   0%|          | 0/500 [00:00<?, ?it/s]"
      ]
     },
     "metadata": {},
     "output_type": "display_data"
    },
    {
     "name": "stdout",
     "output_type": "stream",
     "text": [
      "\u001b[2m2025-04-11 21:40.19\u001b[0m [\u001b[32m\u001b[1minfo     \u001b[0m] \u001b[1mSAC_20250411213132: epoch=33 step=16500\u001b[0m \u001b[36mepoch\u001b[0m=\u001b[35m33\u001b[0m \u001b[36mmetrics\u001b[0m=\u001b[35m{'time_sample_batch': 0.005684415340423584, 'time_algorithm_update': 0.015824933528900145, 'critic_loss': 1.2364784124883954e-05, 'actor_loss': -0.7424145934581756, 'temp': 0.023343144085258245, 'temp_loss': 0.31201720601320265, 'time_step': 0.02159541940689087, 'environment': 0.000501565898707812}\u001b[0m \u001b[36mstep\u001b[0m=\u001b[35m16500\u001b[0m\n"
     ]
    },
    {
     "data": {
      "application/vnd.jupyter.widget-view+json": {
       "model_id": "8f49b42eb96f4b8aa88932211d371167",
       "version_major": 2,
       "version_minor": 0
      },
      "text/plain": [
       "Epoch 34/2000:   0%|          | 0/500 [00:00<?, ?it/s]"
      ]
     },
     "metadata": {},
     "output_type": "display_data"
    },
    {
     "name": "stdout",
     "output_type": "stream",
     "text": [
      "\u001b[2m2025-04-11 21:40.36\u001b[0m [\u001b[32m\u001b[1minfo     \u001b[0m] \u001b[1mSAC_20250411213132: epoch=34 step=17000\u001b[0m \u001b[36mepoch\u001b[0m=\u001b[35m34\u001b[0m \u001b[36mmetrics\u001b[0m=\u001b[35m{'time_sample_batch': 0.0076059412956237795, 'time_algorithm_update': 0.02107493543624878, 'critic_loss': 1.6413618195883827e-05, 'actor_loss': -0.7329672906398773, 'temp': 0.020881097491830588, 'temp_loss': 0.27864388459920886, 'time_step': 0.028779771327972412, 'environment': 0.0004874238795548803}\u001b[0m \u001b[36mstep\u001b[0m=\u001b[35m17000\u001b[0m\n"
     ]
    },
    {
     "data": {
      "application/vnd.jupyter.widget-view+json": {
       "model_id": "82e128524d974dd5896a30c9e0360525",
       "version_major": 2,
       "version_minor": 0
      },
      "text/plain": [
       "Epoch 35/2000:   0%|          | 0/500 [00:00<?, ?it/s]"
      ]
     },
     "metadata": {},
     "output_type": "display_data"
    },
    {
     "name": "stdout",
     "output_type": "stream",
     "text": [
      "\u001b[2m2025-04-11 21:40.52\u001b[0m [\u001b[32m\u001b[1minfo     \u001b[0m] \u001b[1mSAC_20250411213132: epoch=35 step=17500\u001b[0m \u001b[36mepoch\u001b[0m=\u001b[35m35\u001b[0m \u001b[36mmetrics\u001b[0m=\u001b[35m{'time_sample_batch': 0.006843173027038575, 'time_algorithm_update': 0.020145960807800293, 'critic_loss': 1.357218868520249e-05, 'actor_loss': -0.7202066469192505, 'temp': 0.01868025753647089, 'temp_loss': 0.24869913497567178, 'time_step': 0.02708064603805542, 'environment': 0.00041919469570651297}\u001b[0m \u001b[36mstep\u001b[0m=\u001b[35m17500\u001b[0m\n"
     ]
    },
    {
     "data": {
      "application/vnd.jupyter.widget-view+json": {
       "model_id": "12f446eaaaa643cca35f3ad6d136f5df",
       "version_major": 2,
       "version_minor": 0
      },
      "text/plain": [
       "Epoch 36/2000:   0%|          | 0/500 [00:00<?, ?it/s]"
      ]
     },
     "metadata": {},
     "output_type": "display_data"
    },
    {
     "name": "stdout",
     "output_type": "stream",
     "text": [
      "\u001b[2m2025-04-11 21:41.08\u001b[0m [\u001b[32m\u001b[1minfo     \u001b[0m] \u001b[1mSAC_20250411213132: epoch=36 step=18000\u001b[0m \u001b[36mepoch\u001b[0m=\u001b[35m36\u001b[0m \u001b[36mmetrics\u001b[0m=\u001b[35m{'time_sample_batch': 0.006914126396179199, 'time_algorithm_update': 0.01978410005569458, 'critic_loss': 1.1778257250398383e-05, 'actor_loss': -0.7089235886335373, 'temp': 0.016712687935680152, 'temp_loss': 0.22195971620082855, 'time_step': 0.02679038715362549, 'environment': 0.00046788524319478774}\u001b[0m \u001b[36mstep\u001b[0m=\u001b[35m18000\u001b[0m\n"
     ]
    },
    {
     "data": {
      "application/vnd.jupyter.widget-view+json": {
       "model_id": "9ab485dc2e094b01bc80660c6b15da43",
       "version_major": 2,
       "version_minor": 0
      },
      "text/plain": [
       "Epoch 37/2000:   0%|          | 0/500 [00:00<?, ?it/s]"
      ]
     },
     "metadata": {},
     "output_type": "display_data"
    },
    {
     "name": "stdout",
     "output_type": "stream",
     "text": [
      "\u001b[2m2025-04-11 21:41.25\u001b[0m [\u001b[32m\u001b[1minfo     \u001b[0m] \u001b[1mSAC_20250411213132: epoch=37 step=18500\u001b[0m \u001b[36mepoch\u001b[0m=\u001b[35m37\u001b[0m \u001b[36mmetrics\u001b[0m=\u001b[35m{'time_sample_batch': 0.007358452320098877, 'time_algorithm_update': 0.021328861713409423, 'critic_loss': 1.3982269780171919e-05, 'actor_loss': -0.6987834132909775, 'temp': 0.014954407345503568, 'temp_loss': 0.19788332408666612, 'time_step': 0.028783408164978028, 'environment': 0.00048558430550322385}\u001b[0m \u001b[36mstep\u001b[0m=\u001b[35m18500\u001b[0m\n"
     ]
    },
    {
     "data": {
      "application/vnd.jupyter.widget-view+json": {
       "model_id": "769684294f1247e9aaf5bc765c646dd7",
       "version_major": 2,
       "version_minor": 0
      },
      "text/plain": [
       "Epoch 38/2000:   0%|          | 0/500 [00:00<?, ?it/s]"
      ]
     },
     "metadata": {},
     "output_type": "display_data"
    },
    {
     "name": "stdout",
     "output_type": "stream",
     "text": [
      "\u001b[2m2025-04-11 21:41.42\u001b[0m [\u001b[32m\u001b[1minfo     \u001b[0m] \u001b[1mSAC_20250411213132: epoch=38 step=19000\u001b[0m \u001b[36mepoch\u001b[0m=\u001b[35m38\u001b[0m \u001b[36mmetrics\u001b[0m=\u001b[35m{'time_sample_batch': 0.00757490587234497, 'time_algorithm_update': 0.02167534065246582, 'critic_loss': 1.0703842404382158e-05, 'actor_loss': -0.6924775253534317, 'temp': 0.01338310842588544, 'temp_loss': 0.17638515314459802, 'time_step': 0.029347091674804687, 'environment': 0.0003912757800285994}\u001b[0m \u001b[36mstep\u001b[0m=\u001b[35m19000\u001b[0m\n"
     ]
    },
    {
     "data": {
      "application/vnd.jupyter.widget-view+json": {
       "model_id": "dad981625284445092ac37c9552e1509",
       "version_major": 2,
       "version_minor": 0
      },
      "text/plain": [
       "Epoch 39/2000:   0%|          | 0/500 [00:00<?, ?it/s]"
      ]
     },
     "metadata": {},
     "output_type": "display_data"
    },
    {
     "name": "stdout",
     "output_type": "stream",
     "text": [
      "\u001b[2m2025-04-11 21:42.00\u001b[0m [\u001b[32m\u001b[1minfo     \u001b[0m] \u001b[1mSAC_20250411213132: epoch=39 step=19500\u001b[0m \u001b[36mepoch\u001b[0m=\u001b[35m39\u001b[0m \u001b[36mmetrics\u001b[0m=\u001b[35m{'time_sample_batch': 0.007894573211669921, 'time_algorithm_update': 0.021961776256561278, 'critic_loss': 1.6754951156940478e-05, 'actor_loss': -0.6862300983667373, 'temp': 0.011978969618678092, 'temp_loss': 0.15709172165393828, 'time_step': 0.029955597877502443, 'environment': 0.0005560637024224069}\u001b[0m \u001b[36mstep\u001b[0m=\u001b[35m19500\u001b[0m\n"
     ]
    },
    {
     "data": {
      "application/vnd.jupyter.widget-view+json": {
       "model_id": "a68ae070b2f34e3dbd58b852cc029bf1",
       "version_major": 2,
       "version_minor": 0
      },
      "text/plain": [
       "Epoch 40/2000:   0%|          | 0/500 [00:00<?, ?it/s]"
      ]
     },
     "metadata": {},
     "output_type": "display_data"
    },
    {
     "name": "stdout",
     "output_type": "stream",
     "text": [
      "\u001b[2m2025-04-11 21:42.17\u001b[0m [\u001b[32m\u001b[1minfo     \u001b[0m] \u001b[1mSAC_20250411213132: epoch=40 step=20000\u001b[0m \u001b[36mepoch\u001b[0m=\u001b[35m40\u001b[0m \u001b[36mmetrics\u001b[0m=\u001b[35m{'time_sample_batch': 0.007732962131500244, 'time_algorithm_update': 0.0215037899017334, 'critic_loss': 7.693079287548699e-06, 'actor_loss': -0.6785068887472153, 'temp': 0.010724536208435893, 'temp_loss': 0.1396995113492012, 'time_step': 0.02933497667312622, 'environment': 0.0005027971442282486}\u001b[0m \u001b[36mstep\u001b[0m=\u001b[35m20000\u001b[0m\n"
     ]
    },
    {
     "data": {
      "application/vnd.jupyter.widget-view+json": {
       "model_id": "95c88103a40c4749b32bcd47f0fead03",
       "version_major": 2,
       "version_minor": 0
      },
      "text/plain": [
       "Epoch 41/2000:   0%|          | 0/500 [00:00<?, ?it/s]"
      ]
     },
     "metadata": {},
     "output_type": "display_data"
    },
    {
     "name": "stdout",
     "output_type": "stream",
     "text": [
      "\u001b[2m2025-04-11 21:42.34\u001b[0m [\u001b[32m\u001b[1minfo     \u001b[0m] \u001b[1mSAC_20250411213132: epoch=41 step=20500\u001b[0m \u001b[36mepoch\u001b[0m=\u001b[35m41\u001b[0m \u001b[36mmetrics\u001b[0m=\u001b[35m{'time_sample_batch': 0.007764394760131836, 'time_algorithm_update': 0.021931262969970704, 'critic_loss': 1.537613747962041e-05, 'actor_loss': -0.672348226070404, 'temp': 0.009604431077837945, 'temp_loss': 0.12409633319079875, 'time_step': 0.029796702861785887, 'environment': 0.0005221748909044411}\u001b[0m \u001b[36mstep\u001b[0m=\u001b[35m20500\u001b[0m\n"
     ]
    },
    {
     "data": {
      "application/vnd.jupyter.widget-view+json": {
       "model_id": "cfafd44563824ff6953ceaafa7c31cef",
       "version_major": 2,
       "version_minor": 0
      },
      "text/plain": [
       "Epoch 42/2000:   0%|          | 0/500 [00:00<?, ?it/s]"
      ]
     },
     "metadata": {},
     "output_type": "display_data"
    },
    {
     "name": "stdout",
     "output_type": "stream",
     "text": [
      "\u001b[2m2025-04-11 21:42.51\u001b[0m [\u001b[32m\u001b[1minfo     \u001b[0m] \u001b[1mSAC_20250411213132: epoch=42 step=21000\u001b[0m \u001b[36mepoch\u001b[0m=\u001b[35m42\u001b[0m \u001b[36mmetrics\u001b[0m=\u001b[35m{'time_sample_batch': 0.007634771823883057, 'time_algorithm_update': 0.02076602602005005, 'critic_loss': 9.536704159700094e-06, 'actor_loss': -0.6692759317159652, 'temp': 0.008604596611112356, 'temp_loss': 0.11003256118297577, 'time_step': 0.02849920701980591, 'environment': 0.0004381485665491703}\u001b[0m \u001b[36mstep\u001b[0m=\u001b[35m21000\u001b[0m\n"
     ]
    },
    {
     "data": {
      "application/vnd.jupyter.widget-view+json": {
       "model_id": "7697f35b616d466992c76ea76fea2ad3",
       "version_major": 2,
       "version_minor": 0
      },
      "text/plain": [
       "Epoch 43/2000:   0%|          | 0/500 [00:00<?, ?it/s]"
      ]
     },
     "metadata": {},
     "output_type": "display_data"
    },
    {
     "name": "stdout",
     "output_type": "stream",
     "text": [
      "\u001b[2m2025-04-11 21:43.07\u001b[0m [\u001b[32m\u001b[1minfo     \u001b[0m] \u001b[1mSAC_20250411213132: epoch=43 step=21500\u001b[0m \u001b[36mepoch\u001b[0m=\u001b[35m43\u001b[0m \u001b[36mmetrics\u001b[0m=\u001b[35m{'time_sample_batch': 0.006260055541992188, 'time_algorithm_update': 0.019765763759613038, 'critic_loss': 1.1354271396157856e-05, 'actor_loss': -0.6643068840503693, 'temp': 0.007712338017299771, 'temp_loss': 0.09733197194337845, 'time_step': 0.02611558961868286, 'environment': 0.0004797871220905248}\u001b[0m \u001b[36mstep\u001b[0m=\u001b[35m21500\u001b[0m\n"
     ]
    },
    {
     "data": {
      "application/vnd.jupyter.widget-view+json": {
       "model_id": "eae89a9aebdd4be8babb22116bb65154",
       "version_major": 2,
       "version_minor": 0
      },
      "text/plain": [
       "Epoch 44/2000:   0%|          | 0/500 [00:00<?, ?it/s]"
      ]
     },
     "metadata": {},
     "output_type": "display_data"
    },
    {
     "name": "stdout",
     "output_type": "stream",
     "text": [
      "\u001b[2m2025-04-11 21:43.24\u001b[0m [\u001b[32m\u001b[1minfo     \u001b[0m] \u001b[1mSAC_20250411213132: epoch=44 step=22000\u001b[0m \u001b[36mepoch\u001b[0m=\u001b[35m44\u001b[0m \u001b[36mmetrics\u001b[0m=\u001b[35m{'time_sample_batch': 0.007448364734649658, 'time_algorithm_update': 0.021158822536468506, 'critic_loss': 1.0972502975391762e-05, 'actor_loss': -0.6600211696624756, 'temp': 0.006916872626170516, 'temp_loss': 0.08596090897917748, 'time_step': 0.028706775665283204, 'environment': 0.0004532447055780332}\u001b[0m \u001b[36mstep\u001b[0m=\u001b[35m22000\u001b[0m\n"
     ]
    },
    {
     "data": {
      "application/vnd.jupyter.widget-view+json": {
       "model_id": "6eca9d15d72c4e11aa7ed056ce93d907",
       "version_major": 2,
       "version_minor": 0
      },
      "text/plain": [
       "Epoch 45/2000:   0%|          | 0/500 [00:00<?, ?it/s]"
      ]
     },
     "metadata": {},
     "output_type": "display_data"
    },
    {
     "name": "stdout",
     "output_type": "stream",
     "text": [
      "\u001b[2m2025-04-11 21:43.41\u001b[0m [\u001b[32m\u001b[1minfo     \u001b[0m] \u001b[1mSAC_20250411213132: epoch=45 step=22500\u001b[0m \u001b[36mepoch\u001b[0m=\u001b[35m45\u001b[0m \u001b[36mmetrics\u001b[0m=\u001b[35m{'time_sample_batch': 0.0074784021377563474, 'time_algorithm_update': 0.021386053085327147, 'critic_loss': 1.394284466039153e-05, 'actor_loss': -0.6578622392416, 'temp': 0.00620750455185771, 'temp_loss': 0.07559416735172272, 'time_step': 0.02896278476715088, 'environment': 0.00044289576382494644}\u001b[0m \u001b[36mstep\u001b[0m=\u001b[35m22500\u001b[0m\n"
     ]
    },
    {
     "data": {
      "application/vnd.jupyter.widget-view+json": {
       "model_id": "dc28be282ade41c8b3cb20c11e3a5929",
       "version_major": 2,
       "version_minor": 0
      },
      "text/plain": [
       "Epoch 46/2000:   0%|          | 0/500 [00:00<?, ?it/s]"
      ]
     },
     "metadata": {},
     "output_type": "display_data"
    },
    {
     "name": "stdout",
     "output_type": "stream",
     "text": [
      "\u001b[2m2025-04-11 21:43.56\u001b[0m [\u001b[32m\u001b[1minfo     \u001b[0m] \u001b[1mSAC_20250411213132: epoch=46 step=23000\u001b[0m \u001b[36mepoch\u001b[0m=\u001b[35m46\u001b[0m \u001b[36mmetrics\u001b[0m=\u001b[35m{'time_sample_batch': 0.0068950834274291994, 'time_algorithm_update': 0.01869600248336792, 'critic_loss': 9.057007913725102e-06, 'actor_loss': -0.6570112910270691, 'temp': 0.005575493461452425, 'temp_loss': 0.06638189665973186, 'time_step': 0.02568458080291748, 'environment': 0.000385148032604381}\u001b[0m \u001b[36mstep\u001b[0m=\u001b[35m23000\u001b[0m\n"
     ]
    },
    {
     "data": {
      "application/vnd.jupyter.widget-view+json": {
       "model_id": "6fa22bd9e7e9474f8479f8eeb38510cd",
       "version_major": 2,
       "version_minor": 0
      },
      "text/plain": [
       "Epoch 47/2000:   0%|          | 0/500 [00:00<?, ?it/s]"
      ]
     },
     "metadata": {},
     "output_type": "display_data"
    },
    {
     "name": "stdout",
     "output_type": "stream",
     "text": [
      "\u001b[2m2025-04-11 21:44.14\u001b[0m [\u001b[32m\u001b[1minfo     \u001b[0m] \u001b[1mSAC_20250411213132: epoch=47 step=23500\u001b[0m \u001b[36mepoch\u001b[0m=\u001b[35m47\u001b[0m \u001b[36mmetrics\u001b[0m=\u001b[35m{'time_sample_batch': 0.007779963493347168, 'time_algorithm_update': 0.02272849988937378, 'critic_loss': 1.1841532340440608e-05, 'actor_loss': -0.6526848260164261, 'temp': 0.0050131245674565434, 'temp_loss': 0.05793513710796833, 'time_step': 0.03060876989364624, 'environment': 0.0003685402884868672}\u001b[0m \u001b[36mstep\u001b[0m=\u001b[35m23500\u001b[0m\n"
     ]
    },
    {
     "data": {
      "application/vnd.jupyter.widget-view+json": {
       "model_id": "45ac510dbed74bfcbd5cf2f023c1018f",
       "version_major": 2,
       "version_minor": 0
      },
      "text/plain": [
       "Epoch 48/2000:   0%|          | 0/500 [00:00<?, ?it/s]"
      ]
     },
     "metadata": {},
     "output_type": "display_data"
    },
    {
     "name": "stdout",
     "output_type": "stream",
     "text": [
      "\u001b[2m2025-04-11 21:44.35\u001b[0m [\u001b[32m\u001b[1minfo     \u001b[0m] \u001b[1mSAC_20250411213132: epoch=48 step=24000\u001b[0m \u001b[36mepoch\u001b[0m=\u001b[35m48\u001b[0m \u001b[36mmetrics\u001b[0m=\u001b[35m{'time_sample_batch': 0.00811717700958252, 'time_algorithm_update': 0.027834127902984618, 'critic_loss': 1.0244827268934387e-05, 'actor_loss': -0.649995907664299, 'temp': 0.0045117837209254505, 'temp_loss': 0.05055210971832275, 'time_step': 0.03606521797180176, 'environment': 0.0004553405774759624}\u001b[0m \u001b[36mstep\u001b[0m=\u001b[35m24000\u001b[0m\n"
     ]
    },
    {
     "data": {
      "application/vnd.jupyter.widget-view+json": {
       "model_id": "b7be789dd3dc4e0885607c5e6705314c",
       "version_major": 2,
       "version_minor": 0
      },
      "text/plain": [
       "Epoch 49/2000:   0%|          | 0/500 [00:00<?, ?it/s]"
      ]
     },
     "metadata": {},
     "output_type": "display_data"
    },
    {
     "name": "stdout",
     "output_type": "stream",
     "text": [
      "\u001b[2m2025-04-11 21:44.53\u001b[0m [\u001b[32m\u001b[1minfo     \u001b[0m] \u001b[1mSAC_20250411213132: epoch=49 step=24500\u001b[0m \u001b[36mepoch\u001b[0m=\u001b[35m49\u001b[0m \u001b[36mmetrics\u001b[0m=\u001b[35m{'time_sample_batch': 0.007659676074981689, 'time_algorithm_update': 0.02352126169204712, 'critic_loss': 1.2192777603104333e-05, 'actor_loss': -0.6509223624467849, 'temp': 0.004064931716769934, 'temp_loss': 0.04401426327228546, 'time_step': 0.0312836275100708, 'environment': 0.00042234764062323296}\u001b[0m \u001b[36mstep\u001b[0m=\u001b[35m24500\u001b[0m\n"
     ]
    },
    {
     "data": {
      "application/vnd.jupyter.widget-view+json": {
       "model_id": "080317c890ed441594a56973fcc395d9",
       "version_major": 2,
       "version_minor": 0
      },
      "text/plain": [
       "Epoch 50/2000:   0%|          | 0/500 [00:00<?, ?it/s]"
      ]
     },
     "metadata": {},
     "output_type": "display_data"
    },
    {
     "name": "stdout",
     "output_type": "stream",
     "text": [
      "\u001b[2m2025-04-11 21:45.10\u001b[0m [\u001b[32m\u001b[1minfo     \u001b[0m] \u001b[1mSAC_20250411213132: epoch=50 step=25000\u001b[0m \u001b[36mepoch\u001b[0m=\u001b[35m50\u001b[0m \u001b[36mmetrics\u001b[0m=\u001b[35m{'time_sample_batch': 0.007554408550262451, 'time_algorithm_update': 0.021604286670684814, 'critic_loss': 9.37415453927315e-06, 'actor_loss': -0.6493365185260773, 'temp': 0.0036655065794475375, 'temp_loss': 0.0382009187489748, 'time_step': 0.029258821964263916, 'environment': 0.0004628072365909253}\u001b[0m \u001b[36mstep\u001b[0m=\u001b[35m25000\u001b[0m\n"
     ]
    },
    {
     "data": {
      "application/vnd.jupyter.widget-view+json": {
       "model_id": "d81de414fe314940ac38378b2601b4c0",
       "version_major": 2,
       "version_minor": 0
      },
      "text/plain": [
       "Epoch 51/2000:   0%|          | 0/500 [00:00<?, ?it/s]"
      ]
     },
     "metadata": {},
     "output_type": "display_data"
    },
    {
     "name": "stdout",
     "output_type": "stream",
     "text": [
      "\u001b[2m2025-04-11 21:45.28\u001b[0m [\u001b[32m\u001b[1minfo     \u001b[0m] \u001b[1mSAC_20250411213132: epoch=51 step=25500\u001b[0m \u001b[36mepoch\u001b[0m=\u001b[35m51\u001b[0m \u001b[36mmetrics\u001b[0m=\u001b[35m{'time_sample_batch': 0.007501467227935791, 'time_algorithm_update': 0.021802613258361817, 'critic_loss': 9.462603233600931e-06, 'actor_loss': -0.6477634844779968, 'temp': 0.0033087612111121416, 'temp_loss': 0.03304743571206927, 'time_step': 0.029403826236724852, 'environment': 0.0005111673396842354}\u001b[0m \u001b[36mstep\u001b[0m=\u001b[35m25500\u001b[0m\n"
     ]
    },
    {
     "data": {
      "application/vnd.jupyter.widget-view+json": {
       "model_id": "1755549676864aa98bcc992571acf721",
       "version_major": 2,
       "version_minor": 0
      },
      "text/plain": [
       "Epoch 52/2000:   0%|          | 0/500 [00:00<?, ?it/s]"
      ]
     },
     "metadata": {},
     "output_type": "display_data"
    },
    {
     "name": "stdout",
     "output_type": "stream",
     "text": [
      "\u001b[2m2025-04-11 21:45.44\u001b[0m [\u001b[32m\u001b[1minfo     \u001b[0m] \u001b[1mSAC_20250411213132: epoch=52 step=26000\u001b[0m \u001b[36mepoch\u001b[0m=\u001b[35m52\u001b[0m \u001b[36mmetrics\u001b[0m=\u001b[35m{'time_sample_batch': 0.007498470306396485, 'time_algorithm_update': 0.02003280210494995, 'critic_loss': 1.1698825268865676e-05, 'actor_loss': -0.6481588060855865, 'temp': 0.0029890452004037796, 'temp_loss': 0.028760079190135002, 'time_step': 0.02763020372390747, 'environment': 0.0004863988138841236}\u001b[0m \u001b[36mstep\u001b[0m=\u001b[35m26000\u001b[0m\n"
     ]
    },
    {
     "data": {
      "application/vnd.jupyter.widget-view+json": {
       "model_id": "e2eb920c2c484dddbde81a0876f4ec92",
       "version_major": 2,
       "version_minor": 0
      },
      "text/plain": [
       "Epoch 53/2000:   0%|          | 0/500 [00:00<?, ?it/s]"
      ]
     },
     "metadata": {},
     "output_type": "display_data"
    },
    {
     "name": "stdout",
     "output_type": "stream",
     "text": [
      "\u001b[2m2025-04-11 21:46.00\u001b[0m [\u001b[32m\u001b[1minfo     \u001b[0m] \u001b[1mSAC_20250411213132: epoch=53 step=26500\u001b[0m \u001b[36mepoch\u001b[0m=\u001b[35m53\u001b[0m \u001b[36mmetrics\u001b[0m=\u001b[35m{'time_sample_batch': 0.0066671261787414554, 'time_algorithm_update': 0.019823888301849366, 'critic_loss': 9.109099387274e-06, 'actor_loss': -0.647592945098877, 'temp': 0.002701915624085814, 'temp_loss': 0.02483544163405895, 'time_step': 0.02658219861984253, 'environment': 0.00037836849993324147}\u001b[0m \u001b[36mstep\u001b[0m=\u001b[35m26500\u001b[0m\n"
     ]
    },
    {
     "data": {
      "application/vnd.jupyter.widget-view+json": {
       "model_id": "03cabb34a9f64d98befee9cebc634d17",
       "version_major": 2,
       "version_minor": 0
      },
      "text/plain": [
       "Epoch 54/2000:   0%|          | 0/500 [00:00<?, ?it/s]"
      ]
     },
     "metadata": {},
     "output_type": "display_data"
    },
    {
     "name": "stdout",
     "output_type": "stream",
     "text": [
      "\u001b[2m2025-04-11 21:46.16\u001b[0m [\u001b[32m\u001b[1minfo     \u001b[0m] \u001b[1mSAC_20250411213132: epoch=54 step=27000\u001b[0m \u001b[36mepoch\u001b[0m=\u001b[35m54\u001b[0m \u001b[36mmetrics\u001b[0m=\u001b[35m{'time_sample_batch': 0.007130137920379639, 'time_algorithm_update': 0.020365365505218506, 'critic_loss': 9.365499873069894e-06, 'actor_loss': -0.6468066903352737, 'temp': 0.0024439710816368462, 'temp_loss': 0.021464978113770485, 'time_step': 0.02759007453918457, 'environment': 0.0004999407711978266}\u001b[0m \u001b[36mstep\u001b[0m=\u001b[35m27000\u001b[0m\n"
     ]
    },
    {
     "data": {
      "application/vnd.jupyter.widget-view+json": {
       "model_id": "e8b78539f71042deab2b7e23ece9fc60",
       "version_major": 2,
       "version_minor": 0
      },
      "text/plain": [
       "Epoch 55/2000:   0%|          | 0/500 [00:00<?, ?it/s]"
      ]
     },
     "metadata": {},
     "output_type": "display_data"
    },
    {
     "name": "stdout",
     "output_type": "stream",
     "text": [
      "\u001b[2m2025-04-11 21:46.34\u001b[0m [\u001b[32m\u001b[1minfo     \u001b[0m] \u001b[1mSAC_20250411213132: epoch=55 step=27500\u001b[0m \u001b[36mepoch\u001b[0m=\u001b[35m55\u001b[0m \u001b[36mmetrics\u001b[0m=\u001b[35m{'time_sample_batch': 0.007858757972717284, 'time_algorithm_update': 0.02208085012435913, 'critic_loss': 9.76432711945563e-06, 'actor_loss': -0.647741883635521, 'temp': 0.0022127424138598142, 'temp_loss': 0.018478466786444186, 'time_step': 0.03004042673110962, 'environment': 0.0004561009153857687}\u001b[0m \u001b[36mstep\u001b[0m=\u001b[35m27500\u001b[0m\n"
     ]
    },
    {
     "data": {
      "application/vnd.jupyter.widget-view+json": {
       "model_id": "2e78de1de8ab4aea8338023af646cbf3",
       "version_major": 2,
       "version_minor": 0
      },
      "text/plain": [
       "Epoch 56/2000:   0%|          | 0/500 [00:00<?, ?it/s]"
      ]
     },
     "metadata": {},
     "output_type": "display_data"
    },
    {
     "name": "stdout",
     "output_type": "stream",
     "text": [
      "\u001b[2m2025-04-11 21:46.50\u001b[0m [\u001b[32m\u001b[1minfo     \u001b[0m] \u001b[1mSAC_20250411213132: epoch=56 step=28000\u001b[0m \u001b[36mepoch\u001b[0m=\u001b[35m56\u001b[0m \u001b[36mmetrics\u001b[0m=\u001b[35m{'time_sample_batch': 0.006689555644989013, 'time_algorithm_update': 0.020720343589782714, 'critic_loss': 9.292883116813755e-06, 'actor_loss': -0.6482957718372345, 'temp': 0.002004433849127963, 'temp_loss': 0.01605448016524315, 'time_step': 0.027503474712371825, 'environment': 0.0005370020713497126}\u001b[0m \u001b[36mstep\u001b[0m=\u001b[35m28000\u001b[0m\n"
     ]
    },
    {
     "data": {
      "application/vnd.jupyter.widget-view+json": {
       "model_id": "85fb3390e836439382dc2baaa8d09f45",
       "version_major": 2,
       "version_minor": 0
      },
      "text/plain": [
       "Epoch 57/2000:   0%|          | 0/500 [00:00<?, ?it/s]"
      ]
     },
     "metadata": {},
     "output_type": "display_data"
    },
    {
     "name": "stdout",
     "output_type": "stream",
     "text": [
      "\u001b[2m2025-04-11 21:47.08\u001b[0m [\u001b[32m\u001b[1minfo     \u001b[0m] \u001b[1mSAC_20250411213132: epoch=57 step=28500\u001b[0m \u001b[36mepoch\u001b[0m=\u001b[35m57\u001b[0m \u001b[36mmetrics\u001b[0m=\u001b[35m{'time_sample_batch': 0.007678730487823486, 'time_algorithm_update': 0.021733644485473633, 'critic_loss': 1.1928456686632672e-05, 'actor_loss': -0.646052866101265, 'temp': 0.0018169872525613754, 'temp_loss': 0.013643025141209363, 'time_step': 0.029512641429901124, 'environment': 0.00043025852449979807}\u001b[0m \u001b[36mstep\u001b[0m=\u001b[35m28500\u001b[0m\n"
     ]
    },
    {
     "data": {
      "application/vnd.jupyter.widget-view+json": {
       "model_id": "8face693825541f8b50b5f9a0a3cef2b",
       "version_major": 2,
       "version_minor": 0
      },
      "text/plain": [
       "Epoch 58/2000:   0%|          | 0/500 [00:00<?, ?it/s]"
      ]
     },
     "metadata": {},
     "output_type": "display_data"
    },
    {
     "name": "stdout",
     "output_type": "stream",
     "text": [
      "\u001b[2m2025-04-11 21:47.25\u001b[0m [\u001b[32m\u001b[1minfo     \u001b[0m] \u001b[1mSAC_20250411213132: epoch=58 step=29000\u001b[0m \u001b[36mepoch\u001b[0m=\u001b[35m58\u001b[0m \u001b[36mmetrics\u001b[0m=\u001b[35m{'time_sample_batch': 0.007727314949035644, 'time_algorithm_update': 0.02063709545135498, 'critic_loss': 7.485711770982562e-06, 'actor_loss': -0.6476895632743835, 'temp': 0.0016497400405351072, 'temp_loss': 0.011643905654549598, 'time_step': 0.028464228630065917, 'environment': 0.0004908721679313066}\u001b[0m \u001b[36mstep\u001b[0m=\u001b[35m29000\u001b[0m\n"
     ]
    },
    {
     "data": {
      "application/vnd.jupyter.widget-view+json": {
       "model_id": "04adec8c68e447909bb3ae1c27db17e9",
       "version_major": 2,
       "version_minor": 0
      },
      "text/plain": [
       "Epoch 59/2000:   0%|          | 0/500 [00:00<?, ?it/s]"
      ]
     },
     "metadata": {},
     "output_type": "display_data"
    },
    {
     "name": "stdout",
     "output_type": "stream",
     "text": [
      "\u001b[2m2025-04-11 21:47.44\u001b[0m [\u001b[32m\u001b[1minfo     \u001b[0m] \u001b[1mSAC_20250411213132: epoch=59 step=29500\u001b[0m \u001b[36mepoch\u001b[0m=\u001b[35m59\u001b[0m \u001b[36mmetrics\u001b[0m=\u001b[35m{'time_sample_batch': 0.007871206283569337, 'time_algorithm_update': 0.024718380451202393, 'critic_loss': 1.0369711756652577e-05, 'actor_loss': -0.6485821913480758, 'temp': 0.0015001066029071807, 'temp_loss': 0.009779872193932533, 'time_step': 0.03269563865661621, 'environment': 0.0004337189860403345}\u001b[0m \u001b[36mstep\u001b[0m=\u001b[35m29500\u001b[0m\n"
     ]
    },
    {
     "data": {
      "application/vnd.jupyter.widget-view+json": {
       "model_id": "5dcf403dd68844f2b44c3b0492c3f6bd",
       "version_major": 2,
       "version_minor": 0
      },
      "text/plain": [
       "Epoch 60/2000:   0%|          | 0/500 [00:00<?, ?it/s]"
      ]
     },
     "metadata": {},
     "output_type": "display_data"
    },
    {
     "name": "stdout",
     "output_type": "stream",
     "text": [
      "\u001b[2m2025-04-11 21:48.01\u001b[0m [\u001b[32m\u001b[1minfo     \u001b[0m] \u001b[1mSAC_20250411213132: epoch=60 step=30000\u001b[0m \u001b[36mepoch\u001b[0m=\u001b[35m60\u001b[0m \u001b[36mmetrics\u001b[0m=\u001b[35m{'time_sample_batch': 0.007499062061309815, 'time_algorithm_update': 0.021639749526977538, 'critic_loss': 8.12404272164713e-06, 'actor_loss': -0.646799510717392, 'temp': 0.0013684814495500178, 'temp_loss': 0.008016241150908172, 'time_step': 0.029242402076721193, 'environment': 0.0005075320375246895}\u001b[0m \u001b[36mstep\u001b[0m=\u001b[35m30000\u001b[0m\n"
     ]
    },
    {
     "data": {
      "application/vnd.jupyter.widget-view+json": {
       "model_id": "175d1669270747da815d831f8ca7787c",
       "version_major": 2,
       "version_minor": 0
      },
      "text/plain": [
       "Epoch 61/2000:   0%|          | 0/500 [00:00<?, ?it/s]"
      ]
     },
     "metadata": {},
     "output_type": "display_data"
    },
    {
     "name": "stdout",
     "output_type": "stream",
     "text": [
      "\u001b[2m2025-04-11 21:48.20\u001b[0m [\u001b[32m\u001b[1minfo     \u001b[0m] \u001b[1mSAC_20250411213132: epoch=61 step=30500\u001b[0m \u001b[36mepoch\u001b[0m=\u001b[35m61\u001b[0m \u001b[36mmetrics\u001b[0m=\u001b[35m{'time_sample_batch': 0.008143016815185547, 'time_algorithm_update': 0.024515233516693116, 'critic_loss': 1.1238181573162365e-05, 'actor_loss': -0.6474547727108002, 'temp': 0.0012532567395828664, 'temp_loss': 0.00643151125498116, 'time_step': 0.032766419887542725, 'environment': 0.0004270523889673372}\u001b[0m \u001b[36mstep\u001b[0m=\u001b[35m30500\u001b[0m\n"
     ]
    },
    {
     "data": {
      "application/vnd.jupyter.widget-view+json": {
       "model_id": "e38009f3bb5b41f08ff4d29c665925a7",
       "version_major": 2,
       "version_minor": 0
      },
      "text/plain": [
       "Epoch 62/2000:   0%|          | 0/500 [00:00<?, ?it/s]"
      ]
     },
     "metadata": {},
     "output_type": "display_data"
    },
    {
     "name": "stdout",
     "output_type": "stream",
     "text": [
      "\u001b[2m2025-04-11 21:48.40\u001b[0m [\u001b[32m\u001b[1minfo     \u001b[0m] \u001b[1mSAC_20250411213132: epoch=62 step=31000\u001b[0m \u001b[36mepoch\u001b[0m=\u001b[35m62\u001b[0m \u001b[36mmetrics\u001b[0m=\u001b[35m{'time_sample_batch': 0.008184160232543945, 'time_algorithm_update': 0.02598602819442749, 'critic_loss': 7.634147898329502e-06, 'actor_loss': -0.6466036825180054, 'temp': 0.0011559779911767692, 'temp_loss': 0.004867985621560365, 'time_step': 0.034278115272521975, 'environment': 0.0004938928562581557}\u001b[0m \u001b[36mstep\u001b[0m=\u001b[35m31000\u001b[0m\n"
     ]
    },
    {
     "data": {
      "application/vnd.jupyter.widget-view+json": {
       "model_id": "84f0327a4d344d92b9684da9ad37f96c",
       "version_major": 2,
       "version_minor": 0
      },
      "text/plain": [
       "Epoch 63/2000:   0%|          | 0/500 [00:00<?, ?it/s]"
      ]
     },
     "metadata": {},
     "output_type": "display_data"
    },
    {
     "name": "stdout",
     "output_type": "stream",
     "text": [
      "\u001b[2m2025-04-11 21:48.58\u001b[0m [\u001b[32m\u001b[1minfo     \u001b[0m] \u001b[1mSAC_20250411213132: epoch=63 step=31500\u001b[0m \u001b[36mepoch\u001b[0m=\u001b[35m63\u001b[0m \u001b[36mmetrics\u001b[0m=\u001b[35m{'time_sample_batch': 0.007865059375762939, 'time_algorithm_update': 0.02321385622024536, 'critic_loss': 1.0279218056211902e-05, 'actor_loss': -0.6453446210622787, 'temp': 0.001074799696682021, 'temp_loss': 0.003612436269875616, 'time_step': 0.03118228054046631, 'environment': 0.00042733082672275163}\u001b[0m \u001b[36mstep\u001b[0m=\u001b[35m31500\u001b[0m\n"
     ]
    },
    {
     "data": {
      "application/vnd.jupyter.widget-view+json": {
       "model_id": "5ed75449ad134813b77887a2e069c4e4",
       "version_major": 2,
       "version_minor": 0
      },
      "text/plain": [
       "Epoch 64/2000:   0%|          | 0/500 [00:00<?, ?it/s]"
      ]
     },
     "metadata": {},
     "output_type": "display_data"
    },
    {
     "name": "stdout",
     "output_type": "stream",
     "text": [
      "\u001b[2m2025-04-11 21:49.15\u001b[0m [\u001b[32m\u001b[1minfo     \u001b[0m] \u001b[1mSAC_20250411213132: epoch=64 step=32000\u001b[0m \u001b[36mepoch\u001b[0m=\u001b[35m64\u001b[0m \u001b[36mmetrics\u001b[0m=\u001b[35m{'time_sample_batch': 0.007213487148284912, 'time_algorithm_update': 0.021116218090057374, 'critic_loss': 6.355952334615722e-06, 'actor_loss': -0.6499612829685211, 'temp': 0.0010049674196634442, 'temp_loss': 0.0028058614383917302, 'time_step': 0.028425896644592285, 'environment': 0.00034558126738625243}\u001b[0m \u001b[36mstep\u001b[0m=\u001b[35m32000\u001b[0m\n"
     ]
    },
    {
     "data": {
      "application/vnd.jupyter.widget-view+json": {
       "model_id": "4786146417aa46d497eb713b4ed106f2",
       "version_major": 2,
       "version_minor": 0
      },
      "text/plain": [
       "Epoch 65/2000:   0%|          | 0/500 [00:00<?, ?it/s]"
      ]
     },
     "metadata": {},
     "output_type": "display_data"
    },
    {
     "name": "stdout",
     "output_type": "stream",
     "text": [
      "\u001b[2m2025-04-11 21:49.32\u001b[0m [\u001b[32m\u001b[1minfo     \u001b[0m] \u001b[1mSAC_20250411213132: epoch=65 step=32500\u001b[0m \u001b[36mepoch\u001b[0m=\u001b[35m65\u001b[0m \u001b[36mmetrics\u001b[0m=\u001b[35m{'time_sample_batch': 0.007618222713470459, 'time_algorithm_update': 0.020909472465515135, 'critic_loss': 1.0785363989498365e-05, 'actor_loss': -0.6480146882534027, 'temp': 0.0009427496367134154, 'temp_loss': 0.0021925684148445725, 'time_step': 0.028629858493804932, 'environment': 0.0004688921970734517}\u001b[0m \u001b[36mstep\u001b[0m=\u001b[35m32500\u001b[0m\n"
     ]
    },
    {
     "data": {
      "application/vnd.jupyter.widget-view+json": {
       "model_id": "0864b5a89dc047d295593c2f8354c005",
       "version_major": 2,
       "version_minor": 0
      },
      "text/plain": [
       "Epoch 66/2000:   0%|          | 0/500 [00:00<?, ?it/s]"
      ]
     },
     "metadata": {},
     "output_type": "display_data"
    },
    {
     "name": "stdout",
     "output_type": "stream",
     "text": [
      "\u001b[2m2025-04-11 21:49.49\u001b[0m [\u001b[32m\u001b[1minfo     \u001b[0m] \u001b[1mSAC_20250411213132: epoch=66 step=33000\u001b[0m \u001b[36mepoch\u001b[0m=\u001b[35m66\u001b[0m \u001b[36mmetrics\u001b[0m=\u001b[35m{'time_sample_batch': 0.0071161785125732424, 'time_algorithm_update': 0.021375508785247802, 'critic_loss': 6.7284878398368165e-06, 'actor_loss': -0.6501509158611297, 'temp': 0.0008872333152685314, 'temp_loss': 0.0016675589431542903, 'time_step': 0.028588080883026123, 'environment': 0.0005073914164910366}\u001b[0m \u001b[36mstep\u001b[0m=\u001b[35m33000\u001b[0m\n"
     ]
    },
    {
     "data": {
      "application/vnd.jupyter.widget-view+json": {
       "model_id": "5d8d4d165b7c4b0b8b603b15f30eb573",
       "version_major": 2,
       "version_minor": 0
      },
      "text/plain": [
       "Epoch 67/2000:   0%|          | 0/500 [00:00<?, ?it/s]"
      ]
     },
     "metadata": {},
     "output_type": "display_data"
    },
    {
     "name": "stdout",
     "output_type": "stream",
     "text": [
      "\u001b[2m2025-04-11 21:50.06\u001b[0m [\u001b[32m\u001b[1minfo     \u001b[0m] \u001b[1mSAC_20250411213132: epoch=67 step=33500\u001b[0m \u001b[36mepoch\u001b[0m=\u001b[35m67\u001b[0m \u001b[36mmetrics\u001b[0m=\u001b[35m{'time_sample_batch': 0.007769388198852539, 'time_algorithm_update': 0.021857497692108156, 'critic_loss': 8.225220592748883e-06, 'actor_loss': -0.647815288901329, 'temp': 0.0008385743335820734, 'temp_loss': 0.0012208635783172214, 'time_step': 0.02972843360900879, 'environment': 0.0004745729462427772}\u001b[0m \u001b[36mstep\u001b[0m=\u001b[35m33500\u001b[0m\n"
     ]
    },
    {
     "data": {
      "application/vnd.jupyter.widget-view+json": {
       "model_id": "8b50b2ecc28c48f1989c8db692f0d0d4",
       "version_major": 2,
       "version_minor": 0
      },
      "text/plain": [
       "Epoch 68/2000:   0%|          | 0/500 [00:00<?, ?it/s]"
      ]
     },
     "metadata": {},
     "output_type": "display_data"
    },
    {
     "name": "stdout",
     "output_type": "stream",
     "text": [
      "\u001b[2m2025-04-11 21:50.25\u001b[0m [\u001b[32m\u001b[1minfo     \u001b[0m] \u001b[1mSAC_20250411213132: epoch=68 step=34000\u001b[0m \u001b[36mepoch\u001b[0m=\u001b[35m68\u001b[0m \u001b[36mmetrics\u001b[0m=\u001b[35m{'time_sample_batch': 0.007968637466430664, 'time_algorithm_update': 0.02357327938079834, 'critic_loss': 8.220662562280267e-06, 'actor_loss': -0.6501296644210816, 'temp': 0.0007979723971802741, 'temp_loss': 0.0008647980083478614, 'time_step': 0.03164574480056763, 'environment': 0.0004586901769488506}\u001b[0m \u001b[36mstep\u001b[0m=\u001b[35m34000\u001b[0m\n"
     ]
    },
    {
     "data": {
      "application/vnd.jupyter.widget-view+json": {
       "model_id": "1b609c04899a45c99834dd5d237ed3bc",
       "version_major": 2,
       "version_minor": 0
      },
      "text/plain": [
       "Epoch 69/2000:   0%|          | 0/500 [00:00<?, ?it/s]"
      ]
     },
     "metadata": {},
     "output_type": "display_data"
    },
    {
     "name": "stdout",
     "output_type": "stream",
     "text": [
      "\u001b[2m2025-04-11 21:50.46\u001b[0m [\u001b[32m\u001b[1minfo     \u001b[0m] \u001b[1mSAC_20250411213132: epoch=69 step=34500\u001b[0m \u001b[36mepoch\u001b[0m=\u001b[35m69\u001b[0m \u001b[36mmetrics\u001b[0m=\u001b[35m{'time_sample_batch': 0.008504099369049072, 'time_algorithm_update': 0.029692021369934082, 'critic_loss': 6.502890619117352e-06, 'actor_loss': -0.6501362017393112, 'temp': 0.0007630237818229943, 'temp_loss': 0.0006028518888560938, 'time_step': 0.03831096076965332, 'environment': 0.0004097273877026941}\u001b[0m \u001b[36mstep\u001b[0m=\u001b[35m34500\u001b[0m\n"
     ]
    },
    {
     "data": {
      "application/vnd.jupyter.widget-view+json": {
       "model_id": "a04f8b41157548988ac4e91bb84cb227",
       "version_major": 2,
       "version_minor": 0
      },
      "text/plain": [
       "Epoch 70/2000:   0%|          | 0/500 [00:00<?, ?it/s]"
      ]
     },
     "metadata": {},
     "output_type": "display_data"
    }
   ],
   "source": [
    "# sac.fit(train_episodes,\n",
    "#         eval_episodes=test_episodes,\n",
    "#         n_epochs=10,\n",
    "#         save_interval=10,\n",
    "#         scorers={\n",
    "#             \"environment\": env_evaluator \n",
    "#             }\n",
    "#         )\n",
    "\n",
    "# After building your dataset\n",
    "print(\"Number of episodes:\", len(dataset.episodes))\n",
    "\n",
    "# Pick the first episode (or any episode you want to inspect)\n",
    "episode = dataset.episodes[0]\n",
    "episode_reward = sum(episode.rewards)\n",
    "print(\"Total return for one episode:\", episode_reward)\n",
    "\n",
    "sac.fit(\n",
    "    dataset=train_dataset,         # Your ReplayBufferBase (MDPDataset) instance\n",
    "    n_steps=1000000,                # Total training steps (increased to 100k)\n",
    "    n_steps_per_epoch=500,        # 5000 steps per epoch (results in 20 epochs total)\n",
    "    save_interval=20000,           # Save every 20k steps (every 4 epochs)\n",
    "    evaluators={\"environment\": env_evaluator}  # Your evaluator dictionary\n",
    ")"
   ]
  },
  {
   "cell_type": "code",
   "execution_count": null,
   "metadata": {},
   "outputs": [],
   "source": [
    "import pandas as pd\n",
    "import matplotlib.pyplot as plt\n",
    "\n",
    "df = pd.read_csv(\"d3rlpy_logs/SAC_20250411210953/environment.csv\")\n",
    "\n",
    "df.columns = [\"epoch\", \"total_step\", \"env_return\"]\n",
    "\n",
    "\n",
    "plt.plot(df[\"total_step\"], df[\"env_return\"], label=\"Environment Return\")\n",
    "plt.xlabel(\"Total Steps\")\n",
    "plt.ylabel(\"Return\")\n",
    "plt.legend()\n",
    "plt.show()"
   ]
  },
  {
   "cell_type": "code",
   "execution_count": null,
   "metadata": {},
   "outputs": [],
   "source": [
    "print(df.columns)"
   ]
  },
  {
   "cell_type": "code",
   "execution_count": null,
   "metadata": {},
   "outputs": [],
   "source": []
  }
 ],
 "metadata": {
  "kernelspec": {
   "display_name": "First 3.9.6",
   "language": "python",
   "name": "first_3.9.6"
  },
  "language_info": {
   "codemirror_mode": {
    "name": "ipython",
    "version": 3
   },
   "file_extension": ".py",
   "mimetype": "text/x-python",
   "name": "python",
   "nbconvert_exporter": "python",
   "pygments_lexer": "ipython3",
   "version": "3.9.6"
  }
 },
 "nbformat": 4,
 "nbformat_minor": 4
}
