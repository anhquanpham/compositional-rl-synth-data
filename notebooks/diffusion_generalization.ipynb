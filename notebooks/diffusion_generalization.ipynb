{
 "cells": [
  {
   "cell_type": "code",
   "execution_count": 1,
   "metadata": {},
   "outputs": [],
   "source": [
    "import composuite\n",
    "from diffusion.utils import *\n",
    "import numpy as np\n",
    "import matplotlib.pyplot as plt\n",
    "\n",
    "def compute_error(agent_dataset, synthetic_dataset):\n",
    "    \n",
    "    agent_observations = agent_dataset['observations']\n",
    "    random_indices = np.random.choice(agent_observations.shape[0], 1000, replace=False)\n",
    "    sampled_agent_observations = agent_observations[random_indices]\n",
    "\n",
    "    synthetic_observations = synthetic_dataset['observations']\n",
    "    random_indices = np.random.choice(synthetic_observations.shape[0], 1000, replace=False)\n",
    "    sampled_synthetic_observations = synthetic_observations[random_indices]\n",
    "\n",
    "    mean_agent = np.mean(sampled_agent_observations, axis=0)\n",
    "    mean_synthetic = np.mean(sampled_synthetic_observations, axis=0)\n",
    "\n",
    "    error = np.linalg.norm(mean_agent - mean_synthetic)\n",
    "    \n",
    "    return error"
   ]
  },
  {
   "cell_type": "code",
   "execution_count": 2,
   "metadata": {},
   "outputs": [],
   "source": [
    "base_agent_data_path = '/Users/shubhankar/Developer/compositional-rl-synth-data/data'\n",
    "dataset_type = 'expert'\n",
    "base_synthetic_data_path = '/Users/shubhankar/Developer/compositional-rl-synth-data/cluster_results/diffusion'"
   ]
  },
  {
   "cell_type": "code",
   "execution_count": null,
   "metadata": {},
   "outputs": [],
   "source": [
    "representative_env = composuite.make('IIWA', 'Plate', 'ObjectWall', 'Push', use_task_id_obs=True, ignore_done=False)"
   ]
  },
  {
   "cell_type": "code",
   "execution_count": 4,
   "metadata": {},
   "outputs": [],
   "source": [
    "runs = ['cond_diff_17', 'cond_diff_7', 'cond_diff_8', \n",
    "        'cond_diff_10', 'cond_diff_15', 'cond_diff_19', \n",
    "        'cond_diff_18', 'cond_diff_20', 'cond_diff_21']\n",
    "num_train_tasks = [16, 32, 48, 64, 80, 96, 128, 176, 244]"
   ]
  },
  {
   "cell_type": "code",
   "execution_count": null,
   "metadata": {},
   "outputs": [],
   "source": [
    "all_train_error_means = []\n",
    "all_train_error_stds = []\n",
    "all_test_error_means = []\n",
    "all_test_error_stds = []\n",
    "\n",
    "for run in tqdm(runs, desc='Run'):\n",
    "    train_tasks = [\n",
    "        task for task in os.listdir(os.path.join(base_synthetic_data_path, run, 'train'))\n",
    "        if not task.startswith('.')\n",
    "    ]\n",
    "    errors = []\n",
    "    for task in train_tasks:\n",
    "        robot, obj, obst, subtask = task.split('_')\n",
    "        agent_dataset = load_single_composuite_dataset(base_path=base_agent_data_path, \n",
    "                                                       dataset_type='expert', \n",
    "                                                       robot=robot, obj=obj, \n",
    "                                                       obst=obst, task=subtask)\n",
    "        agent_dataset = transitions_dataset(agent_dataset)\n",
    "        agent_dataset, _ = remove_indicator_vectors(representative_env.modality_dims, agent_dataset)\n",
    "\n",
    "        synthetic_dataset = load_single_synthetic_dataset(base_path=os.path.join(base_synthetic_data_path, run, 'train'),\n",
    "                                                        robot=robot, obj=obj, \n",
    "                                                        obst=obst, task=subtask)\n",
    "        errors.append(compute_error(agent_dataset, synthetic_dataset))\n",
    "    all_train_error_means.append(np.mean(errors))\n",
    "    all_train_error_stds.append(np.std(errors))\n",
    "\n",
    "    test_tasks = [\n",
    "        task for task in os.listdir(os.path.join(base_synthetic_data_path, run, 'test'))\n",
    "        if not task.startswith('.')\n",
    "    ]\n",
    "    errors = []\n",
    "    for task in test_tasks:\n",
    "        robot, obj, obst, subtask = task.split('_')\n",
    "        agent_dataset = load_single_composuite_dataset(base_path=base_agent_data_path, \n",
    "                                                       dataset_type='expert', \n",
    "                                                       robot=robot, obj=obj, \n",
    "                                                       obst=obst, task=subtask)\n",
    "        agent_dataset = transitions_dataset(agent_dataset)\n",
    "        agent_dataset, _ = remove_indicator_vectors(representative_env.modality_dims, agent_dataset)\n",
    "\n",
    "        synthetic_dataset = load_single_synthetic_dataset(base_path=os.path.join(base_synthetic_data_path, run, 'test'),\n",
    "                                                        robot=robot, obj=obj, \n",
    "                                                        obst=obst, task=subtask)\n",
    "        errors.append(compute_error(agent_dataset, synthetic_dataset))\n",
    "    all_test_error_means.append(np.mean(errors))\n",
    "    all_test_error_stds.append(np.std(errors))"
   ]
  },
  {
   "cell_type": "code",
   "execution_count": null,
   "metadata": {},
   "outputs": [],
   "source": [
    "# plt.figure(figsize=(8, 6))\n",
    "# plt.plot(num_train_tasks, all_train_error_means, label='Train Error', marker='o')\n",
    "# plt.plot(num_train_tasks, all_test_error_means, label='Test Error', marker='s')\n",
    "\n",
    "# plt.xlabel('Number of Training Tasks')\n",
    "# plt.ylabel('Generalization Error')\n",
    "# plt.title('Errors vs. Number of Training Tasks')\n",
    "# plt.legend()\n",
    "# plt.grid(True)\n",
    "\n",
    "# plt.show()"
   ]
  },
  {
   "cell_type": "code",
   "execution_count": null,
   "metadata": {},
   "outputs": [],
   "source": [
    "plt.figure(figsize=(8, 6))\n",
    "\n",
    "plt.errorbar(\n",
    "    num_train_tasks, all_train_error_means, yerr=all_train_error_stds, \n",
    "    label='Train Error', marker='o', capsize=5, linestyle='-'\n",
    ")\n",
    "plt.errorbar(\n",
    "    num_train_tasks, all_test_error_means, yerr=all_test_error_stds, \n",
    "    label='Test Error', marker='s', capsize=5, linestyle='--'\n",
    ")\n",
    "\n",
    "plt.xlabel('Number of Training Tasks')\n",
    "plt.ylabel('Generalization Error')\n",
    "plt.title('Errors vs. Number of Training Tasks')\n",
    "plt.legend()\n",
    "plt.grid(True)\n",
    "\n",
    "plt.show()\n"
   ]
  }
 ],
 "metadata": {
  "kernelspec": {
   "display_name": ".venv",
   "language": "python",
   "name": "python3"
  },
  "language_info": {
   "codemirror_mode": {
    "name": "ipython",
    "version": 3
   },
   "file_extension": ".py",
   "mimetype": "text/x-python",
   "name": "python",
   "nbconvert_exporter": "python",
   "pygments_lexer": "ipython3",
   "version": "3.9.6"
  }
 },
 "nbformat": 4,
 "nbformat_minor": 2
}
