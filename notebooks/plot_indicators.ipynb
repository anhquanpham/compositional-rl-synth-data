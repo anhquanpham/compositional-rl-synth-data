{
 "cells": [
  {
   "cell_type": "code",
   "execution_count": 1,
   "metadata": {},
   "outputs": [],
   "source": [
    "import composuite\n",
    "from collections import defaultdict\n",
    "from diffusion.utils import *\n",
    "import matplotlib.pyplot as plt\n",
    "\n",
    "base_composuite_data_path = '/Users/shubhankar/Developer/compositional-rl-synth-data/data'\n",
    "base_synthetic_data_path = '/Users/shubhankar/Developer/compositional-rl-synth-data/cluster_results/cluster_multidata_1'\n",
    "\n",
    "def plot_task_indicators(dataset, environment, random=True):\n",
    "\n",
    "    if random:\n",
    "        observation_index = np.random.choice(dataset['observations'].shape[0])\n",
    "    else:\n",
    "        observation_index = 0\n",
    "    observation = dataset['observations'][observation_index, :]\n",
    "\n",
    "    dims = environment.modality_dims\n",
    "    start_index = sum([dim[0] for key, dim in dims.items() if key in ['object-state', 'obstacle-state', 'goal-state']])\n",
    "    end_index = start_index + sum([dim[0] for key, dim in dims.items() if key in ['object_id', 'robot_id', 'obstacle_id', 'subtask_id']])\n",
    "\n",
    "    task_vector = observation[start_index:end_index].reshape(1, -1)\n",
    "\n",
    "    labels = ['Object', 'Robot', 'Obstacle', 'Subtask']\n",
    "    plt.figure(figsize=(10, 2))\n",
    "    plt.imshow(task_vector, cmap=\"viridis\", aspect=\"auto\")\n",
    "    plt.colorbar(label=\"Value\")\n",
    "    plt.xticks(ticks=[2, 6, 10, 14], labels=labels, ha='right')\n",
    "    plt.yticks([])\n",
    "    plt.show()"
   ]
  },
  {
   "cell_type": "code",
   "execution_count": 2,
   "metadata": {},
   "outputs": [],
   "source": [
    "robots = ['IIWA']\n",
    "objs = ['Box', 'Dumbbell']\n",
    "obsts = ['None']\n",
    "tasks = ['Push']\n",
    "\n",
    "dataset_type = 'expert'"
   ]
  },
  {
   "cell_type": "code",
   "execution_count": null,
   "metadata": {},
   "outputs": [],
   "source": [
    "combinations = list(product(robots, objs, obsts, tasks))\n",
    "\n",
    "environments = []\n",
    "composuite_datasets = []\n",
    "synthetic_datasets = []\n",
    "\n",
    "for combination in combinations:\n",
    "    print(combination)\n",
    "    robot, obj, obst, task = combination\n",
    "    env = composuite.make(robot, obj, obst, task, use_task_id_obs=True, ignore_done=False)\n",
    "    environments.append(env)\n",
    "    composuite_datasets.append(load_single_composuite_dataset(base_composuite_data_path, dataset_type, robot, obj, obst, task))\n",
    "    synthetic_datasets.append(load_single_synthetic_dataset(base_synthetic_data_path, robot, obj, obst, task))\n",
    "\n",
    "composuite_datasets = [transitions_dataset(dataset) for dataset in composuite_datasets]"
   ]
  },
  {
   "cell_type": "code",
   "execution_count": 4,
   "metadata": {},
   "outputs": [],
   "source": [
    "idx = 0"
   ]
  },
  {
   "cell_type": "code",
   "execution_count": null,
   "metadata": {},
   "outputs": [],
   "source": [
    "print(combinations[idx])\n",
    "plot_task_indicators(composuite_datasets[idx], environments[idx], random=True)\n",
    "plot_task_indicators(synthetic_datasets[idx], environments[idx], random=True)"
   ]
  }
 ],
 "metadata": {
  "kernelspec": {
   "display_name": ".venv",
   "language": "python",
   "name": "python3"
  },
  "language_info": {
   "codemirror_mode": {
    "name": "ipython",
    "version": 3
   },
   "file_extension": ".py",
   "mimetype": "text/x-python",
   "name": "python",
   "nbconvert_exporter": "python",
   "pygments_lexer": "ipython3",
   "version": "3.9.6"
  }
 },
 "nbformat": 4,
 "nbformat_minor": 2
}
