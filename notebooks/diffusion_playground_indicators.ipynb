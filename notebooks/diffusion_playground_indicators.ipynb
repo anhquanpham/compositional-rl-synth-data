{
 "cells": [
  {
   "cell_type": "code",
   "execution_count": 4,
   "metadata": {},
   "outputs": [],
   "source": [
    "import wandb\n",
    "import composuite\n",
    "from diffusion.utils import *\n",
    "import numpy as np\n",
    "import matplotlib.pyplot as plt\n",
    "import seaborn as sns\n",
    "from diffusion.elucidated_diffusion import Trainer\n",
    "from diffusion.train_diffuser import SimpleDiffusionGenerator\n",
    "\n",
    "gin.parse_config_file(\"/Users/shubhankar/Developer/compositional-rl-synth-data/config/diffusion.gin\")\n",
    "\n",
    "base_data_path = '/Users/shubhankar/Developer/compositional-rl-synth-data/data'\n",
    "base_results_folder = '/Users/shubhankar/Developer/compositional-rl-synth-data/results'"
   ]
  },
  {
   "cell_type": "code",
   "execution_count": 5,
   "metadata": {},
   "outputs": [
    {
     "name": "stdout",
     "output_type": "stream",
     "text": [
      "Before removing task indicators: (999999, 196)\n",
      "After removing task indicators: (999999, 164) (999999, 16)\n"
     ]
    }
   ],
   "source": [
    "dataset_type = 'expert'\n",
    "\n",
    "robot = 'IIWA'\n",
    "obj = 'Box'\n",
    "obst = 'None'\n",
    "task = 'PickPlace'\n",
    "\n",
    "results_folder = os.path.join(base_results_folder, robot + '_' + obj + '_' + obst + '_' + task)\n",
    "\n",
    "dataset = load_single_composuite_dataset(base_path=base_data_path, \n",
    "                                         dataset_type=dataset_type, \n",
    "                                         robot=robot, obj=obj, \n",
    "                                         obst=obst, task=task)\n",
    "dataset = transitions_dataset(dataset)\n",
    "inputs = make_inputs(dataset)\n",
    "print('Before removing task indicators:', inputs.shape)\n",
    "env = composuite.make(robot, obj, obst, task, use_task_id_obs=True, ignore_done=False)\n",
    "inputs, indicators = remove_indicator_vectors(inputs, env)\n",
    "print('After removing task indicators:', inputs.shape, indicators.shape)"
   ]
  },
  {
   "cell_type": "code",
   "execution_count": 6,
   "metadata": {},
   "outputs": [],
   "source": [
    "# idx = 0\n",
    "\n",
    "# task_vector = indicators[idx, :].reshape(1, -1)\n",
    "\n",
    "# labels = ['Object', 'Robot', 'Obstacle', 'Subtask']\n",
    "# plt.figure(figsize=(10, 2))\n",
    "# plt.imshow(task_vector, cmap=\"viridis\", aspect=\"auto\")\n",
    "# plt.colorbar(label=\"Value\")\n",
    "# plt.xticks(ticks=[2, 6, 10, 14], labels=labels, ha='right')\n",
    "# plt.yticks([])\n",
    "# plt.show()"
   ]
  },
  {
   "cell_type": "code",
   "execution_count": 7,
   "metadata": {},
   "outputs": [],
   "source": [
    "inputs = torch.from_numpy(inputs).float()\n",
    "indicators = torch.from_numpy(indicators).float()\n",
    "dataset = torch.utils.data.TensorDataset(inputs, indicators)"
   ]
  },
  {
   "cell_type": "code",
   "execution_count": 8,
   "metadata": {},
   "outputs": [
    {
     "data": {
      "text/plain": [
       "'\\n1. The model needs to accept conditioning variables.\\n2. Currently, the conditioning variables reside in the inputs.\\n    a. Separate the multitask indicator vector from the observations.\\n    b. The observation should be 164 dimensions now.\\n'"
      ]
     },
     "execution_count": 8,
     "metadata": {},
     "output_type": "execute_result"
    }
   ],
   "source": [
    "\"\"\"\n",
    "1. The model needs to accept conditioning variables.\n",
    "2. Currently, the conditioning variables reside in the inputs.\n",
    "    a. Separate the multitask indicator vector from the observations.\n",
    "    b. The observation should be 164 dimensions now.\n",
    "\"\"\""
   ]
  },
  {
   "cell_type": "code",
   "execution_count": 9,
   "metadata": {},
   "outputs": [
    {
     "name": "stdout",
     "output_type": "stream",
     "text": [
      "Skipping normalization for dimensions [163].\n",
      "Means: tensor([ 6.3589e-02,  1.0651e-01,  8.6088e-01, -1.6371e-02, -1.2360e-02,\n",
      "         1.7438e-01,  9.5864e-01,  1.6769e-02,  9.9819e-03,  3.5345e-02,\n",
      "         5.4525e-01, -3.0514e-03,  9.8454e-02,  6.1551e-02,  0.0000e+00,\n",
      "         0.0000e+00,  0.0000e+00,  0.0000e+00,  0.0000e+00,  0.0000e+00,\n",
      "         0.0000e+00, -3.6970e-01,  1.0005e-01,  7.7840e-01,  4.5343e-01,\n",
      "         1.5858e-01,  8.5067e-02,  7.3912e-02,  1.0000e-01,  1.8000e-01,\n",
      "         8.3000e-01,  0.0000e+00,  0.0000e+00,  0.0000e+00,  1.0000e+00,\n",
      "         2.3125e-02, -4.1920e-02,  4.6128e-02,  4.5343e-01,  1.5858e-01,\n",
      "         8.5067e-02,  7.3912e-02,  3.6411e-02,  7.3486e-02, -3.0883e-02,\n",
      "         9.1670e-01,  5.0138e-01,  9.8886e-01,  3.1583e-04,  9.6788e-01,\n",
      "         9.6581e-01,  9.7018e-01,  2.6684e-01,  8.5701e-01,  9.7417e-02,\n",
      "        -9.9253e-01, -2.0960e-01,  2.3004e-01,  1.1947e-01,  2.5523e-02,\n",
      "         1.8551e-02,  2.0060e-03,  1.5352e-02, -1.0075e-02, -1.6298e-02,\n",
      "         1.4821e-02,  3.8410e-02,  1.1168e-01,  8.9260e-01,  9.6006e-01,\n",
      "         1.9058e-01,  1.4033e-01, -4.1342e-02,  7.8275e-03,  2.5215e-03,\n",
      "        -3.8880e-04,  7.2188e-04,  3.7693e-01,  7.4256e-01,  5.1869e-01,\n",
      "         1.2565e-01, -1.6088e-02, -3.2374e-01,  1.6236e-01,  6.0316e-01,\n",
      "         7.7182e-01,  6.3589e-02,  1.0651e-01,  8.6088e-01, -1.6372e-02,\n",
      "        -1.2361e-02,  1.7438e-01,  9.5864e-01,  1.6768e-02,  9.9818e-03,\n",
      "         3.5345e-02,  5.4525e-01, -3.0509e-03,  9.8454e-02,  6.1552e-02,\n",
      "         0.0000e+00,  0.0000e+00,  0.0000e+00,  0.0000e+00,  0.0000e+00,\n",
      "         0.0000e+00,  0.0000e+00, -3.6970e-01,  1.0005e-01,  7.7840e-01,\n",
      "         4.5343e-01,  1.5858e-01,  8.5067e-02,  7.3912e-02,  1.0000e-01,\n",
      "         1.8000e-01,  8.3000e-01,  0.0000e+00,  0.0000e+00,  0.0000e+00,\n",
      "         1.0000e+00,  2.3124e-02, -4.1920e-02,  4.6127e-02,  4.5343e-01,\n",
      "         1.5858e-01,  8.5067e-02,  7.3912e-02,  3.6411e-02,  7.3485e-02,\n",
      "        -3.0883e-02,  9.1670e-01,  5.0138e-01,  9.8886e-01,  3.1638e-04,\n",
      "         9.6788e-01,  9.6581e-01,  9.7018e-01,  2.6684e-01,  8.5701e-01,\n",
      "         9.7418e-02, -9.9253e-01, -2.0960e-01,  2.3004e-01,  1.1947e-01,\n",
      "         2.5523e-02,  1.8551e-02,  2.0060e-03,  1.5352e-02, -1.0076e-02,\n",
      "        -1.6298e-02,  1.4821e-02,  3.8411e-02,  1.1168e-01,  8.9260e-01,\n",
      "         9.6006e-01,  1.9058e-01,  1.4033e-01, -4.1342e-02,  7.8275e-03,\n",
      "         2.5215e-03, -3.8880e-04,  7.2186e-04,  0.0000e+00])\n",
      "Stds: tensor([8.1664e-02, 2.1506e-01, 3.5868e-02, 1.1163e-01, 1.0047e-01, 1.5009e-01,\n",
      "        7.1476e-02, 3.0459e-02, 2.7030e-02, 3.7160e-02, 8.0617e-01, 8.6865e-02,\n",
      "        1.4641e-01, 1.0167e-01, 1.0000e-05, 1.0000e-05, 1.0000e-05, 1.0000e-05,\n",
      "        1.0000e-05, 1.0000e-05, 1.0000e-05, 1.6115e-01, 2.7882e-01, 7.2388e-02,\n",
      "        8.4649e-01, 1.5094e-01, 1.2642e-01, 3.5676e-02, 1.0000e-05, 1.0000e-05,\n",
      "        1.0000e-05, 1.0000e-05, 1.0000e-05, 1.0000e-05, 1.0000e-05, 7.0501e-02,\n",
      "        2.2855e-01, 4.0252e-02, 8.4649e-01, 1.5094e-01, 1.2642e-01, 3.5676e-02,\n",
      "        8.1664e-02, 2.1506e-01, 3.5868e-02, 8.0588e-02, 9.7697e-02, 1.3336e-02,\n",
      "        1.2117e-01, 3.9928e-02, 3.7547e-02, 3.8463e-02, 2.8629e-01, 6.7929e-02,\n",
      "        1.1177e-01, 1.4517e-02, 1.3298e-01, 1.1354e-01, 2.0739e-01, 7.4812e-02,\n",
      "        6.6248e-02, 6.7737e-02, 6.4237e-02, 7.9397e-02, 7.3880e-02, 7.3296e-02,\n",
      "        7.7849e-02, 2.0597e-01, 4.8771e-02, 2.0349e-02, 1.0774e-01, 5.9359e-02,\n",
      "        7.0903e-02, 4.3121e-03, 7.4646e-03, 1.8168e-02, 1.8617e-02, 1.1633e+00,\n",
      "        1.1303e+00, 1.1526e+00, 1.2100e+00, 1.1800e+00, 1.1711e+00, 1.1349e+00,\n",
      "        9.9238e-01, 3.7866e-01, 8.1664e-02, 2.1506e-01, 3.5868e-02, 1.1163e-01,\n",
      "        1.0047e-01, 1.5009e-01, 7.1477e-02, 3.0459e-02, 2.7030e-02, 3.7160e-02,\n",
      "        8.0617e-01, 8.6866e-02, 1.4641e-01, 1.0167e-01, 1.0000e-05, 1.0000e-05,\n",
      "        1.0000e-05, 1.0000e-05, 1.0000e-05, 1.0000e-05, 1.0000e-05, 1.6115e-01,\n",
      "        2.7882e-01, 7.2388e-02, 8.4649e-01, 1.5094e-01, 1.2642e-01, 3.5676e-02,\n",
      "        1.0000e-05, 1.0000e-05, 1.0000e-05, 1.0000e-05, 1.0000e-05, 1.0000e-05,\n",
      "        1.0000e-05, 7.0501e-02, 2.2855e-01, 4.0252e-02, 8.4649e-01, 1.5094e-01,\n",
      "        1.2642e-01, 3.5676e-02, 8.1664e-02, 2.1506e-01, 3.5868e-02, 8.0588e-02,\n",
      "        9.7696e-02, 1.3336e-02, 1.2117e-01, 3.9929e-02, 3.7547e-02, 3.8463e-02,\n",
      "        2.8629e-01, 6.7928e-02, 1.1177e-01, 1.4517e-02, 1.3298e-01, 1.1354e-01,\n",
      "        2.0739e-01, 7.4812e-02, 6.6248e-02, 6.7737e-02, 6.4237e-02, 7.9397e-02,\n",
      "        7.3880e-02, 7.3296e-02, 7.7849e-02, 2.0597e-01, 4.8771e-02, 2.0349e-02,\n",
      "        1.0774e-01, 5.9359e-02, 7.0903e-02, 4.3121e-03, 7.4645e-03, 1.8168e-02,\n",
      "        1.8617e-02, 1.0000e+00])\n"
     ]
    }
   ],
   "source": [
    "diffusion = construct_diffusion_model(inputs=inputs, cond_dim=16)"
   ]
  },
  {
   "cell_type": "code",
   "execution_count": 12,
   "metadata": {},
   "outputs": [
    {
     "data": {
      "text/plain": [
       "ResidualMLPDenoiser(\n",
       "  (residual_mlp): ResidualMLP(\n",
       "    (network): Sequential(\n",
       "      (0): Linear(in_features=128, out_features=2048, bias=True)\n",
       "      (1): ResidualBlock(\n",
       "        (linear): Linear(in_features=2048, out_features=2048, bias=True)\n",
       "        (ln): Identity()\n",
       "      )\n",
       "      (2): ResidualBlock(\n",
       "        (linear): Linear(in_features=2048, out_features=2048, bias=True)\n",
       "        (ln): Identity()\n",
       "      )\n",
       "      (3): ResidualBlock(\n",
       "        (linear): Linear(in_features=2048, out_features=2048, bias=True)\n",
       "        (ln): Identity()\n",
       "      )\n",
       "      (4): ResidualBlock(\n",
       "        (linear): Linear(in_features=2048, out_features=2048, bias=True)\n",
       "        (ln): Identity()\n",
       "      )\n",
       "      (5): ResidualBlock(\n",
       "        (linear): Linear(in_features=2048, out_features=2048, bias=True)\n",
       "        (ln): Identity()\n",
       "      )\n",
       "      (6): ResidualBlock(\n",
       "        (linear): Linear(in_features=2048, out_features=2048, bias=True)\n",
       "        (ln): Identity()\n",
       "      )\n",
       "      (7): Identity()\n",
       "    )\n",
       "    (final_linear): Linear(in_features=2048, out_features=164, bias=True)\n",
       "  )\n",
       "  (proj): Linear(in_features=180, out_features=128, bias=True)\n",
       "  (time_mlp): Sequential(\n",
       "    (0): RandomOrLearnedSinusoidalPosEmb()\n",
       "    (1): Linear(in_features=17, out_features=128, bias=True)\n",
       "    (2): SiLU()\n",
       "    (3): Linear(in_features=128, out_features=128, bias=True)\n",
       "  )\n",
       ")"
      ]
     },
     "execution_count": 12,
     "metadata": {},
     "output_type": "execute_result"
    }
   ],
   "source": [
    "diffusion.net"
   ]
  },
  {
   "cell_type": "code",
   "execution_count": null,
   "metadata": {},
   "outputs": [],
   "source": [
    "wandb_project = 'offline_rl_diffusion'\n",
    "wandb_entity = ''\n",
    "wandb_group = 'diffusion_training'\n",
    "\n",
    "wandb.init(\n",
    "    project=wandb_project,\n",
    "    entity=wandb_entity,\n",
    "    group=wandb_group,\n",
    "    name=results_folder.split('/')[-1],\n",
    ")"
   ]
  },
  {
   "cell_type": "code",
   "execution_count": null,
   "metadata": {},
   "outputs": [],
   "source": [
    "trainer = Trainer(diffusion, dataset, results_folder=results_folder)\n",
    "trainer.train()"
   ]
  },
  {
   "cell_type": "code",
   "execution_count": null,
   "metadata": {},
   "outputs": [],
   "source": [
    "env = composuite.make(robot, obj, obst, task, use_task_id_obs=True, ignore_done=False)"
   ]
  },
  {
   "cell_type": "code",
   "execution_count": null,
   "metadata": {},
   "outputs": [],
   "source": [
    "generator = SimpleDiffusionGenerator(env=env, ema_model=trainer.ema.ema_model)\n",
    "observations, actions, rewards, next_observations, terminals = generator.sample(num_samples=100000)"
   ]
  },
  {
   "cell_type": "code",
   "execution_count": null,
   "metadata": {},
   "outputs": [],
   "source": [
    "np.savez_compressed(\n",
    "    os.path.join(results_folder, 'samples.npz'),\n",
    "    observations=observations,\n",
    "    actions=actions,\n",
    "    rewards=rewards,\n",
    "    next_observations=next_observations,\n",
    "    terminals=terminals\n",
    ")"
   ]
  }
 ],
 "metadata": {
  "kernelspec": {
   "display_name": ".venv",
   "language": "python",
   "name": "python3"
  },
  "language_info": {
   "codemirror_mode": {
    "name": "ipython",
    "version": 3
   },
   "file_extension": ".py",
   "mimetype": "text/x-python",
   "name": "python",
   "nbconvert_exporter": "python",
   "pygments_lexer": "ipython3",
   "version": "3.9.6"
  }
 },
 "nbformat": 4,
 "nbformat_minor": 2
}
