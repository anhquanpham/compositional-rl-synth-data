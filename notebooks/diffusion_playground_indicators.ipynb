{
 "cells": [
  {
   "cell_type": "code",
   "execution_count": 1,
   "metadata": {},
   "outputs": [],
   "source": [
    "import wandb\n",
    "import composuite\n",
    "from diffusion.utils import *\n",
    "from diffusion.elucidated_diffusion import Trainer\n",
    "from diffusion.train_diffuser import SimpleDiffusionGenerator\n",
    "\n",
    "gin.parse_config_file(\"/Users/shubhankar/Developer/compositional-rl-synth-data/config/diffusion.gin\")\n",
    "\n",
    "base_data_path = '/Users/shubhankar/Developer/compositional-rl-synth-data/data'\n",
    "base_results_folder = '/Users/shubhankar/Developer/compositional-rl-synth-data/results'"
   ]
  },
  {
   "cell_type": "code",
   "execution_count": null,
   "metadata": {},
   "outputs": [],
   "source": [
    "dataset_type = 'expert'\n",
    "\n",
    "robot = 'IIWA'\n",
    "obj = 'Box'\n",
    "obst = 'None'\n",
    "task = 'PickPlace'\n",
    "\n",
    "results_folder = os.path.join(base_results_folder, robot + '_' + obj + '_' + obst + '_' + task)\n",
    "\n",
    "dataset = load_single_composuite_dataset(base_path=base_data_path, \n",
    "                                         dataset_type=dataset_type, \n",
    "                                         robot=robot, obj=obj, \n",
    "                                         obst=obst, task=task)\n",
    "dataset = transitions_dataset(dataset)\n",
    "inputs = make_inputs(dataset)\n",
    "print('Before removing task indicators:', inputs.shape)\n",
    "env = composuite.make(robot, obj, obst, task, use_task_id_obs=True, ignore_done=False)\n",
    "inputs, indicators = remove_indicator_vectors(inputs, env)\n",
    "print('After removing task indicators:', inputs.shape, indicators.shape)"
   ]
  },
  {
   "cell_type": "code",
   "execution_count": null,
   "metadata": {},
   "outputs": [],
   "source": [
    "idx = 0\n",
    "\n",
    "task_vector = indicators[idx, :].reshape(1, -1)\n",
    "\n",
    "labels = ['Object', 'Robot', 'Obstacle', 'Subtask']\n",
    "plt.figure(figsize=(10, 2))\n",
    "plt.imshow(task_vector, cmap=\"viridis\", aspect=\"auto\")\n",
    "plt.colorbar(label=\"Value\")\n",
    "plt.xticks(ticks=[2, 6, 10, 14], labels=labels, ha='right')\n",
    "plt.yticks([])\n",
    "plt.show()"
   ]
  },
  {
   "cell_type": "code",
   "execution_count": 4,
   "metadata": {},
   "outputs": [],
   "source": [
    "inputs = torch.from_numpy(inputs).float()\n",
    "indicators = torch.from_numpy(indicators).float()\n",
    "dataset = torch.utils.data.TensorDataset(inputs, indicators)"
   ]
  },
  {
   "cell_type": "code",
   "execution_count": null,
   "metadata": {},
   "outputs": [],
   "source": [
    "diffusion = construct_diffusion_model(inputs=inputs, cond_dim=16)"
   ]
  },
  {
   "cell_type": "code",
   "execution_count": null,
   "metadata": {},
   "outputs": [],
   "source": [
    "wandb_project = 'offline_rl_diffusion'\n",
    "wandb_entity = ''\n",
    "wandb_group = 'diffusion_training'\n",
    "\n",
    "wandb.init(\n",
    "    project=wandb_project,\n",
    "    entity=wandb_entity,\n",
    "    group=wandb_group,\n",
    "    name=results_folder.split('/')[-1],\n",
    ")"
   ]
  },
  {
   "cell_type": "code",
   "execution_count": null,
   "metadata": {},
   "outputs": [],
   "source": [
    "trainer = Trainer(diffusion, dataset, results_folder=results_folder)\n",
    "trainer.train()"
   ]
  },
  {
   "cell_type": "code",
   "execution_count": null,
   "metadata": {},
   "outputs": [],
   "source": [
    "task_indicator = get_task_indicator(robot, obj, obst, task)\n",
    "env = composuite.make(robot, obj, obst, task, use_task_id_obs=False, ignore_done=False)\n",
    "generator = SimpleDiffusionGenerator(env=env, ema_model=trainer.ema.ema_model, sample_batch_size=1000)\n",
    "observations, actions, rewards, next_observations, terminals = generator.sample(num_samples=1000, cond=task_indicator)"
   ]
  },
  {
   "cell_type": "code",
   "execution_count": 41,
   "metadata": {},
   "outputs": [],
   "source": [
    "np.savez_compressed(\n",
    "    os.path.join(results_folder, 'samples.npz'),\n",
    "    observations=observations,\n",
    "    actions=actions,\n",
    "    rewards=rewards,\n",
    "    next_observations=next_observations,\n",
    "    terminals=terminals\n",
    ")"
   ]
  }
 ],
 "metadata": {
  "kernelspec": {
   "display_name": ".venv",
   "language": "python",
   "name": "python3"
  },
  "language_info": {
   "codemirror_mode": {
    "name": "ipython",
    "version": 3
   },
   "file_extension": ".py",
   "mimetype": "text/x-python",
   "name": "python",
   "nbconvert_exporter": "python",
   "pygments_lexer": "ipython3",
   "version": "3.9.6"
  }
 },
 "nbformat": 4,
 "nbformat_minor": 2
}
