{
 "cells": [
  {
   "cell_type": "code",
   "execution_count": null,
   "metadata": {},
   "outputs": [],
   "source": [
    "from diffusion.utils import *\n",
    "from collections import defaultdict\n",
    "\n",
    "base_composuite_data_path = '/Users/shubhankar/Developer/compositional-rl-synth-data/data'\n",
    "base_synthetic_data_path = '/Users/shubhankar/Developer/compositional-rl-synth-data/results'\n",
    "\n",
    "def process_data(transitions_datasets):\n",
    "\n",
    "    combined_dict = defaultdict(list)\n",
    "    which_dataset = []\n",
    "\n",
    "    for idx, data in enumerate(transitions_datasets):\n",
    "        for key in data.keys():\n",
    "            combined_dict[key].append(data[key])\n",
    "        which_dataset.extend([idx] * len(data[key]))\n",
    "\n",
    "    combined_transitions_datasets = {key: np.concatenate(values, axis=0) for key, values in combined_dict.items()}\n",
    "    processed_data = make_inputs(combined_transitions_datasets)\n",
    "\n",
    "    return processed_data, np.array(which_dataset)"
   ]
  },
  {
   "cell_type": "code",
   "execution_count": null,
   "metadata": {},
   "outputs": [],
   "source": [
    "dataset_type = 'expert-iiwa-offline-comp-data'\n",
    "\n",
    "robots = ['IIWA']\n",
    "objs = ['Box', 'Dumbbell', 'Hollowbox', 'Plate']\n",
    "obsts = ['None']\n",
    "tasks = ['Push']"
   ]
  },
  {
   "cell_type": "code",
   "execution_count": null,
   "metadata": {},
   "outputs": [],
   "source": [
    "composuite_datasets = load_multiple_composuite_datasets(base_path=base_composuite_data_path,\n",
    "                                                        dataset_type=dataset_type,\n",
    "                                                        robots=robots, objs=objs, \n",
    "                                                        obsts=obsts, tasks=tasks)\n",
    "\n",
    "composuite_transitions_datasets = [transitions_dataset(dataset) for dataset in composuite_datasets]\n",
    "flattened_composuite_data, composuite_data_ids = process_data(composuite_transitions_datasets)"
   ]
  },
  {
   "cell_type": "code",
   "execution_count": null,
   "metadata": {},
   "outputs": [],
   "source": [
    "synthetic_datasets = load_multiple_synthetic_datasets(base_path=base_synthetic_data_path,\n",
    "                                                      robots=robots, objs=objs, \n",
    "                                                      obsts=obsts, tasks=tasks)\n",
    "flattened_synthetic_data, synthetic_data_ids = process_data(synthetic_datasets)"
   ]
  },
  {
   "cell_type": "code",
   "execution_count": null,
   "metadata": {},
   "outputs": [],
   "source": [
    "print(flattened_composuite_data.shape, flattened_synthetic_data.shape)"
   ]
  },
  {
   "cell_type": "code",
   "execution_count": null,
   "metadata": {},
   "outputs": [],
   "source": [
    "random_indices = np.random.choice(flattened_composuite_data.shape[0], 10000, replace=False)\n",
    "sampled_composuite_data = flattened_composuite_data[random_indices]\n",
    "sample_composuite_data_ids = composuite_data_ids[random_indices]\n",
    "\n",
    "random_indices = np.random.choice(flattened_synthetic_data.shape[0], 10000, replace=False)\n",
    "sampled_synthetic_data = flattened_synthetic_data[random_indices]\n",
    "sample_synthetic_data_ids = synthetic_data_ids[random_indices]"
   ]
  },
  {
   "cell_type": "code",
   "execution_count": null,
   "metadata": {},
   "outputs": [],
   "source": [
    "print(sampled_composuite_data.shape, sampled_synthetic_data.shape)"
   ]
  },
  {
   "cell_type": "code",
   "execution_count": null,
   "metadata": {},
   "outputs": [],
   "source": [
    "combined_data = np.concatenate((sampled_composuite_data, sampled_synthetic_data), axis=0)\n",
    "combined_data_ids = np.concatenate((sample_composuite_data_ids, sample_synthetic_data_ids), axis=0)"
   ]
  },
  {
   "cell_type": "code",
   "execution_count": null,
   "metadata": {},
   "outputs": [],
   "source": [
    "composuite_origin = np.zeros(sample_composuite_data_ids.shape[0], dtype=int)  # 0 for composuite\n",
    "synthetic_origin = np.ones(sample_synthetic_data_ids.shape[0], dtype=int)   # 1 for synthetic\n",
    "\n",
    "combined_data = np.concatenate((sampled_composuite_data, sampled_synthetic_data), axis=0)\n",
    "combined_ids = np.concatenate((sample_composuite_data_ids, sample_synthetic_data_ids), axis=0)\n",
    "combined_origins = np.concatenate((composuite_origin, synthetic_origin), axis=0)"
   ]
  }
 ],
 "metadata": {
  "language_info": {
   "name": "python"
  }
 },
 "nbformat": 4,
 "nbformat_minor": 2
}
