{
 "cells": [
  {
   "cell_type": "code",
   "execution_count": 1,
   "metadata": {},
   "outputs": [],
   "source": [
    "from diffusion.utils import *\n",
    "from collections import defaultdict\n",
    "import numpy as np\n",
    "import torch\n",
    "from torch.utils.data import DataLoader, TensorDataset, random_split\n",
    "import torch.nn as nn\n",
    "import torch.optim as optim\n",
    "\n",
    "base_composuite_data_path = '/Users/shubhankar/Developer/compositional-rl-synth-data/data'\n",
    "base_synthetic_data_path = '/Users/shubhankar/Developer/compositional-rl-synth-data/results'\n",
    "\n",
    "def process_data(transitions_datasets):\n",
    "\n",
    "    combined_dict = defaultdict(list)\n",
    "    which_dataset = []\n",
    "\n",
    "    for idx, data in enumerate(transitions_datasets):\n",
    "        for key in data.keys():\n",
    "            combined_dict[key].append(data[key])\n",
    "        which_dataset.extend([idx] * len(data[key]))\n",
    "\n",
    "    combined_transitions_datasets = {key: np.concatenate(values, axis=0) for key, values in combined_dict.items()}\n",
    "    processed_data = make_inputs(combined_transitions_datasets)\n",
    "\n",
    "    return processed_data, np.array(which_dataset)"
   ]
  },
  {
   "cell_type": "code",
   "execution_count": 2,
   "metadata": {},
   "outputs": [],
   "source": [
    "dataset_type = 'expert-iiwa-offline-comp-data'\n",
    "\n",
    "robots = ['IIWA']\n",
    "# objs = ['Box']\n",
    "objs = ['Box', 'Dumbbell', 'Hollowbox', 'Plate']\n",
    "obsts = ['None']\n",
    "tasks = ['Push']"
   ]
  },
  {
   "cell_type": "code",
   "execution_count": 3,
   "metadata": {},
   "outputs": [
    {
     "name": "stderr",
     "output_type": "stream",
     "text": [
      "Loading data: 100%|██████████| 4/4 [00:07<00:00,  1.77s/it]\n"
     ]
    }
   ],
   "source": [
    "composuite_datasets = load_multiple_composuite_datasets(base_path=base_composuite_data_path,\n",
    "                                                        dataset_type=dataset_type,\n",
    "                                                        robots=robots, objs=objs, \n",
    "                                                        obsts=obsts, tasks=tasks)\n",
    "\n",
    "composuite_transitions_datasets = [transitions_dataset(dataset) for dataset in composuite_datasets]\n",
    "flattened_composuite_data, _ = process_data(composuite_transitions_datasets)"
   ]
  },
  {
   "cell_type": "code",
   "execution_count": 4,
   "metadata": {},
   "outputs": [
    {
     "name": "stderr",
     "output_type": "stream",
     "text": [
      "Loading data: 100%|██████████| 4/4 [00:00<00:00, 285.00it/s]\n"
     ]
    }
   ],
   "source": [
    "synthetic_datasets = load_multiple_synthetic_datasets(base_path=base_synthetic_data_path,\n",
    "                                                      robots=robots, objs=objs, \n",
    "                                                      obsts=obsts, tasks=tasks)\n",
    "flattened_synthetic_data, _ = process_data(synthetic_datasets)"
   ]
  },
  {
   "cell_type": "code",
   "execution_count": 5,
   "metadata": {},
   "outputs": [
    {
     "name": "stdout",
     "output_type": "stream",
     "text": [
      "(3999996, 196) (400000, 196)\n"
     ]
    }
   ],
   "source": [
    "print(flattened_composuite_data.shape, flattened_synthetic_data.shape)"
   ]
  },
  {
   "cell_type": "code",
   "execution_count": 6,
   "metadata": {},
   "outputs": [],
   "source": [
    "random_indices = np.random.choice(flattened_composuite_data.shape[0], 25000, replace=False)\n",
    "sampled_composuite_data = flattened_composuite_data[random_indices]\n",
    "\n",
    "random_indices = np.random.choice(flattened_synthetic_data.shape[0], 25000, replace=False)\n",
    "sampled_synthetic_data = flattened_synthetic_data[random_indices]"
   ]
  },
  {
   "cell_type": "code",
   "execution_count": 7,
   "metadata": {},
   "outputs": [
    {
     "name": "stdout",
     "output_type": "stream",
     "text": [
      "(25000, 196) (25000, 196)\n"
     ]
    }
   ],
   "source": [
    "print(sampled_composuite_data.shape, sampled_synthetic_data.shape)"
   ]
  },
  {
   "cell_type": "code",
   "execution_count": 8,
   "metadata": {},
   "outputs": [],
   "source": [
    "class SimpleMLP(nn.Module):\n",
    "    def __init__(self, input_dim):\n",
    "        super(SimpleMLP, self).__init__()\n",
    "        self.fc1 = nn.Linear(input_dim, 128)\n",
    "        self.fc2 = nn.Linear(128, 64)\n",
    "        self.fc3 = nn.Linear(64, 1)\n",
    "        self.relu = nn.ReLU()\n",
    "        self.sigmoid = nn.Sigmoid()\n",
    "\n",
    "    def forward(self, x):\n",
    "        x = self.relu(self.fc1(x))\n",
    "        x = self.relu(self.fc2(x))\n",
    "        x = self.sigmoid(self.fc3(x))\n",
    "        return x\n",
    "    \n",
    "# Training loop\n",
    "def train_model(model, train_loader, criterion, optimizer, epochs=10):\n",
    "    model.train()\n",
    "    for epoch in range(epochs):\n",
    "        for inputs, labels in train_loader:\n",
    "            # Forward pass\n",
    "            outputs = model(inputs)\n",
    "            loss = criterion(outputs, labels)\n",
    "            # Backward pass and optimization\n",
    "            optimizer.zero_grad()\n",
    "            loss.backward()\n",
    "            optimizer.step()\n",
    "        \n",
    "        print(f\"Epoch {epoch + 1}/{epochs}, Loss: {loss.item():.4f}\")\n",
    "\n",
    "# Evaluation loop\n",
    "def evaluate_model(model, test_loader):\n",
    "    model.eval()\n",
    "    correct = 0\n",
    "    total = 0\n",
    "    with torch.no_grad():\n",
    "        for inputs, labels in test_loader:\n",
    "            outputs = model(inputs)\n",
    "            predicted = (outputs > 0.5).float()\n",
    "            correct += (predicted == labels).sum().item()\n",
    "            total += labels.size(0)\n",
    "    print(f\"Accuracy: {correct / total:.4f}\")"
   ]
  },
  {
   "cell_type": "code",
   "execution_count": 9,
   "metadata": {},
   "outputs": [],
   "source": [
    "# sampled_composuite_data = np.random.rand(1000, 196)\n",
    "# sampled_synthetic_data = np.random.rand(1000, 196)"
   ]
  },
  {
   "cell_type": "code",
   "execution_count": 10,
   "metadata": {},
   "outputs": [],
   "source": [
    "composuite_labels = np.zeros((sampled_composuite_data.shape[0], 1))\n",
    "synthetic_labels = np.ones((sampled_synthetic_data.shape[0], 1))\n",
    "\n",
    "data = np.vstack((sampled_composuite_data, sampled_synthetic_data)).astype(np.float32)\n",
    "labels = np.vstack((composuite_labels, synthetic_labels)).astype(np.float32)\n",
    "\n",
    "data_tensor = torch.tensor(data)\n",
    "labels_tensor = torch.tensor(labels)\n",
    "\n",
    "dataset = TensorDataset(data_tensor, labels_tensor)\n",
    "\n",
    "train_size = int(0.8 * len(dataset))\n",
    "test_size = len(dataset) - train_size\n",
    "train_dataset, test_dataset = random_split(dataset, [train_size, test_size])\n",
    "\n",
    "train_loader = DataLoader(train_dataset, batch_size=32, shuffle=True)\n",
    "test_loader = DataLoader(test_dataset, batch_size=32)"
   ]
  },
  {
   "cell_type": "code",
   "execution_count": 11,
   "metadata": {},
   "outputs": [
    {
     "name": "stdout",
     "output_type": "stream",
     "text": [
      "Epoch 1/10, Loss: 0.3018\n",
      "Epoch 2/10, Loss: 0.1135\n",
      "Epoch 3/10, Loss: 0.0141\n",
      "Epoch 4/10, Loss: 0.0061\n",
      "Epoch 5/10, Loss: 0.0043\n",
      "Epoch 6/10, Loss: 0.0340\n",
      "Epoch 7/10, Loss: 0.0142\n",
      "Epoch 8/10, Loss: 0.0006\n",
      "Epoch 9/10, Loss: 0.0017\n",
      "Epoch 10/10, Loss: 0.0139\n",
      "Accuracy: 0.9907\n"
     ]
    }
   ],
   "source": [
    "input_dim = data.shape[1]\n",
    "model = SimpleMLP(input_dim)\n",
    "\n",
    "criterion = nn.BCELoss()\n",
    "optimizer = optim.Adam(model.parameters(), lr=0.001)\n",
    "\n",
    "train_model(model, train_loader, criterion, optimizer, epochs=10)\n",
    "evaluate_model(model, test_loader)"
   ]
  }
 ],
 "metadata": {
  "kernelspec": {
   "display_name": ".venv",
   "language": "python",
   "name": "python3"
  },
  "language_info": {
   "codemirror_mode": {
    "name": "ipython",
    "version": 3
   },
   "file_extension": ".py",
   "mimetype": "text/x-python",
   "name": "python",
   "nbconvert_exporter": "python",
   "pygments_lexer": "ipython3",
   "version": "3.9.6"
  }
 },
 "nbformat": 4,
 "nbformat_minor": 2
}
