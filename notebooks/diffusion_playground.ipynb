{
 "cells": [
  {
   "cell_type": "code",
   "execution_count": 2,
   "metadata": {},
   "outputs": [],
   "source": [
    "import wandb\n",
    "import composuite\n",
    "from diffusion.utils import *\n",
    "from diffusion.elucidated_diffusion import Trainer\n",
    "from diffusion.train_diffuser import SimpleDiffusionGenerator\n",
    "\n",
    "gin.parse_config_file(\"/home/anhquanpham/projects/compositional-rl-synth-data/config/diffusion.gin\")\n",
    "\n",
    "base_data_path = '/home/anhquanpham/projects/compositional-rl-synth-data/data'\n",
    "base_results_folder = '/home/anhquanpham/projects/compositional-rl-synth-data/results'"
   ]
  },
  {
   "cell_type": "code",
   "execution_count": 3,
   "metadata": {},
   "outputs": [
    {
     "name": "stdout",
     "output_type": "stream",
     "text": [
      "Reached\n"
     ]
    }
   ],
   "source": [
    "dataset_type = 'expert'\n",
    "\n",
    "robot = 'IIWA'\n",
    "obj = 'Hollowbox'\n",
    "obst = 'None'\n",
    "task = 'PickPlace'\n",
    "\n",
    "results_folder = os.path.join(base_results_folder, robot + '_' + obj + '_' + obst + '_' + task)\n",
    "\n",
    "dataset = load_single_composuite_dataset(base_path=base_data_path, \n",
    "                                         dataset_type=dataset_type, \n",
    "                                         robot=robot, obj=obj, \n",
    "                                         obst=obst, task=task)\n",
    "dataset = transitions_dataset(dataset)\n",
    "inputs = make_inputs(dataset)\n",
    "inputs = torch.from_numpy(inputs).float()\n",
    "dataset = torch.utils.data.TensorDataset(inputs)\n",
    "print(\"Reached\")"
   ]
  },
  {
   "cell_type": "code",
   "execution_count": 6,
   "metadata": {},
   "outputs": [
    {
     "name": "stdout",
     "output_type": "stream",
     "text": [
      "Skipping normalization for dimensions [195].\n",
      "Means: tensor([ 1.3141e-01,  8.3188e-02,  8.4500e-01, -2.9661e-02, -1.5846e-02,\n",
      "         1.6197e-01,  9.7616e-01,  9.7420e-04, -2.2287e-02,  6.5924e-02,\n",
      "         2.7858e-02, -2.8779e-02,  3.8102e-02,  3.0736e-02,  0.0000e+00,\n",
      "         0.0000e+00,  0.0000e+00,  0.0000e+00,  0.0000e+00,  0.0000e+00,\n",
      "         0.0000e+00, -4.4509e-01, -3.7437e-02,  7.9064e-01, -2.4509e-01,\n",
      "         1.1627e-03, -2.7353e-02,  3.5910e-02,  1.0000e-01,  1.8000e-01,\n",
      "         8.0800e-01,  0.0000e+00,  0.0000e+00,  0.0000e+00,  1.0000e+00,\n",
      "        -4.6166e-02, -1.2863e-01,  7.5249e-02, -2.4509e-01,  1.1627e-03,\n",
      "        -2.7353e-02,  3.5910e-02, -3.1406e-02,  9.6812e-02, -3.6999e-02,\n",
      "         0.0000e+00,  0.0000e+00,  0.0000e+00,  1.0000e+00,  1.0000e+00,\n",
      "         0.0000e+00,  0.0000e+00,  0.0000e+00,  1.0000e+00,  0.0000e+00,\n",
      "         0.0000e+00,  0.0000e+00,  1.0000e+00,  0.0000e+00,  0.0000e+00,\n",
      "         0.0000e+00,  9.2718e-01,  4.8639e-01,  9.9534e-01,  1.3250e-01,\n",
      "         9.8329e-01,  9.4554e-01,  9.7161e-01,  2.6192e-01,  8.6412e-01,\n",
      "        -1.8585e-02, -9.7930e-01, -1.3054e-01,  3.1584e-01,  9.5753e-02,\n",
      "         1.9737e-02,  1.9121e-02, -3.0574e-03,  2.1307e-02, -9.3570e-03,\n",
      "        -1.1271e-02,  1.2076e-02,  1.1864e-01,  6.4427e-02,  9.1103e-01,\n",
      "         9.6826e-01,  1.3928e-01,  1.6703e-01,  5.8316e-03, -6.3001e-03,\n",
      "         7.2415e-03, -5.8039e-04,  1.0097e-03,  2.2984e-01,  3.0987e-01,\n",
      "         1.4568e-01,  1.2547e-01, -6.2574e-02, -9.3910e-02,  1.0780e-01,\n",
      "         6.7540e-01,  7.6782e-01,  1.3141e-01,  8.3189e-02,  8.4500e-01,\n",
      "        -2.9661e-02, -1.5847e-02,  1.6197e-01,  9.7616e-01,  9.7405e-04,\n",
      "        -2.2288e-02,  6.5924e-02,  2.7856e-02, -2.8779e-02,  3.8102e-02,\n",
      "         3.0736e-02,  0.0000e+00,  0.0000e+00,  0.0000e+00,  0.0000e+00,\n",
      "         0.0000e+00,  0.0000e+00,  0.0000e+00, -4.4509e-01, -3.7437e-02,\n",
      "         7.9064e-01, -2.4510e-01,  1.1625e-03, -2.7353e-02,  3.5911e-02,\n",
      "         1.0000e-01,  1.8000e-01,  8.0800e-01,  0.0000e+00,  0.0000e+00,\n",
      "         0.0000e+00,  1.0000e+00, -4.6167e-02, -1.2863e-01,  7.5249e-02,\n",
      "        -2.4510e-01,  1.1625e-03, -2.7353e-02,  3.5911e-02, -3.1406e-02,\n",
      "         9.6811e-02, -3.6999e-02,  0.0000e+00,  0.0000e+00,  0.0000e+00,\n",
      "         1.0000e+00,  1.0000e+00,  0.0000e+00,  0.0000e+00,  0.0000e+00,\n",
      "         1.0000e+00,  0.0000e+00,  0.0000e+00,  0.0000e+00,  1.0000e+00,\n",
      "         0.0000e+00,  0.0000e+00,  0.0000e+00,  9.2718e-01,  4.8639e-01,\n",
      "         9.9534e-01,  1.3250e-01,  9.8329e-01,  9.4554e-01,  9.7161e-01,\n",
      "         2.6192e-01,  8.6412e-01, -1.8585e-02, -9.7930e-01, -1.3054e-01,\n",
      "         3.1584e-01,  9.5754e-02,  1.9737e-02,  1.9121e-02, -3.0574e-03,\n",
      "         2.1307e-02, -9.3570e-03, -1.1271e-02,  1.2076e-02,  1.1864e-01,\n",
      "         6.4427e-02,  9.1103e-01,  9.6826e-01,  1.3928e-01,  1.6703e-01,\n",
      "         5.8316e-03, -6.3001e-03,  7.2416e-03, -5.8037e-04,  1.0098e-03,\n",
      "         0.0000e+00])\n",
      "Stds: tensor([3.8797e-02, 1.9114e-01, 3.3585e-02, 5.8895e-02, 6.9952e-02, 1.0073e-01,\n",
      "        3.5317e-02, 3.3013e-02, 3.1942e-02, 3.4365e-02, 9.8054e-01, 6.3584e-02,\n",
      "        1.7002e-01, 4.0114e-02, 1.0000e-05, 1.0000e-05, 1.0000e-05, 1.0000e-05,\n",
      "        1.0000e-05, 1.0000e-05, 1.0000e-05, 1.5171e-01, 1.7863e-01, 6.1633e-02,\n",
      "        9.3689e-01, 1.7031e-01, 1.7422e-01, 2.8323e-02, 1.0000e-05, 1.0000e-05,\n",
      "        1.0000e-05, 1.0000e-05, 1.0000e-05, 1.0000e-05, 1.0000e-05, 5.9656e-02,\n",
      "        1.7401e-01, 3.5835e-02, 9.3689e-01, 1.7031e-01, 1.7422e-01, 2.8323e-02,\n",
      "        3.8797e-02, 1.9114e-01, 3.3585e-02, 1.0000e-05, 1.0000e-05, 1.0000e-05,\n",
      "        1.0000e-05, 1.0000e-05, 1.0000e-05, 1.0000e-05, 1.0000e-05, 1.0000e-05,\n",
      "        1.0000e-05, 1.0000e-05, 1.0000e-05, 1.0000e-05, 1.0000e-05, 1.0000e-05,\n",
      "        1.0000e-05, 5.2678e-02, 1.0652e-01, 9.1740e-03, 1.5235e-01, 1.8093e-02,\n",
      "        2.8521e-02, 2.5268e-02, 2.6261e-01, 7.3394e-02, 9.4201e-02, 1.4296e-02,\n",
      "        1.2564e-01, 7.3427e-02, 2.1488e-01, 7.8445e-02, 7.3250e-02, 7.3208e-02,\n",
      "        7.2471e-02, 8.1227e-02, 7.5137e-02, 7.8864e-02, 5.0449e-02, 1.7553e-01,\n",
      "        4.2281e-02, 1.6681e-02, 9.8020e-02, 5.6563e-02, 4.5366e-02, 7.8496e-03,\n",
      "        8.2178e-03, 1.4793e-02, 1.3409e-02, 1.1802e+00, 1.2037e+00, 1.2060e+00,\n",
      "        1.2601e+00, 1.1673e+00, 1.2039e+00, 1.1907e+00, 9.5308e-01, 3.8826e-01,\n",
      "        3.8797e-02, 1.9114e-01, 3.3585e-02, 5.8896e-02, 6.9952e-02, 1.0073e-01,\n",
      "        3.5317e-02, 3.3013e-02, 3.1941e-02, 3.4365e-02, 9.8054e-01, 6.3584e-02,\n",
      "        1.7002e-01, 4.0114e-02, 1.0000e-05, 1.0000e-05, 1.0000e-05, 1.0000e-05,\n",
      "        1.0000e-05, 1.0000e-05, 1.0000e-05, 1.5171e-01, 1.7863e-01, 6.1632e-02,\n",
      "        9.3689e-01, 1.7031e-01, 1.7422e-01, 2.8323e-02, 1.0000e-05, 1.0000e-05,\n",
      "        1.0000e-05, 1.0000e-05, 1.0000e-05, 1.0000e-05, 1.0000e-05, 5.9655e-02,\n",
      "        1.7401e-01, 3.5835e-02, 9.3689e-01, 1.7031e-01, 1.7422e-01, 2.8323e-02,\n",
      "        3.8797e-02, 1.9114e-01, 3.3585e-02, 1.0000e-05, 1.0000e-05, 1.0000e-05,\n",
      "        1.0000e-05, 1.0000e-05, 1.0000e-05, 1.0000e-05, 1.0000e-05, 1.0000e-05,\n",
      "        1.0000e-05, 1.0000e-05, 1.0000e-05, 1.0000e-05, 1.0000e-05, 1.0000e-05,\n",
      "        1.0000e-05, 5.2678e-02, 1.0652e-01, 9.1740e-03, 1.5235e-01, 1.8093e-02,\n",
      "        2.8521e-02, 2.5268e-02, 2.6261e-01, 7.3394e-02, 9.4201e-02, 1.4296e-02,\n",
      "        1.2564e-01, 7.3426e-02, 2.1488e-01, 7.8445e-02, 7.3250e-02, 7.3208e-02,\n",
      "        7.2471e-02, 8.1227e-02, 7.5137e-02, 7.8864e-02, 5.0449e-02, 1.7553e-01,\n",
      "        4.2281e-02, 1.6681e-02, 9.8020e-02, 5.6563e-02, 4.5366e-02, 7.8496e-03,\n",
      "        8.2177e-03, 1.4793e-02, 1.3409e-02, 1.0000e+00])\n",
      "Reached\n"
     ]
    }
   ],
   "source": [
    "diffusion = construct_diffusion_model(inputs=inputs)\n",
    "print(\"Reached\")"
   ]
  },
  {
   "cell_type": "code",
   "execution_count": 8,
   "metadata": {
    "scrolled": true
   },
   "outputs": [
    {
     "name": "stderr",
     "output_type": "stream",
     "text": [
      "\u001b[34m\u001b[1mwandb\u001b[0m: Using wandb-core as the SDK backend.  Please refer to https://wandb.me/wandb-core for more information.\n",
      "\u001b[34m\u001b[1mwandb\u001b[0m: Currently logged in as: \u001b[33mphamanhquanbill\u001b[0m (\u001b[33mphamanhquanbill-university-of-pennsylvania\u001b[0m). Use \u001b[1m`wandb login --relogin`\u001b[0m to force relogin\n",
      "/home/anhquanpham/.pyenv/versions/first_3.9.6/lib/python3.9/site-packages/wandb/sdk/lib/ipython.py:84: DeprecationWarning: Importing display from IPython.core.display is deprecated since IPython 7.14, please import from IPython display\n",
      "  from IPython.core.display import HTML, display  # type: ignore\n"
     ]
    },
    {
     "data": {
      "text/html": [
       "Tracking run with wandb version 0.18.7"
      ],
      "text/plain": [
       "<IPython.core.display.HTML object>"
      ]
     },
     "metadata": {},
     "output_type": "display_data"
    },
    {
     "data": {
      "text/html": [
       "Run data is saved locally in <code>/home/anhquanpham/projects/compositional-rl-synth-data/notebooks/wandb/run-20250124_150245-pva77ypc</code>"
      ],
      "text/plain": [
       "<IPython.core.display.HTML object>"
      ]
     },
     "metadata": {},
     "output_type": "display_data"
    },
    {
     "data": {
      "text/html": [
       "Syncing run <strong><a href='https://wandb.ai/phamanhquanbill-university-of-pennsylvania/offline_rl_diffusion/runs/pva77ypc' target=\"_blank\">IIWA_Hollowbox_None_PickPlace</a></strong> to <a href='https://wandb.ai/phamanhquanbill-university-of-pennsylvania/offline_rl_diffusion' target=\"_blank\">Weights & Biases</a> (<a href='https://wandb.me/developer-guide' target=\"_blank\">docs</a>)<br/>"
      ],
      "text/plain": [
       "<IPython.core.display.HTML object>"
      ]
     },
     "metadata": {},
     "output_type": "display_data"
    },
    {
     "data": {
      "text/html": [
       " View project at <a href='https://wandb.ai/phamanhquanbill-university-of-pennsylvania/offline_rl_diffusion' target=\"_blank\">https://wandb.ai/phamanhquanbill-university-of-pennsylvania/offline_rl_diffusion</a>"
      ],
      "text/plain": [
       "<IPython.core.display.HTML object>"
      ]
     },
     "metadata": {},
     "output_type": "display_data"
    },
    {
     "data": {
      "text/html": [
       " View run at <a href='https://wandb.ai/phamanhquanbill-university-of-pennsylvania/offline_rl_diffusion/runs/pva77ypc' target=\"_blank\">https://wandb.ai/phamanhquanbill-university-of-pennsylvania/offline_rl_diffusion/runs/pva77ypc</a>"
      ],
      "text/plain": [
       "<IPython.core.display.HTML object>"
      ]
     },
     "metadata": {},
     "output_type": "display_data"
    },
    {
     "data": {
      "text/html": [
       "<button onClick=\"this.nextSibling.style.display='block';this.style.display='none';\">Display W&B run</button><iframe src='https://wandb.ai/phamanhquanbill-university-of-pennsylvania/offline_rl_diffusion/runs/pva77ypc?jupyter=true' style='border:none;width:100%;height:420px;display:none;'></iframe>"
      ],
      "text/plain": [
       "<wandb.sdk.wandb_run.Run at 0x76bc6328f250>"
      ]
     },
     "execution_count": 8,
     "metadata": {},
     "output_type": "execute_result"
    }
   ],
   "source": [
    "wandb_project = 'offline_rl_diffusion'\n",
    "wandb_entity = ''\n",
    "wandb_group = 'diffusion_training'\n",
    "\n",
    "wandb.init(\n",
    "    project=wandb_project,\n",
    "    entity=wandb_entity,\n",
    "    group=wandb_group,\n",
    "    name=results_folder.split('/')[-1],\n",
    ")"
   ]
  },
  {
   "cell_type": "code",
   "execution_count": 10,
   "metadata": {},
   "outputs": [
    {
     "name": "stdout",
     "output_type": "stream",
     "text": [
      "Number of trainable parameters: 25887940.\n",
      "Using batch size: 1024\n"
     ]
    },
    {
     "name": "stderr",
     "output_type": "stream",
     "text": [
      "loss: 0.3490:  11%|█▉               | 11204/100000 [3:08:30<24:54:01,  1.01s/it]\n",
      "\n",
      "KeyboardInterrupt\n",
      "\n"
     ]
    }
   ],
   "source": [
    "trainer = Trainer(diffusion, dataset, results_folder=results_folder)\n",
    "trainer.train()"
   ]
  },
  {
   "cell_type": "code",
   "execution_count": null,
   "metadata": {},
   "outputs": [],
   "source": [
    "env = composuite.make(robot, obj, obst, task, use_task_id_obs=True, ignore_done=False)"
   ]
  },
  {
   "cell_type": "code",
   "execution_count": null,
   "metadata": {},
   "outputs": [],
   "source": [
    "generator = SimpleDiffusionGenerator(env=env, ema_model=trainer.ema.ema_model)\n",
    "observations, actions, rewards, next_observations, terminals = generator.sample(num_samples=100000)"
   ]
  },
  {
   "cell_type": "code",
   "execution_count": null,
   "metadata": {},
   "outputs": [],
   "source": [
    "np.savez_compressed(\n",
    "    os.path.join(results_folder, 'samples.npz'),\n",
    "    observations=observations,\n",
    "    actions=actions,\n",
    "    rewards=rewards,\n",
    "    next_observations=next_observations,\n",
    "    terminals=terminals\n",
    ")"
   ]
  }
 ],
 "metadata": {
  "kernelspec": {
   "display_name": "First 3.9.6",
   "language": "python",
   "name": "first_3.9.6"
  },
  "language_info": {
   "codemirror_mode": {
    "name": "ipython",
    "version": 3
   },
   "file_extension": ".py",
   "mimetype": "text/x-python",
   "name": "python",
   "nbconvert_exporter": "python",
   "pygments_lexer": "ipython3",
   "version": "3.9.6"
  }
 },
 "nbformat": 4,
 "nbformat_minor": 4
}
